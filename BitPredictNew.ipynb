{
  "nbformat": 4,
  "nbformat_minor": 0,
  "metadata": {
    "colab": {
      "name": "BitPredictNew.ipynb",
      "provenance": [],
      "include_colab_link": true
    },
    "kernelspec": {
      "name": "python3",
      "display_name": "Python 3"
    },
    "language_info": {
      "name": "python"
    }
  },
  "cells": [
    {
      "cell_type": "markdown",
      "metadata": {
        "id": "view-in-github",
        "colab_type": "text"
      },
      "source": [
        "<a href=\"https://colab.research.google.com/github/Vik-Gt-321/Time-Series-Forecasting-of-Bitcoin/blob/main/BitPredictNew.ipynb\" target=\"_parent\"><img src=\"https://colab.research.google.com/assets/colab-badge.svg\" alt=\"Open In Colab\"/></a>"
      ]
    },
    {
      "cell_type": "code",
      "metadata": {
        "id": "k40lz7rByo-Z"
      },
      "source": [
        "import pandas as pd\n",
        "import numpy as np\n",
        "import matplotlib.pyplot as plt\n",
        "import random\n",
        "import os\n",
        "import tensorflow as tf\n",
        "from tensorflow import keras\n",
        "from tensorflow.keras import layers\n",
        "from tensorflow.keras.layers import Dense, Conv1D, Flatten, MaxPool1D"
      ],
      "execution_count": null,
      "outputs": []
    },
    {
      "cell_type": "code",
      "metadata": {
        "colab": {
          "base_uri": "https://localhost:8080/"
        },
        "id": "hQMZGE8SG5aB",
        "outputId": "d9434c25-5964-4ce4-9d80-50747829a308"
      },
      "source": [
        "!wget https://raw.githubusercontent.com/mrdbourke/tensorflow-deep-learning/main/extras/BTC_USD_2013-10-01_2021-05-18-CoinDesk.csv"
      ],
      "execution_count": null,
      "outputs": [
        {
          "output_type": "stream",
          "text": [
            "--2021-08-11 13:53:17--  https://raw.githubusercontent.com/mrdbourke/tensorflow-deep-learning/main/extras/BTC_USD_2013-10-01_2021-05-18-CoinDesk.csv\n",
            "Resolving raw.githubusercontent.com (raw.githubusercontent.com)... 185.199.108.133, 185.199.109.133, 185.199.110.133, ...\n",
            "Connecting to raw.githubusercontent.com (raw.githubusercontent.com)|185.199.108.133|:443... connected.\n",
            "HTTP request sent, awaiting response... 200 OK\n",
            "Length: 178509 (174K) [text/plain]\n",
            "Saving to: ‘BTC_USD_2013-10-01_2021-05-18-CoinDesk.csv.1’\n",
            "\n",
            "\r          BTC_USD_2   0%[                    ]       0  --.-KB/s               \rBTC_USD_2013-10-01_ 100%[===================>] 174.33K  --.-KB/s    in 0.004s  \n",
            "\n",
            "2021-08-11 13:53:17 (46.2 MB/s) - ‘BTC_USD_2013-10-01_2021-05-18-CoinDesk.csv.1’ saved [178509/178509]\n",
            "\n"
          ],
          "name": "stdout"
        }
      ]
    },
    {
      "cell_type": "code",
      "metadata": {
        "id": "1FKHvfrvHLBG"
      },
      "source": [
        "df = pd.read_csv(\"/content/BTC_USD_2013-10-01_2021-05-18-CoinDesk.csv\", parse_dates=True, index_col=\"Date\")"
      ],
      "execution_count": null,
      "outputs": []
    },
    {
      "cell_type": "code",
      "metadata": {
        "colab": {
          "base_uri": "https://localhost:8080/",
          "height": 233
        },
        "id": "4sObEZcEHaOe",
        "outputId": "1abbcde8-8f01-42c9-c0f7-7c0b774d45cf"
      },
      "source": [
        "df.head()"
      ],
      "execution_count": null,
      "outputs": [
        {
          "output_type": "execute_result",
          "data": {
            "text/html": [
              "<div>\n",
              "<style scoped>\n",
              "    .dataframe tbody tr th:only-of-type {\n",
              "        vertical-align: middle;\n",
              "    }\n",
              "\n",
              "    .dataframe tbody tr th {\n",
              "        vertical-align: top;\n",
              "    }\n",
              "\n",
              "    .dataframe thead th {\n",
              "        text-align: right;\n",
              "    }\n",
              "</style>\n",
              "<table border=\"1\" class=\"dataframe\">\n",
              "  <thead>\n",
              "    <tr style=\"text-align: right;\">\n",
              "      <th></th>\n",
              "      <th>Currency</th>\n",
              "      <th>Closing Price (USD)</th>\n",
              "      <th>24h Open (USD)</th>\n",
              "      <th>24h High (USD)</th>\n",
              "      <th>24h Low (USD)</th>\n",
              "    </tr>\n",
              "    <tr>\n",
              "      <th>Date</th>\n",
              "      <th></th>\n",
              "      <th></th>\n",
              "      <th></th>\n",
              "      <th></th>\n",
              "      <th></th>\n",
              "    </tr>\n",
              "  </thead>\n",
              "  <tbody>\n",
              "    <tr>\n",
              "      <th>2013-10-01</th>\n",
              "      <td>BTC</td>\n",
              "      <td>123.65499</td>\n",
              "      <td>124.30466</td>\n",
              "      <td>124.75166</td>\n",
              "      <td>122.56349</td>\n",
              "    </tr>\n",
              "    <tr>\n",
              "      <th>2013-10-02</th>\n",
              "      <td>BTC</td>\n",
              "      <td>125.45500</td>\n",
              "      <td>123.65499</td>\n",
              "      <td>125.75850</td>\n",
              "      <td>123.63383</td>\n",
              "    </tr>\n",
              "    <tr>\n",
              "      <th>2013-10-03</th>\n",
              "      <td>BTC</td>\n",
              "      <td>108.58483</td>\n",
              "      <td>125.45500</td>\n",
              "      <td>125.66566</td>\n",
              "      <td>83.32833</td>\n",
              "    </tr>\n",
              "    <tr>\n",
              "      <th>2013-10-04</th>\n",
              "      <td>BTC</td>\n",
              "      <td>118.67466</td>\n",
              "      <td>108.58483</td>\n",
              "      <td>118.67500</td>\n",
              "      <td>107.05816</td>\n",
              "    </tr>\n",
              "    <tr>\n",
              "      <th>2013-10-05</th>\n",
              "      <td>BTC</td>\n",
              "      <td>121.33866</td>\n",
              "      <td>118.67466</td>\n",
              "      <td>121.93633</td>\n",
              "      <td>118.00566</td>\n",
              "    </tr>\n",
              "  </tbody>\n",
              "</table>\n",
              "</div>"
            ],
            "text/plain": [
              "           Currency  Closing Price (USD)  ...  24h High (USD)  24h Low (USD)\n",
              "Date                                      ...                               \n",
              "2013-10-01      BTC            123.65499  ...       124.75166      122.56349\n",
              "2013-10-02      BTC            125.45500  ...       125.75850      123.63383\n",
              "2013-10-03      BTC            108.58483  ...       125.66566       83.32833\n",
              "2013-10-04      BTC            118.67466  ...       118.67500      107.05816\n",
              "2013-10-05      BTC            121.33866  ...       121.93633      118.00566\n",
              "\n",
              "[5 rows x 5 columns]"
            ]
          },
          "metadata": {
            "tags": []
          },
          "execution_count": 20
        }
      ]
    },
    {
      "cell_type": "code",
      "metadata": {
        "colab": {
          "base_uri": "https://localhost:8080/"
        },
        "id": "dJOP54NJHgGG",
        "outputId": "6cd84c0f-01e1-427c-f820-f6a59f84a578"
      },
      "source": [
        "len(df)"
      ],
      "execution_count": null,
      "outputs": [
        {
          "output_type": "execute_result",
          "data": {
            "text/plain": [
              "2787"
            ]
          },
          "metadata": {
            "tags": []
          },
          "execution_count": 21
        }
      ]
    },
    {
      "cell_type": "code",
      "metadata": {
        "id": "33zp1hHiHlCZ"
      },
      "source": [
        "bitcoin_prices = pd.DataFrame(df[\"Closing Price (USD)\"]).rename(columns = {\"Closing Price (USD)\":\"Price\"})"
      ],
      "execution_count": null,
      "outputs": []
    },
    {
      "cell_type": "code",
      "metadata": {
        "colab": {
          "base_uri": "https://localhost:8080/",
          "height": 233
        },
        "id": "80Bdr4BSISix",
        "outputId": "90fa7a72-1851-4526-ece3-378598d39bee"
      },
      "source": [
        "bitcoin_prices.head()"
      ],
      "execution_count": null,
      "outputs": [
        {
          "output_type": "execute_result",
          "data": {
            "text/html": [
              "<div>\n",
              "<style scoped>\n",
              "    .dataframe tbody tr th:only-of-type {\n",
              "        vertical-align: middle;\n",
              "    }\n",
              "\n",
              "    .dataframe tbody tr th {\n",
              "        vertical-align: top;\n",
              "    }\n",
              "\n",
              "    .dataframe thead th {\n",
              "        text-align: right;\n",
              "    }\n",
              "</style>\n",
              "<table border=\"1\" class=\"dataframe\">\n",
              "  <thead>\n",
              "    <tr style=\"text-align: right;\">\n",
              "      <th></th>\n",
              "      <th>Price</th>\n",
              "    </tr>\n",
              "    <tr>\n",
              "      <th>Date</th>\n",
              "      <th></th>\n",
              "    </tr>\n",
              "  </thead>\n",
              "  <tbody>\n",
              "    <tr>\n",
              "      <th>2013-10-01</th>\n",
              "      <td>123.65499</td>\n",
              "    </tr>\n",
              "    <tr>\n",
              "      <th>2013-10-02</th>\n",
              "      <td>125.45500</td>\n",
              "    </tr>\n",
              "    <tr>\n",
              "      <th>2013-10-03</th>\n",
              "      <td>108.58483</td>\n",
              "    </tr>\n",
              "    <tr>\n",
              "      <th>2013-10-04</th>\n",
              "      <td>118.67466</td>\n",
              "    </tr>\n",
              "    <tr>\n",
              "      <th>2013-10-05</th>\n",
              "      <td>121.33866</td>\n",
              "    </tr>\n",
              "  </tbody>\n",
              "</table>\n",
              "</div>"
            ],
            "text/plain": [
              "                Price\n",
              "Date                 \n",
              "2013-10-01  123.65499\n",
              "2013-10-02  125.45500\n",
              "2013-10-03  108.58483\n",
              "2013-10-04  118.67466\n",
              "2013-10-05  121.33866"
            ]
          },
          "metadata": {
            "tags": []
          },
          "execution_count": 23
        }
      ]
    },
    {
      "cell_type": "markdown",
      "metadata": {
        "id": "8FNoENvFIXSv"
      },
      "source": [
        "## Format data"
      ]
    },
    {
      "cell_type": "code",
      "metadata": {
        "id": "zDzmEQViIe6H"
      },
      "source": [
        "timesteps = bitcoin_prices.index.to_numpy()\n",
        "prices = bitcoin_prices.Price.to_numpy()"
      ],
      "execution_count": null,
      "outputs": []
    },
    {
      "cell_type": "code",
      "metadata": {
        "colab": {
          "base_uri": "https://localhost:8080/"
        },
        "id": "O84JGcFZIoc0",
        "outputId": "a0adee31-598a-4ca6-e228-eac87c038c0f"
      },
      "source": [
        "timesteps[:2], prices[:2]"
      ],
      "execution_count": null,
      "outputs": [
        {
          "output_type": "execute_result",
          "data": {
            "text/plain": [
              "(array(['2013-10-01T00:00:00.000000000', '2013-10-02T00:00:00.000000000'],\n",
              "       dtype='datetime64[ns]'), array([123.65499, 125.455  ]))"
            ]
          },
          "metadata": {
            "tags": []
          },
          "execution_count": 25
        }
      ]
    },
    {
      "cell_type": "code",
      "metadata": {
        "id": "NaC3nAyUIsaR"
      },
      "source": [
        "def plot_time_series(timesteps, values, format = \".\", start =0, end =None, label= None):\n",
        "  plt.plot(timesteps[start:end], values[start:end], format  , label = label)\n",
        "  plt.xlabel(\"Time\")\n",
        "  plt.ylabel(\"BTC Price\")\n",
        "  if label:\n",
        "    plt.legend(fontsize =14)\n",
        "  plt.grid()"
      ],
      "execution_count": null,
      "outputs": []
    },
    {
      "cell_type": "code",
      "metadata": {
        "colab": {
          "base_uri": "https://localhost:8080/"
        },
        "id": "j4UFoHB2J7C0",
        "outputId": "41b3cf54-50cc-4339-9e5c-ae5f33471ccc"
      },
      "source": [
        "split_size = int(0.8 * len(prices)) # 80% train, 20% test\n",
        "\n",
        "# Create train data splits (everything before the split)\n",
        "X_train, y_train = timesteps[:split_size], prices[:split_size]\n",
        "\n",
        "# Create test data splits (everything after the split)\n",
        "X_test, y_test = timesteps[split_size:], prices[split_size:]\n",
        "\n",
        "len(X_train), len(X_test), len(y_train), len(y_test)"
      ],
      "execution_count": null,
      "outputs": [
        {
          "output_type": "execute_result",
          "data": {
            "text/plain": [
              "(2229, 558, 2229, 558)"
            ]
          },
          "metadata": {
            "tags": []
          },
          "execution_count": 27
        }
      ]
    },
    {
      "cell_type": "code",
      "metadata": {
        "colab": {
          "base_uri": "https://localhost:8080/",
          "height": 442
        },
        "id": "UgCyQNktKBfo",
        "outputId": "7ec90603-06fd-498e-80db-adbf4f80a16e"
      },
      "source": [
        "plt.figure(figsize=(10, 7))\n",
        "plot_time_series(X_train,y_train, label=\"Train data\")\n",
        "plot_time_series(X_test, y_test, label=\"Test data\")"
      ],
      "execution_count": null,
      "outputs": [
        {
          "output_type": "display_data",
          "data": {
            "image/png": "[encoded data removed]",
            "text/plain": [
              "<Figure size 720x504 with 1 Axes>"
            ]
          },
          "metadata": {
            "tags": [],
            "needs_background": "light"
          }
        }
      ]
    },
    {
      "cell_type": "code",
      "metadata": {
        "colab": {
          "base_uri": "https://localhost:8080/",
          "height": 442
        },
        "id": "jgdpwD29KEWY",
        "outputId": "d8d8f5d1-7153-4445-d021-d80dab483361"
      },
      "source": [
        "naive_forecast  =y_test[:-1]\n",
        "plt.figure(figsize=(10, 7))\n",
        "offset = 300 # offset the values by 300 timesteps \n",
        "plot_time_series(timesteps=X_test, values=y_test, start=offset, label=\"Test data\")\n",
        "plot_time_series(timesteps=X_test[1:], values=naive_forecast, format=\"-\", start=offset, label=\"Naive forecast\");"
      ],
      "execution_count": null,
      "outputs": [
        {
          "output_type": "display_data",
          "data": {
            "image/png": "[encoded data removed]",
            "text/plain": [
              "<Figure size 720x504 with 1 Axes>"
            ]
          },
          "metadata": {
            "tags": [],
            "needs_background": "light"
          }
        }
      ]
    },
    {
      "cell_type": "code",
      "metadata": {
        "id": "FHNYCHb5OTqA"
      },
      "source": [
        "def mean_absolute_scaled_error(y_true, y_pred):\n",
        "  \"\"\"\n",
        "  Implement MASE (assuming no seasonality of data).\n",
        "  \"\"\"\n",
        "  mae = tf.reduce_mean(tf.abs(y_true - y_pred))\n",
        "\n",
        "  # Find MAE of naive forecast (no seasonality)\n",
        "  mae_naive_no_season = tf.reduce_mean(tf.abs(y_true[1:] - y_true[:-1])) # our seasonality is 1 day (hence the shifting of 1 day)\n",
        "\n",
        "  return mae / mae_naive_no_season"
      ],
      "execution_count": null,
      "outputs": []
    },
    {
      "cell_type": "code",
      "metadata": {
        "id": "_ODlvQIPOvPX"
      },
      "source": [
        "def evaluate_preds(y_true, y_pred):\n",
        "  # Make sure float32 (for metric calculations)\n",
        "  y_true = tf.cast(y_true, dtype=tf.float32)\n",
        "  y_pred = tf.cast(y_pred, dtype=tf.float32)\n",
        "\n",
        "  # Calculate various metrics\n",
        "  mae = tf.keras.metrics.mean_absolute_error(y_true, y_pred)\n",
        "  mse = tf.keras.metrics.mean_squared_error(y_true, y_pred) # puts and emphasis on outliers (all errors get squared)\n",
        "  rmse = tf.sqrt(mse)\n",
        "  mape = tf.keras.metrics.mean_absolute_percentage_error(y_true, y_pred)\n",
        "  mase = mean_absolute_scaled_error(y_true, y_pred)\n",
        "  \n",
        "  return {\"mae\": mae.numpy(),\n",
        "          \"mse\": mse.numpy(),\n",
        "          \"rmse\": rmse.numpy(),\n",
        "          \"mape\": mape.numpy(),\n",
        "          \"mase\": mase.numpy()}"
      ],
      "execution_count": null,
      "outputs": []
    },
    {
      "cell_type": "code",
      "metadata": {
        "colab": {
          "base_uri": "https://localhost:8080/"
        },
        "id": "iP571dr3Ox2C",
        "outputId": "2d06b3ae-fbf6-47da-8e38-fcddce7d1f5e"
      },
      "source": [
        "naive_results = evaluate_preds(y_true=y_test[1:],\n",
        "                               y_pred=naive_forecast)\n",
        "naive_results"
      ],
      "execution_count": null,
      "outputs": [
        {
          "output_type": "execute_result",
          "data": {
            "text/plain": [
              "{'mae': 567.9802,\n",
              " 'mape': 2.516525,\n",
              " 'mase': 0.99957,\n",
              " 'mse': 1147547.0,\n",
              " 'rmse': 1071.2362}"
            ]
          },
          "metadata": {
            "tags": []
          },
          "execution_count": 32
        }
      ]
    },
    {
      "cell_type": "markdown",
      "metadata": {
        "id": "kLg29l9WO1Iv"
      },
      "source": [
        "## Format data 2"
      ]
    },
    {
      "cell_type": "code",
      "metadata": {
        "id": "BfvIridwO_YN"
      },
      "source": [
        "HORIZON = 1\n",
        "WINDOW_SIZE = 7\n",
        "def get_labelled_window(x, horizon = HORIZON):\n",
        "  return x[:, :-horizon], x[: ,-horizon:]"
      ],
      "execution_count": null,
      "outputs": []
    },
    {
      "cell_type": "code",
      "metadata": {
        "id": "KZe0Siu5R7FK"
      },
      "source": [
        "test_window, test_label  = get_labelled_window(tf.expand_dims(tf.range(8)+1, axis =0))"
      ],
      "execution_count": null,
      "outputs": []
    },
    {
      "cell_type": "code",
      "metadata": {
        "colab": {
          "base_uri": "https://localhost:8080/"
        },
        "id": "xymfkd4jSGpv",
        "outputId": "8b60d08d-710c-4389-9ce0-cbcb80a31ab9"
      },
      "source": [
        "test_window, test_label"
      ],
      "execution_count": null,
      "outputs": [
        {
          "output_type": "execute_result",
          "data": {
            "text/plain": [
              "(<tf.Tensor: shape=(1, 7), dtype=int32, numpy=array([[1, 2, 3, 4, 5, 6, 7]], dtype=int32)>,\n",
              " <tf.Tensor: shape=(1, 1), dtype=int32, numpy=array([[8]], dtype=int32)>)"
            ]
          },
          "metadata": {
            "tags": []
          },
          "execution_count": 35
        }
      ]
    },
    {
      "cell_type": "code",
      "metadata": {
        "colab": {
          "base_uri": "https://localhost:8080/"
        },
        "id": "V4T6MlM6SluG",
        "outputId": "b77258ef-172e-41d8-f244-ae24cb69db05"
      },
      "source": [
        "tf.expand_dims(tf.range(8)+1, axis =0)"
      ],
      "execution_count": null,
      "outputs": [
        {
          "output_type": "execute_result",
          "data": {
            "text/plain": [
              "<tf.Tensor: shape=(1, 8), dtype=int32, numpy=array([[1, 2, 3, 4, 5, 6, 7, 8]], dtype=int32)>"
            ]
          },
          "metadata": {
            "tags": []
          },
          "execution_count": 36
        }
      ]
    },
    {
      "cell_type": "code",
      "metadata": {
        "colab": {
          "base_uri": "https://localhost:8080/"
        },
        "id": "rrTCq4EQSruV",
        "outputId": "9aaeee87-02ac-412e-d997-d7d9c0ab93c8"
      },
      "source": [
        "tf.range(8)+1"
      ],
      "execution_count": null,
      "outputs": [
        {
          "output_type": "execute_result",
          "data": {
            "text/plain": [
              "<tf.Tensor: shape=(8,), dtype=int32, numpy=array([1, 2, 3, 4, 5, 6, 7, 8], dtype=int32)>"
            ]
          },
          "metadata": {
            "tags": []
          },
          "execution_count": 37
        }
      ]
    },
    {
      "cell_type": "code",
      "metadata": {
        "id": "DrpEZJwjSuIn"
      },
      "source": [
        "def make_windows(x, window_size=7, horizon=1):\n",
        "  \"\"\"\n",
        "  Turns a 1D array into a 2D array of sequential windows of window_size.\n",
        "  \"\"\"\n",
        "  # 1. Create a window of specific window_size (add the horizon on the end for later labelling)\n",
        "  window_step = np.expand_dims(np.arange(window_size+horizon), axis=0)\n",
        "  # print(f\"Window step:\\n {window_step}\")\n",
        "\n",
        "  # 2. Create a 2D array of multiple window steps (minus 1 to account for 0 indexing)\n",
        "  window_indexes = window_step + np.expand_dims(np.arange(len(x)-(window_size+horizon-1)), axis=0).T # create 2D array of windows of size window_size\n",
        "  # print(f\"Window indexes:\\n {window_indexes[:3], window_indexes[-3:], window_indexes.shape}\")\n",
        "\n",
        "  # 3. Index on the target array (time series) with 2D array of multiple window steps\n",
        "  windowed_array = x[window_indexes]\n",
        "\n",
        "  # 4. Get the labelled windows\n",
        "  windows, labels = get_labelled_window(windowed_array, horizon=horizon)\n",
        "\n",
        "  return windows, labels"
      ],
      "execution_count": null,
      "outputs": []
    },
    {
      "cell_type": "code",
      "metadata": {
        "colab": {
          "base_uri": "https://localhost:8080/"
        },
        "id": "jj4rc5qdmZ-9",
        "outputId": "22c19c55-2e2a-4b1c-84be-969ba19fc1ff"
      },
      "source": [
        "full_windows, full_labels = make_windows(prices, window_size=WINDOW_SIZE, horizon=HORIZON)\n",
        "len(full_windows), len(full_labels)"
      ],
      "execution_count": null,
      "outputs": [
        {
          "output_type": "execute_result",
          "data": {
            "text/plain": [
              "(2780, 2780)"
            ]
          },
          "metadata": {
            "tags": []
          },
          "execution_count": 39
        }
      ]
    },
    {
      "cell_type": "code",
      "metadata": {
        "id": "d-dtZOlykoJK"
      },
      "source": [
        "def make_train_test_split(windows, labels, split = 0.2):\n",
        "  split_size = int(len(windows)*(1-split))\n",
        "  train_windows = windows[:split_size]\n",
        "  train_labels = labels[:split_size]\n",
        "  test_windows = windows[split_size:]\n",
        "  test_labels = labels[split_size:]\n",
        "  return train_windows, test_windows,train_labels,  test_labels"
      ],
      "execution_count": null,
      "outputs": []
    },
    {
      "cell_type": "code",
      "metadata": {
        "id": "gwmpwf55mC50"
      },
      "source": [
        "train_windows, test_windows,train_labels,  test_labels = make_train_test_split(full_windows, full_labels)"
      ],
      "execution_count": null,
      "outputs": []
    },
    {
      "cell_type": "markdown",
      "metadata": {
        "id": "jxKypcYqmRvc"
      },
      "source": [
        "## Model CheckPoint"
      ]
    },
    {
      "cell_type": "code",
      "metadata": {
        "id": "Vt2z_MezorpH"
      },
      "source": [
        "import os\n",
        "def create_model_checkpoint(model_name, save_path = \"model_experiments\"):\n",
        "  return tf.keras.callbacks.ModelCheckpoint(filepath = os.path.join(save_path, model_name),\n",
        "                                            verbose =0,\n",
        "                                            save_best_only =1)"
      ],
      "execution_count": null,
      "outputs": []
    },
    {
      "cell_type": "markdown",
      "metadata": {
        "id": "fS15YYTNp876"
      },
      "source": [
        "## Model 1"
      ]
    },
    {
      "cell_type": "code",
      "metadata": {
        "colab": {
          "base_uri": "https://localhost:8080/"
        },
        "id": "oMsqE_JWqYZ2",
        "outputId": "dd15dc6c-052c-4eac-b6e0-5e15321f4bce"
      },
      "source": [
        "tf.random.set_seed(42)\n",
        "\n",
        "# Construct model\n",
        "model_1 = tf.keras.Sequential([\n",
        "  layers.Dense(128, activation=\"relu\"),\n",
        "  layers.Dense(HORIZON, activation=\"linear\") # linear activation is the same as having no activation                        \n",
        "], name=\"model_1_dense\") # give the model a name so we can save it\n",
        "\n",
        "# Compile model\n",
        "model_1.compile(loss=\"mae\",\n",
        "                optimizer=tf.keras.optimizers.Adam(),\n",
        "                metrics=[\"mae\"]) # we don't necessarily need this when the loss function is already MAE\n",
        "\n",
        "# Fit model\n",
        "model_1.fit(x=train_windows, # train windows of 7 timesteps of Bitcoin prices\n",
        "            y=train_labels, # horizon value of 1 (using the previous 7 timesteps to predict next day)\n",
        "            epochs=100,\n",
        "            verbose=0,\n",
        "            batch_size=128,\n",
        "            validation_data=(test_windows, test_labels),\n",
        "            callbacks = [create_model_checkpoint(\"model1\")])"
      ],
      "execution_count": null,
      "outputs": [
        {
          "output_type": "stream",
          "text": [
            "INFO:tensorflow:Assets written to: model_experiments/model1/assets\n",
            "INFO:tensorflow:Assets written to: model_experiments/model1/assets\n",
            "INFO:tensorflow:Assets written to: model_experiments/model1/assets\n",
            "INFO:tensorflow:Assets written to: model_experiments/model1/assets\n",
            "INFO:tensorflow:Assets written to: model_experiments/model1/assets\n",
            "INFO:tensorflow:Assets written to: model_experiments/model1/assets\n",
            "INFO:tensorflow:Assets written to: model_experiments/model1/assets\n",
            "INFO:tensorflow:Assets written to: model_experiments/model1/assets\n",
            "INFO:tensorflow:Assets written to: model_experiments/model1/assets\n",
            "INFO:tensorflow:Assets written to: model_experiments/model1/assets\n",
            "INFO:tensorflow:Assets written to: model_experiments/model1/assets\n",
            "INFO:tensorflow:Assets written to: model_experiments/model1/assets\n",
            "INFO:tensorflow:Assets written to: model_experiments/model1/assets\n",
            "INFO:tensorflow:Assets written to: model_experiments/model1/assets\n",
            "INFO:tensorflow:Assets written to: model_experiments/model1/assets\n",
            "INFO:tensorflow:Assets written to: model_experiments/model1/assets\n",
            "INFO:tensorflow:Assets written to: model_experiments/model1/assets\n",
            "INFO:tensorflow:Assets written to: model_experiments/model1/assets\n",
            "INFO:tensorflow:Assets written to: model_experiments/model1/assets\n",
            "INFO:tensorflow:Assets written to: model_experiments/model1/assets\n",
            "INFO:tensorflow:Assets written to: model_experiments/model1/assets\n",
            "INFO:tensorflow:Assets written to: model_experiments/model1/assets\n",
            "INFO:tensorflow:Assets written to: model_experiments/model1/assets\n",
            "INFO:tensorflow:Assets written to: model_experiments/model1/assets\n",
            "INFO:tensorflow:Assets written to: model_experiments/model1/assets\n",
            "INFO:tensorflow:Assets written to: model_experiments/model1/assets\n",
            "INFO:tensorflow:Assets written to: model_experiments/model1/assets\n",
            "INFO:tensorflow:Assets written to: model_experiments/model1/assets\n",
            "INFO:tensorflow:Assets written to: model_experiments/model1/assets\n",
            "INFO:tensorflow:Assets written to: model_experiments/model1/assets\n",
            "INFO:tensorflow:Assets written to: model_experiments/model1/assets\n",
            "INFO:tensorflow:Assets written to: model_experiments/model1/assets\n",
            "INFO:tensorflow:Assets written to: model_experiments/model1/assets\n",
            "INFO:tensorflow:Assets written to: model_experiments/model1/assets\n",
            "INFO:tensorflow:Assets written to: model_experiments/model1/assets\n",
            "INFO:tensorflow:Assets written to: model_experiments/model1/assets\n"
          ],
          "name": "stdout"
        },
        {
          "output_type": "execute_result",
          "data": {
            "text/plain": [
              "<tensorflow.python.keras.callbacks.History at 0x7fba824d2510>"
            ]
          },
          "metadata": {
            "tags": []
          },
          "execution_count": 43
        }
      ]
    },
    {
      "cell_type": "code",
      "metadata": {
        "colab": {
          "base_uri": "https://localhost:8080/"
        },
        "id": "CAysShh1sgFo",
        "outputId": "7aba328a-9f24-4e80-f6c7-b453bc850b64"
      },
      "source": [
        "naive_results"
      ],
      "execution_count": null,
      "outputs": [
        {
          "output_type": "execute_result",
          "data": {
            "text/plain": [
              "{'mae': 567.9802,\n",
              " 'mape': 2.516525,\n",
              " 'mase': 0.99957,\n",
              " 'mse': 1147547.0,\n",
              " 'rmse': 1071.2362}"
            ]
          },
          "metadata": {
            "tags": []
          },
          "execution_count": 44
        }
      ]
    },
    {
      "cell_type": "code",
      "metadata": {
        "colab": {
          "base_uri": "https://localhost:8080/"
        },
        "id": "CwbFUFwEtATn",
        "outputId": "50b0c7d0-a8ef-46f6-dffd-47187e7f8b54"
      },
      "source": [
        "model_1 = keras.models.load_model(\"/content/model_experiments/model1\")\n",
        "model_1.evaluate(test_windows, test_labels)"
      ],
      "execution_count": null,
      "outputs": [
        {
          "output_type": "stream",
          "text": [
            "18/18 [==============================] - 0s 1ms/step - loss: 568.5499 - mae: 568.5499\n"
          ],
          "name": "stdout"
        },
        {
          "output_type": "execute_result",
          "data": {
            "text/plain": [
              "[568.5498657226562, 568.5498657226562]"
            ]
          },
          "metadata": {
            "tags": []
          },
          "execution_count": 45
        }
      ]
    },
    {
      "cell_type": "code",
      "metadata": {
        "id": "TjGwnrFvv1O1"
      },
      "source": [
        "def model_preds(model, input):\n",
        "  preds = model.predict(input)\n",
        "  return tf.squeeze(preds)"
      ],
      "execution_count": null,
      "outputs": []
    },
    {
      "cell_type": "code",
      "metadata": {
        "id": "Sc08MT8nxEsZ"
      },
      "source": [
        "model_1_preds = model_preds(model_1, test_windows)"
      ],
      "execution_count": null,
      "outputs": []
    },
    {
      "cell_type": "code",
      "metadata": {
        "id": "HySzv8qhxxrS"
      },
      "source": [
        "model_1_results = evaluate_preds(tf.squeeze(test_labels), model_1_preds)"
      ],
      "execution_count": null,
      "outputs": []
    },
    {
      "cell_type": "code",
      "metadata": {
        "colab": {
          "base_uri": "https://localhost:8080/"
        },
        "id": "iP9Orh45x4j5",
        "outputId": "347560c6-4f12-418b-b3ae-c1ebb074dc10"
      },
      "source": [
        "test_labels.shape, model_1_preds.shape"
      ],
      "execution_count": null,
      "outputs": [
        {
          "output_type": "execute_result",
          "data": {
            "text/plain": [
              "((556, 1), TensorShape([556]))"
            ]
          },
          "metadata": {
            "tags": []
          },
          "execution_count": 49
        }
      ]
    },
    {
      "cell_type": "code",
      "metadata": {
        "colab": {
          "base_uri": "https://localhost:8080/"
        },
        "id": "3GCqnSUlyBST",
        "outputId": "72499c7a-9cb0-4b70-b855-5def398ad6d3"
      },
      "source": [
        "model_1_results"
      ],
      "execution_count": null,
      "outputs": [
        {
          "output_type": "execute_result",
          "data": {
            "text/plain": [
              "{'mae': 568.5498,\n",
              " 'mape': 2.549229,\n",
              " 'mase': 0.99878454,\n",
              " 'mse': 1172587.6,\n",
              " 'rmse': 1082.8608}"
            ]
          },
          "metadata": {
            "tags": []
          },
          "execution_count": 50
        }
      ]
    },
    {
      "cell_type": "code",
      "metadata": {
        "colab": {
          "base_uri": "https://localhost:8080/",
          "height": 442
        },
        "id": "qSB5kmweyUBk",
        "outputId": "4a6e94a5-03fb-40c5-8592-7afe5476ed5c"
      },
      "source": [
        "offset = 300\n",
        "plt.figure(figsize=(10, 7))\n",
        "# Account for the test_window offset and index into test_labels to ensure correct plotting\n",
        "plot_time_series(timesteps=X_test[-len(test_windows):], values=test_labels[:, 0], start=offset, label=\"Test_data\")\n",
        "plot_time_series(timesteps=X_test[-len(test_windows):], values=model_1_preds, start=offset, format=\"-\", label=\"model_1_preds\")"
      ],
      "execution_count": null,
      "outputs": [
        {
          "output_type": "display_data",
          "data": {
            "image/png": "[encoded data removed]",
            "text/plain": [
              "<Figure size 720x504 with 1 Axes>"
            ]
          },
          "metadata": {
            "tags": [],
            "needs_background": "light"
          }
        }
      ]
    },
    {
      "cell_type": "markdown",
      "metadata": {
        "id": "kH9D_lWezvhQ"
      },
      "source": [
        "## Model 2"
      ]
    },
    {
      "cell_type": "code",
      "metadata": {
        "id": "KqU6XMwIz-30"
      },
      "source": [
        "full_windows, full_labels = make_windows(prices, window_size=30, horizon=HORIZON)\n",
        "train_windows, test_windows,train_labels,  test_labels = make_train_test_split(full_windows, full_labels)"
      ],
      "execution_count": null,
      "outputs": []
    },
    {
      "cell_type": "code",
      "metadata": {
        "colab": {
          "base_uri": "https://localhost:8080/"
        },
        "id": "PdXId4cu0QPt",
        "outputId": "45475765-2083-4103-b815-a2e9c1381319"
      },
      "source": [
        "tf.random.set_seed(42)\n",
        "\n",
        "# Construct model\n",
        "model_2 = tf.keras.Sequential([\n",
        "  layers.Dense(128, activation=\"relu\"),\n",
        "  layers.Dense(HORIZON, activation=\"linear\") # linear activation is the same as having no activation                        \n",
        "], name=\"model_1_dense\") # give the model a name so we can save it\n",
        "\n",
        "# Compile model\n",
        "model_2.compile(loss=\"mae\",\n",
        "                optimizer=tf.keras.optimizers.Adam(),\n",
        "                metrics=[\"mae\"]) # we don't necessarily need this when the loss function is already MAE\n",
        "\n",
        "# Fit model\n",
        "model_2.fit(x=train_windows, # train windows of 7 timesteps of Bitcoin prices\n",
        "            y=train_labels, # horizon value of 1 (using the previous 7 timesteps to predict next day)\n",
        "            epochs=100,\n",
        "            verbose=0,\n",
        "            batch_size=128,\n",
        "            validation_data=(test_windows, test_labels),\n",
        "            callbacks = [create_model_checkpoint(\"model2\")])"
      ],
      "execution_count": null,
      "outputs": [
        {
          "output_type": "stream",
          "text": [
            "INFO:tensorflow:Assets written to: model_experiments/model2/assets\n",
            "INFO:tensorflow:Assets written to: model_experiments/model2/assets\n",
            "INFO:tensorflow:Assets written to: model_experiments/model2/assets\n",
            "INFO:tensorflow:Assets written to: model_experiments/model2/assets\n",
            "INFO:tensorflow:Assets written to: model_experiments/model2/assets\n",
            "INFO:tensorflow:Assets written to: model_experiments/model2/assets\n",
            "INFO:tensorflow:Assets written to: model_experiments/model2/assets\n",
            "INFO:tensorflow:Assets written to: model_experiments/model2/assets\n",
            "INFO:tensorflow:Assets written to: model_experiments/model2/assets\n",
            "INFO:tensorflow:Assets written to: model_experiments/model2/assets\n",
            "INFO:tensorflow:Assets written to: model_experiments/model2/assets\n",
            "INFO:tensorflow:Assets written to: model_experiments/model2/assets\n",
            "INFO:tensorflow:Assets written to: model_experiments/model2/assets\n",
            "INFO:tensorflow:Assets written to: model_experiments/model2/assets\n",
            "INFO:tensorflow:Assets written to: model_experiments/model2/assets\n",
            "INFO:tensorflow:Assets written to: model_experiments/model2/assets\n",
            "INFO:tensorflow:Assets written to: model_experiments/model2/assets\n",
            "INFO:tensorflow:Assets written to: model_experiments/model2/assets\n",
            "INFO:tensorflow:Assets written to: model_experiments/model2/assets\n",
            "INFO:tensorflow:Assets written to: model_experiments/model2/assets\n",
            "INFO:tensorflow:Assets written to: model_experiments/model2/assets\n",
            "INFO:tensorflow:Assets written to: model_experiments/model2/assets\n",
            "INFO:tensorflow:Assets written to: model_experiments/model2/assets\n",
            "INFO:tensorflow:Assets written to: model_experiments/model2/assets\n",
            "INFO:tensorflow:Assets written to: model_experiments/model2/assets\n",
            "INFO:tensorflow:Assets written to: model_experiments/model2/assets\n",
            "INFO:tensorflow:Assets written to: model_experiments/model2/assets\n",
            "INFO:tensorflow:Assets written to: model_experiments/model2/assets\n",
            "INFO:tensorflow:Assets written to: model_experiments/model2/assets\n",
            "INFO:tensorflow:Assets written to: model_experiments/model2/assets\n"
          ],
          "name": "stdout"
        },
        {
          "output_type": "execute_result",
          "data": {
            "text/plain": [
              "<tensorflow.python.keras.callbacks.History at 0x7fba7d94ead0>"
            ]
          },
          "metadata": {
            "tags": []
          },
          "execution_count": 53
        }
      ]
    },
    {
      "cell_type": "code",
      "metadata": {
        "id": "7TxzM_du0aID"
      },
      "source": [
        "model_2_preds = model_preds(model_2, test_windows)"
      ],
      "execution_count": null,
      "outputs": []
    },
    {
      "cell_type": "code",
      "metadata": {
        "id": "JPlILAfR0hJ5"
      },
      "source": [
        "model_2_results = evaluate_preds(tf.squeeze(test_labels), model_2_preds)"
      ],
      "execution_count": null,
      "outputs": []
    },
    {
      "cell_type": "code",
      "metadata": {
        "colab": {
          "base_uri": "https://localhost:8080/"
        },
        "id": "spTlCwng0kjE",
        "outputId": "134e9178-56ce-45ff-dc14-f7b6c2cbc106"
      },
      "source": [
        "model_2_results"
      ],
      "execution_count": null,
      "outputs": [
        {
          "output_type": "execute_result",
          "data": {
            "text/plain": [
              "{'mae': 658.0289,\n",
              " 'mape': 3.0397346,\n",
              " 'mase': 1.1502408,\n",
              " 'mse': 1417081.0,\n",
              " 'rmse': 1190.4121}"
            ]
          },
          "metadata": {
            "tags": []
          },
          "execution_count": 56
        }
      ]
    },
    {
      "cell_type": "code",
      "metadata": {
        "colab": {
          "base_uri": "https://localhost:8080/"
        },
        "id": "CmhL6vUV0ogJ",
        "outputId": "6414ea1e-3cd4-48d5-f796-2ad574b59f0b"
      },
      "source": [
        "naive_results"
      ],
      "execution_count": null,
      "outputs": [
        {
          "output_type": "execute_result",
          "data": {
            "text/plain": [
              "{'mae': 567.9802,\n",
              " 'mape': 2.516525,\n",
              " 'mase': 0.99957,\n",
              " 'mse': 1147547.0,\n",
              " 'rmse': 1071.2362}"
            ]
          },
          "metadata": {
            "tags": []
          },
          "execution_count": 57
        }
      ]
    },
    {
      "cell_type": "code",
      "metadata": {
        "colab": {
          "base_uri": "https://localhost:8080/",
          "height": 442
        },
        "id": "zGCoXjFE18Yr",
        "outputId": "84ba4d1a-dec0-4583-c301-de5cbf4bcd40"
      },
      "source": [
        "offset = 300\n",
        "plt.figure(figsize=(10, 7))\n",
        "# Account for the test_window offset and index into test_labels to ensure correct plotting\n",
        "plot_time_series(timesteps=X_test[-len(test_windows):], values=test_labels[:, 0], start=offset, label=\"Test_data\")\n",
        "plot_time_series(timesteps=X_test[-len(test_windows):], values=model_2_preds, start=offset, format=\"-\", label=\"model_2_preds\")"
      ],
      "execution_count": null,
      "outputs": [
        {
          "output_type": "display_data",
          "data": {
            "image/png": "[encoded data removed]",
            "text/plain": [
              "<Figure size 720x504 with 1 Axes>"
            ]
          },
          "metadata": {
            "tags": [],
            "needs_background": "light"
          }
        }
      ]
    },
    {
      "cell_type": "markdown",
      "metadata": {
        "id": "d_nSZzvL4HBu"
      },
      "source": [
        "## Model 3"
      ]
    },
    {
      "cell_type": "code",
      "metadata": {
        "id": "s73WjWhE4Vz0"
      },
      "source": [
        "full_windows, full_labels = make_windows(prices, window_size=30, horizon=7)\n",
        "train_windows, test_windows,train_labels,  test_labels = make_train_test_split(full_windows, full_labels)"
      ],
      "execution_count": null,
      "outputs": []
    },
    {
      "cell_type": "code",
      "metadata": {
        "colab": {
          "base_uri": "https://localhost:8080/"
        },
        "id": "EnMV5AjQ4cak",
        "outputId": "96adef3f-4c2c-431e-d394-7a80c7cd4342"
      },
      "source": [
        "tf.random.set_seed(42)\n",
        "\n",
        "# Construct model\n",
        "model_3 = tf.keras.Sequential([\n",
        "  layers.Dense(128, activation=\"relu\"),\n",
        "  layers.Dense(7, activation=\"linear\") # linear activation is the same as having no activation                        \n",
        "], name=\"model_1_dense\") # give the model a name so we can save it\n",
        "\n",
        "# Compile model\n",
        "model_3.compile(loss=\"mae\",\n",
        "                optimizer=tf.keras.optimizers.Adam(),\n",
        "                metrics=[\"mae\"]) # we don't necessarily need this when the loss function is already MAE\n",
        "\n",
        "# Fit model\n",
        "model_3.fit(x=train_windows, # train windows of 7 timesteps of Bitcoin prices\n",
        "            y=train_labels, # horizon value of 1 (using the previous 7 timesteps to predict next day)\n",
        "            epochs=100,\n",
        "            verbose=0,\n",
        "            batch_size=128,\n",
        "            validation_data=(test_windows, test_labels),\n",
        "            callbacks = [create_model_checkpoint(\"model3\")])"
      ],
      "execution_count": null,
      "outputs": [
        {
          "output_type": "stream",
          "text": [
            "INFO:tensorflow:Assets written to: model_experiments/model3/assets\n",
            "INFO:tensorflow:Assets written to: model_experiments/model3/assets\n",
            "INFO:tensorflow:Assets written to: model_experiments/model3/assets\n",
            "INFO:tensorflow:Assets written to: model_experiments/model3/assets\n",
            "INFO:tensorflow:Assets written to: model_experiments/model3/assets\n",
            "INFO:tensorflow:Assets written to: model_experiments/model3/assets\n",
            "INFO:tensorflow:Assets written to: model_experiments/model3/assets\n",
            "INFO:tensorflow:Assets written to: model_experiments/model3/assets\n",
            "INFO:tensorflow:Assets written to: model_experiments/model3/assets\n",
            "INFO:tensorflow:Assets written to: model_experiments/model3/assets\n",
            "INFO:tensorflow:Assets written to: model_experiments/model3/assets\n",
            "INFO:tensorflow:Assets written to: model_experiments/model3/assets\n",
            "INFO:tensorflow:Assets written to: model_experiments/model3/assets\n",
            "INFO:tensorflow:Assets written to: model_experiments/model3/assets\n",
            "INFO:tensorflow:Assets written to: model_experiments/model3/assets\n",
            "INFO:tensorflow:Assets written to: model_experiments/model3/assets\n",
            "INFO:tensorflow:Assets written to: model_experiments/model3/assets\n",
            "INFO:tensorflow:Assets written to: model_experiments/model3/assets\n",
            "INFO:tensorflow:Assets written to: model_experiments/model3/assets\n",
            "INFO:tensorflow:Assets written to: model_experiments/model3/assets\n",
            "INFO:tensorflow:Assets written to: model_experiments/model3/assets\n",
            "INFO:tensorflow:Assets written to: model_experiments/model3/assets\n",
            "INFO:tensorflow:Assets written to: model_experiments/model3/assets\n"
          ],
          "name": "stdout"
        },
        {
          "output_type": "execute_result",
          "data": {
            "text/plain": [
              "<tensorflow.python.keras.callbacks.History at 0x7fba7d6d45d0>"
            ]
          },
          "metadata": {
            "tags": []
          },
          "execution_count": 60
        }
      ]
    },
    {
      "cell_type": "code",
      "metadata": {
        "id": "swFtlU2v6hZl"
      },
      "source": [
        "model_3 = tf.keras.models.load_model(\"/content/model_experiments/model3\")"
      ],
      "execution_count": null,
      "outputs": []
    },
    {
      "cell_type": "code",
      "metadata": {
        "colab": {
          "base_uri": "https://localhost:8080/"
        },
        "id": "ljWh0Kg_6nM8",
        "outputId": "e577804c-2e6c-4a14-9927-f0c0e1bb30bb"
      },
      "source": [
        "model_3.evaluate(test_windows, test_labels)"
      ],
      "execution_count": null,
      "outputs": [
        {
          "output_type": "stream",
          "text": [
            "18/18 [==============================] - 0s 1ms/step - loss: 1228.1417 - mae: 1228.1417\n"
          ],
          "name": "stdout"
        },
        {
          "output_type": "execute_result",
          "data": {
            "text/plain": [
              "[1228.1417236328125, 1228.1417236328125]"
            ]
          },
          "metadata": {
            "tags": []
          },
          "execution_count": 62
        }
      ]
    },
    {
      "cell_type": "code",
      "metadata": {
        "colab": {
          "base_uri": "https://localhost:8080/"
        },
        "id": "AS2TcnZV6tf6",
        "outputId": "f22bb112-94b8-43a9-d938-045688e1fa80"
      },
      "source": [
        "model_3_preds = model_preds(model_3, test_windows)\n",
        "model_3_preds[:2]"
      ],
      "execution_count": null,
      "outputs": [
        {
          "output_type": "execute_result",
          "data": {
            "text/plain": [
              "<tf.Tensor: shape=(2, 7), dtype=float32, numpy=\n",
              "array([[9233.328, 9332.702, 9363.651, 9442.775, 9401.978, 9414.001,\n",
              "        9280.01 ],\n",
              "       [8911.084, 9065.984, 9113.08 , 9026.601, 8990.093, 9000.148,\n",
              "        9053.433]], dtype=float32)>"
            ]
          },
          "metadata": {
            "tags": []
          },
          "execution_count": 63
        }
      ]
    },
    {
      "cell_type": "code",
      "metadata": {
        "colab": {
          "base_uri": "https://localhost:8080/"
        },
        "id": "J1VlCjeW66iL",
        "outputId": "38068431-f559-4586-d99d-65816ba4c2c1"
      },
      "source": [
        "test_labels.shape, model_3_preds.shape"
      ],
      "execution_count": null,
      "outputs": [
        {
          "output_type": "execute_result",
          "data": {
            "text/plain": [
              "((551, 7), TensorShape([551, 7]))"
            ]
          },
          "metadata": {
            "tags": []
          },
          "execution_count": 64
        }
      ]
    },
    {
      "cell_type": "markdown",
      "metadata": {
        "id": "t-12SA3w7L8a"
      },
      "source": [
        "## Modify EvalutaePreds Function"
      ]
    },
    {
      "cell_type": "code",
      "metadata": {
        "id": "qt5bwCvS8_m1"
      },
      "source": [
        "def evaluate_preds(y_true, y_pred):\n",
        "  # Make sure float32 (for metric calculations)\n",
        "  y_true = tf.cast(y_true, dtype=tf.float32)\n",
        "  y_pred = tf.cast(y_pred, dtype=tf.float32)\n",
        "\n",
        "  # Calculate various metrics\n",
        "  mae = tf.keras.metrics.mean_absolute_error(y_true, y_pred)\n",
        "  mse = tf.keras.metrics.mean_squared_error(y_true, y_pred) # puts and emphasis on outliers (all errors get squared)\n",
        "  rmse = tf.sqrt(mse)\n",
        "  mape = tf.keras.metrics.mean_absolute_percentage_error(y_true, y_pred)\n",
        "  mase = mean_absolute_scaled_error(y_true, y_pred)\n",
        "  \n",
        "  return {\"mae\": mae.numpy().mean(),\n",
        "          \"mse\": mse.numpy().mean(),\n",
        "          \"rmse\": rmse.numpy().mean(),\n",
        "          \"mape\": mape.numpy().mean(),\n",
        "          \"mase\": mase.numpy().mean()}"
      ],
      "execution_count": null,
      "outputs": []
    },
    {
      "cell_type": "code",
      "metadata": {
        "id": "yJF_51mx9KhW"
      },
      "source": [
        "model_3_results = evaluate_preds(tf.squeeze(test_labels), model_3_preds)"
      ],
      "execution_count": null,
      "outputs": []
    },
    {
      "cell_type": "code",
      "metadata": {
        "colab": {
          "base_uri": "https://localhost:8080/"
        },
        "id": "XQGifqtG9VXG",
        "outputId": "f79396f5-c1f3-4201-eaf5-56eefad6e9b0"
      },
      "source": [
        "model_3_results"
      ],
      "execution_count": null,
      "outputs": [
        {
          "output_type": "execute_result",
          "data": {
            "text/plain": [
              "{'mae': 1228.1417,\n",
              " 'mape': 5.4698334,\n",
              " 'mase': 2.1854093,\n",
              " 'mse': 5323686.5,\n",
              " 'rmse': 1412.9115}"
            ]
          },
          "metadata": {
            "tags": []
          },
          "execution_count": 67
        }
      ]
    },
    {
      "cell_type": "code",
      "metadata": {
        "colab": {
          "base_uri": "https://localhost:8080/",
          "height": 279
        },
        "id": "im01ZW3U9W9V",
        "outputId": "18c62bce-f597-40d0-c25b-e6e8c27ea23c"
      },
      "source": [
        "offset = 300\n",
        "plot_time_series(X_test[-len(test_windows):], test_labels[:, 0], start = offset, label  =\"Test Data\")\n",
        "plot_time_series(X_test[-len(test_windows):], model_3_preds, start = offset, label  =\"Model_3 Data\")\n",
        "\n"
      ],
      "execution_count": null,
      "outputs": [
        {
          "output_type": "display_data",
          "data": {
            "image/png": "[encoded data removed]",
            "text/plain": [
              "<Figure size 432x288 with 1 Axes>"
            ]
          },
          "metadata": {
            "tags": [],
            "needs_background": "light"
          }
        }
      ]
    },
    {
      "cell_type": "markdown",
      "metadata": {
        "id": "IG4TeuwPUdYO"
      },
      "source": [
        "## Compare model results so far"
      ]
    },
    {
      "cell_type": "code",
      "metadata": {
        "colab": {
          "base_uri": "https://localhost:8080/",
          "height": 79
        },
        "id": "4H238ZXqWSEm",
        "outputId": "b61b142d-e167-4a70-f5c5-bc6062acb7d4"
      },
      "source": [
        "comparision = pd.DataFrame({\"naive\": naive_results,\n",
        "                            \"model_1\": model_1_results,\n",
        "                            \"model_2\": model_2_results,\n",
        "                            \"model_3\": model_3_results}, index = [\"mae\"])\n",
        "comparision"
      ],
      "execution_count": null,
      "outputs": [
        {
          "output_type": "execute_result",
          "data": {
            "text/html": [
              "<div>\n",
              "<style scoped>\n",
              "    .dataframe tbody tr th:only-of-type {\n",
              "        vertical-align: middle;\n",
              "    }\n",
              "\n",
              "    .dataframe tbody tr th {\n",
              "        vertical-align: top;\n",
              "    }\n",
              "\n",
              "    .dataframe thead th {\n",
              "        text-align: right;\n",
              "    }\n",
              "</style>\n",
              "<table border=\"1\" class=\"dataframe\">\n",
              "  <thead>\n",
              "    <tr style=\"text-align: right;\">\n",
              "      <th></th>\n",
              "      <th>naive</th>\n",
              "      <th>model_1</th>\n",
              "      <th>model_2</th>\n",
              "      <th>model_3</th>\n",
              "    </tr>\n",
              "  </thead>\n",
              "  <tbody>\n",
              "    <tr>\n",
              "      <th>mae</th>\n",
              "      <td>567.980225</td>\n",
              "      <td>568.549805</td>\n",
              "      <td>658.02887</td>\n",
              "      <td>1228.141724</td>\n",
              "    </tr>\n",
              "  </tbody>\n",
              "</table>\n",
              "</div>"
            ],
            "text/plain": [
              "          naive     model_1    model_2      model_3\n",
              "mae  567.980225  568.549805  658.02887  1228.141724"
            ]
          },
          "metadata": {
            "tags": []
          },
          "execution_count": 69
        }
      ]
    },
    {
      "cell_type": "code",
      "metadata": {
        "colab": {
          "base_uri": "https://localhost:8080/",
          "height": 457
        },
        "id": "A2zBTs3GWYM0",
        "outputId": "43cf4e93-4319-41a8-8ec5-6a514e54b901"
      },
      "source": [
        "comparision.plot(kind = \"bar\", figsize = (10,7))"
      ],
      "execution_count": null,
      "outputs": [
        {
          "output_type": "execute_result",
          "data": {
            "text/plain": [
              "<matplotlib.axes._subplots.AxesSubplot at 0x7fba7db38910>"
            ]
          },
          "metadata": {
            "tags": []
          },
          "execution_count": 70
        },
        {
          "output_type": "display_data",
          "data": {
            "image/png": "[encoded data removed]",
            "text/plain": [
              "<Figure size 720x504 with 1 Axes>"
            ]
          },
          "metadata": {
            "tags": [],
            "needs_background": "light"
          }
        }
      ]
    },
    {
      "cell_type": "markdown",
      "metadata": {
        "id": "syxM3y_qWuKS"
      },
      "source": [
        "## Model 4"
      ]
    },
    {
      "cell_type": "code",
      "metadata": {
        "colab": {
          "base_uri": "https://localhost:8080/"
        },
        "id": "uBGFfDuCbzZR",
        "outputId": "870f8c81-b417-4624-ad15-2dd23d81c012"
      },
      "source": [
        "HORIZON = 1\n",
        "WINDOW_SIZE = 7\n",
        "full_windows, full_labels = make_windows(prices, WINDOW_SIZE, HORIZON)\n",
        "len(full_windows), len(full_labels)"
      ],
      "execution_count": null,
      "outputs": [
        {
          "output_type": "execute_result",
          "data": {
            "text/plain": [
              "(2780, 2780)"
            ]
          },
          "metadata": {
            "tags": []
          },
          "execution_count": 71
        }
      ]
    },
    {
      "cell_type": "code",
      "metadata": {
        "id": "Sd_qb69cb_IM"
      },
      "source": [
        "train_windows, test_windows,train_labels,  test_labels = make_train_test_split(full_windows, full_labels)"
      ],
      "execution_count": null,
      "outputs": []
    },
    {
      "cell_type": "code",
      "metadata": {
        "colab": {
          "base_uri": "https://localhost:8080/"
        },
        "id": "YNlgPVkmcXjh",
        "outputId": "0319876e-7d33-477e-eea7-8ad110d79164"
      },
      "source": [
        "len(train_windows), len(train_labels), len(test_windows), len(test_labels)"
      ],
      "execution_count": null,
      "outputs": [
        {
          "output_type": "execute_result",
          "data": {
            "text/plain": [
              "(2224, 2224, 556, 556)"
            ]
          },
          "metadata": {
            "tags": []
          },
          "execution_count": 73
        }
      ]
    },
    {
      "cell_type": "code",
      "metadata": {
        "colab": {
          "base_uri": "https://localhost:8080/"
        },
        "id": "v-YuUzwwcfMq",
        "outputId": "b446e09b-25eb-46ec-97d9-aee8f7ebd18e"
      },
      "source": [
        "train_windows[0].shape"
      ],
      "execution_count": null,
      "outputs": [
        {
          "output_type": "execute_result",
          "data": {
            "text/plain": [
              "(7,)"
            ]
          },
          "metadata": {
            "tags": []
          },
          "execution_count": 74
        }
      ]
    },
    {
      "cell_type": "code",
      "metadata": {
        "id": "jun74pbOjAMn"
      },
      "source": [
        "expand_dims_layer = layers.Lambda(lambda x: tf.expand_dims(x, axis =1))"
      ],
      "execution_count": null,
      "outputs": []
    },
    {
      "cell_type": "code",
      "metadata": {
        "id": "eGo-qL3RjXR_",
        "colab": {
          "base_uri": "https://localhost:8080/"
        },
        "outputId": "cd207b5e-49f9-42ee-896c-3a8bfbd072cf"
      },
      "source": [
        "tf.random.set_seed(42)\n",
        "model_4 = keras.Sequential([\n",
        "                      expand_dims_layer,\n",
        "                      layers.Conv1D(128, 7, padding = \"causal\", activation=\"relu\"),\n",
        "                      layers.Dense(HORIZON)\n",
        "])\n",
        "\n",
        "model_4.compile(loss=\"mae\",\n",
        "                optimizer=tf.keras.optimizers.Adam(),\n",
        "                metrics=[\"mae\"])\n",
        "model_4.fit(train_windows, train_labels, epochs= 100, batch_size = 128, callbacks = [create_model_checkpoint(\"Model4\")],\n",
        "            validation_data = (test_windows, test_labels))"
      ],
      "execution_count": null,
      "outputs": [
        {
          "output_type": "stream",
          "text": [
            "Epoch 1/100\n",
            "18/18 [==============================] - 1s 11ms/step - loss: 1486.8625 - mae: 1486.8625 - val_loss: 1494.0219 - val_mae: 1494.0219\n",
            "INFO:tensorflow:Assets written to: model_experiments/Model4/assets\n",
            "Epoch 2/100\n",
            "18/18 [==============================] - 0s 3ms/step - loss: 359.4607 - mae: 359.4607 - val_loss: 1882.3615 - val_mae: 1882.3615\n",
            "Epoch 3/100\n",
            "18/18 [==============================] - 0s 5ms/step - loss: 237.6436 - mae: 237.6436 - val_loss: 1228.3146 - val_mae: 1228.3146\n",
            "INFO:tensorflow:Assets written to: model_experiments/Model4/assets\n",
            "Epoch 4/100\n",
            "18/18 [==============================] - 0s 3ms/step - loss: 208.6003 - mae: 208.6003 - val_loss: 1095.6528 - val_mae: 1095.6528\n",
            "INFO:tensorflow:Assets written to: model_experiments/Model4/assets\n",
            "Epoch 5/100\n",
            "18/18 [==============================] - 0s 4ms/step - loss: 197.1489 - mae: 197.1489 - val_loss: 1088.0098 - val_mae: 1088.0098\n",
            "INFO:tensorflow:Assets written to: model_experiments/Model4/assets\n",
            "Epoch 6/100\n",
            "18/18 [==============================] - 0s 3ms/step - loss: 192.2837 - mae: 192.2837 - val_loss: 1075.7446 - val_mae: 1075.7446\n",
            "INFO:tensorflow:Assets written to: model_experiments/Model4/assets\n",
            "Epoch 7/100\n",
            "18/18 [==============================] - 0s 4ms/step - loss: 191.2738 - mae: 191.2738 - val_loss: 1050.4635 - val_mae: 1050.4635\n",
            "INFO:tensorflow:Assets written to: model_experiments/Model4/assets\n",
            "Epoch 8/100\n",
            "18/18 [==============================] - 0s 3ms/step - loss: 186.0934 - mae: 186.0934 - val_loss: 1054.7946 - val_mae: 1054.7946\n",
            "Epoch 9/100\n",
            "18/18 [==============================] - 0s 4ms/step - loss: 183.6488 - mae: 183.6488 - val_loss: 1061.1055 - val_mae: 1061.1055\n",
            "Epoch 10/100\n",
            "18/18 [==============================] - 0s 3ms/step - loss: 181.0742 - mae: 181.0742 - val_loss: 1007.3361 - val_mae: 1007.3361\n",
            "INFO:tensorflow:Assets written to: model_experiments/Model4/assets\n",
            "Epoch 11/100\n",
            "18/18 [==============================] - 0s 3ms/step - loss: 177.9125 - mae: 177.9125 - val_loss: 986.4657 - val_mae: 986.4657\n",
            "INFO:tensorflow:Assets written to: model_experiments/Model4/assets\n",
            "Epoch 12/100\n",
            "18/18 [==============================] - 0s 4ms/step - loss: 177.0193 - mae: 177.0193 - val_loss: 1027.5861 - val_mae: 1027.5861\n",
            "Epoch 13/100\n",
            "18/18 [==============================] - 0s 4ms/step - loss: 173.0901 - mae: 173.0901 - val_loss: 998.1078 - val_mae: 998.1078\n",
            "Epoch 14/100\n",
            "18/18 [==============================] - 0s 3ms/step - loss: 169.1068 - mae: 169.1068 - val_loss: 957.6744 - val_mae: 957.6744\n",
            "INFO:tensorflow:Assets written to: model_experiments/Model4/assets\n",
            "Epoch 15/100\n",
            "18/18 [==============================] - 0s 3ms/step - loss: 168.9437 - mae: 168.9437 - val_loss: 951.1043 - val_mae: 951.1043\n",
            "INFO:tensorflow:Assets written to: model_experiments/Model4/assets\n",
            "Epoch 16/100\n",
            "18/18 [==============================] - 0s 3ms/step - loss: 162.9819 - mae: 162.9819 - val_loss: 910.6301 - val_mae: 910.6301\n",
            "INFO:tensorflow:Assets written to: model_experiments/Model4/assets\n",
            "Epoch 17/100\n",
            "18/18 [==============================] - 0s 4ms/step - loss: 159.8225 - mae: 159.8225 - val_loss: 950.2974 - val_mae: 950.2974\n",
            "Epoch 18/100\n",
            "18/18 [==============================] - 0s 3ms/step - loss: 158.4488 - mae: 158.4488 - val_loss: 932.6360 - val_mae: 932.6360\n",
            "Epoch 19/100\n",
            "18/18 [==============================] - 0s 4ms/step - loss: 155.9720 - mae: 155.9720 - val_loss: 865.1782 - val_mae: 865.1782\n",
            "INFO:tensorflow:Assets written to: model_experiments/Model4/assets\n",
            "Epoch 20/100\n",
            "18/18 [==============================] - 0s 4ms/step - loss: 152.4892 - mae: 152.4892 - val_loss: 851.0131 - val_mae: 851.0131\n",
            "INFO:tensorflow:Assets written to: model_experiments/Model4/assets\n",
            "Epoch 21/100\n",
            "18/18 [==============================] - 0s 3ms/step - loss: 150.2419 - mae: 150.2419 - val_loss: 823.7698 - val_mae: 823.7698\n",
            "INFO:tensorflow:Assets written to: model_experiments/Model4/assets\n",
            "Epoch 22/100\n",
            "18/18 [==============================] - 0s 4ms/step - loss: 146.5942 - mae: 146.5942 - val_loss: 817.5638 - val_mae: 817.5638\n",
            "INFO:tensorflow:Assets written to: model_experiments/Model4/assets\n",
            "Epoch 23/100\n",
            "18/18 [==============================] - 0s 3ms/step - loss: 143.0214 - mae: 143.0214 - val_loss: 815.2380 - val_mae: 815.2380\n",
            "INFO:tensorflow:Assets written to: model_experiments/Model4/assets\n",
            "Epoch 24/100\n",
            "18/18 [==============================] - 0s 4ms/step - loss: 142.4469 - mae: 142.4469 - val_loss: 811.6857 - val_mae: 811.6857\n",
            "INFO:tensorflow:Assets written to: model_experiments/Model4/assets\n",
            "Epoch 25/100\n",
            "18/18 [==============================] - 0s 3ms/step - loss: 138.6928 - mae: 138.6928 - val_loss: 777.4811 - val_mae: 777.4811\n",
            "INFO:tensorflow:Assets written to: model_experiments/Model4/assets\n",
            "Epoch 26/100\n",
            "18/18 [==============================] - 0s 3ms/step - loss: 136.4652 - mae: 136.4652 - val_loss: 749.3503 - val_mae: 749.3503\n",
            "INFO:tensorflow:Assets written to: model_experiments/Model4/assets\n",
            "Epoch 27/100\n",
            "18/18 [==============================] - 0s 3ms/step - loss: 135.9937 - mae: 135.9937 - val_loss: 737.4932 - val_mae: 737.4932\n",
            "INFO:tensorflow:Assets written to: model_experiments/Model4/assets\n",
            "Epoch 28/100\n",
            "18/18 [==============================] - 0s 3ms/step - loss: 131.9827 - mae: 131.9827 - val_loss: 729.7272 - val_mae: 729.7272\n",
            "INFO:tensorflow:Assets written to: model_experiments/Model4/assets\n",
            "Epoch 29/100\n",
            "18/18 [==============================] - 0s 3ms/step - loss: 130.6191 - mae: 130.6191 - val_loss: 715.8120 - val_mae: 715.8121\n",
            "INFO:tensorflow:Assets written to: model_experiments/Model4/assets\n",
            "Epoch 30/100\n",
            "18/18 [==============================] - 0s 3ms/step - loss: 132.2158 - mae: 132.2158 - val_loss: 816.6174 - val_mae: 816.6174\n",
            "Epoch 31/100\n",
            "18/18 [==============================] - 0s 3ms/step - loss: 143.8577 - mae: 143.8577 - val_loss: 816.5145 - val_mae: 816.5145\n",
            "Epoch 32/100\n",
            "18/18 [==============================] - 0s 3ms/step - loss: 133.7224 - mae: 133.7224 - val_loss: 710.1313 - val_mae: 710.1313\n",
            "INFO:tensorflow:Assets written to: model_experiments/Model4/assets\n",
            "Epoch 33/100\n",
            "18/18 [==============================] - 0s 3ms/step - loss: 127.7070 - mae: 127.7070 - val_loss: 704.1623 - val_mae: 704.1623\n",
            "INFO:tensorflow:Assets written to: model_experiments/Model4/assets\n",
            "Epoch 34/100\n",
            "18/18 [==============================] - 0s 3ms/step - loss: 124.5724 - mae: 124.5724 - val_loss: 685.5092 - val_mae: 685.5092\n",
            "INFO:tensorflow:Assets written to: model_experiments/Model4/assets\n",
            "Epoch 35/100\n",
            "18/18 [==============================] - 0s 5ms/step - loss: 122.4643 - mae: 122.4643 - val_loss: 675.2094 - val_mae: 675.2094\n",
            "INFO:tensorflow:Assets written to: model_experiments/Model4/assets\n",
            "Epoch 36/100\n",
            "18/18 [==============================] - 0s 3ms/step - loss: 124.4589 - mae: 124.4589 - val_loss: 727.3516 - val_mae: 727.3516\n",
            "Epoch 37/100\n",
            "18/18 [==============================] - 0s 3ms/step - loss: 122.7511 - mae: 122.7511 - val_loss: 657.3185 - val_mae: 657.3185\n",
            "INFO:tensorflow:Assets written to: model_experiments/Model4/assets\n",
            "Epoch 38/100\n",
            "18/18 [==============================] - 0s 3ms/step - loss: 121.4674 - mae: 121.4674 - val_loss: 652.2405 - val_mae: 652.2405\n",
            "INFO:tensorflow:Assets written to: model_experiments/Model4/assets\n",
            "Epoch 39/100\n",
            "18/18 [==============================] - 0s 4ms/step - loss: 121.0363 - mae: 121.0363 - val_loss: 682.1937 - val_mae: 682.1937\n",
            "Epoch 40/100\n",
            "18/18 [==============================] - 0s 3ms/step - loss: 118.5199 - mae: 118.5199 - val_loss: 646.3601 - val_mae: 646.3601\n",
            "INFO:tensorflow:Assets written to: model_experiments/Model4/assets\n",
            "Epoch 41/100\n",
            "18/18 [==============================] - 0s 3ms/step - loss: 118.8631 - mae: 118.8631 - val_loss: 635.0540 - val_mae: 635.0540\n",
            "INFO:tensorflow:Assets written to: model_experiments/Model4/assets\n",
            "Epoch 42/100\n",
            "18/18 [==============================] - 0s 3ms/step - loss: 119.9173 - mae: 119.9173 - val_loss: 638.3469 - val_mae: 638.3469\n",
            "Epoch 43/100\n",
            "18/18 [==============================] - 0s 3ms/step - loss: 116.5598 - mae: 116.5598 - val_loss: 648.9620 - val_mae: 648.9620\n",
            "Epoch 44/100\n",
            "18/18 [==============================] - 0s 4ms/step - loss: 117.2226 - mae: 117.2226 - val_loss: 623.6570 - val_mae: 623.6570\n",
            "INFO:tensorflow:Assets written to: model_experiments/Model4/assets\n",
            "Epoch 45/100\n",
            "18/18 [==============================] - 0s 3ms/step - loss: 116.5021 - mae: 116.5021 - val_loss: 633.1766 - val_mae: 633.1766\n",
            "Epoch 46/100\n",
            "18/18 [==============================] - 0s 3ms/step - loss: 116.6764 - mae: 116.6764 - val_loss: 617.2056 - val_mae: 617.2056\n",
            "INFO:tensorflow:Assets written to: model_experiments/Model4/assets\n",
            "Epoch 47/100\n",
            "18/18 [==============================] - 0s 3ms/step - loss: 116.9065 - mae: 116.9065 - val_loss: 688.8200 - val_mae: 688.8200\n",
            "Epoch 48/100\n",
            "18/18 [==============================] - 0s 4ms/step - loss: 115.2583 - mae: 115.2583 - val_loss: 671.8950 - val_mae: 671.8950\n",
            "Epoch 49/100\n",
            "18/18 [==============================] - 0s 3ms/step - loss: 116.8443 - mae: 116.8443 - val_loss: 615.4095 - val_mae: 615.4095\n",
            "INFO:tensorflow:Assets written to: model_experiments/Model4/assets\n",
            "Epoch 50/100\n",
            "18/18 [==============================] - 0s 4ms/step - loss: 116.4172 - mae: 116.4172 - val_loss: 615.3945 - val_mae: 615.3945\n",
            "INFO:tensorflow:Assets written to: model_experiments/Model4/assets\n",
            "Epoch 51/100\n",
            "18/18 [==============================] - 0s 3ms/step - loss: 114.4015 - mae: 114.4015 - val_loss: 635.3820 - val_mae: 635.3820\n",
            "Epoch 52/100\n",
            "18/18 [==============================] - 0s 3ms/step - loss: 119.5445 - mae: 119.5445 - val_loss: 604.4543 - val_mae: 604.4543\n",
            "INFO:tensorflow:Assets written to: model_experiments/Model4/assets\n",
            "Epoch 53/100\n",
            "18/18 [==============================] - 0s 4ms/step - loss: 117.4462 - mae: 117.4462 - val_loss: 600.9332 - val_mae: 600.9332\n",
            "INFO:tensorflow:Assets written to: model_experiments/Model4/assets\n",
            "Epoch 54/100\n",
            "18/18 [==============================] - 0s 3ms/step - loss: 112.1194 - mae: 112.1194 - val_loss: 602.0598 - val_mae: 602.0598\n",
            "Epoch 55/100\n",
            "18/18 [==============================] - 0s 3ms/step - loss: 114.4299 - mae: 114.4299 - val_loss: 608.7642 - val_mae: 608.7642\n",
            "Epoch 56/100\n",
            "18/18 [==============================] - 0s 3ms/step - loss: 115.9096 - mae: 115.9096 - val_loss: 732.2004 - val_mae: 732.2004\n",
            "Epoch 57/100\n",
            "18/18 [==============================] - 0s 3ms/step - loss: 134.2316 - mae: 134.2316 - val_loss: 638.4044 - val_mae: 638.4044\n",
            "Epoch 58/100\n",
            "18/18 [==============================] - 0s 3ms/step - loss: 123.8935 - mae: 123.8935 - val_loss: 646.8499 - val_mae: 646.8499\n",
            "Epoch 59/100\n",
            "18/18 [==============================] - 0s 3ms/step - loss: 111.5002 - mae: 111.5002 - val_loss: 608.3995 - val_mae: 608.3995\n",
            "Epoch 60/100\n",
            "18/18 [==============================] - 0s 4ms/step - loss: 111.6725 - mae: 111.6725 - val_loss: 627.9479 - val_mae: 627.9479\n",
            "Epoch 61/100\n",
            "18/18 [==============================] - 0s 3ms/step - loss: 112.1395 - mae: 112.1395 - val_loss: 594.7697 - val_mae: 594.7697\n",
            "INFO:tensorflow:Assets written to: model_experiments/Model4/assets\n",
            "Epoch 62/100\n",
            "18/18 [==============================] - 0s 4ms/step - loss: 110.0054 - mae: 110.0054 - val_loss: 592.1656 - val_mae: 592.1656\n",
            "INFO:tensorflow:Assets written to: model_experiments/Model4/assets\n",
            "Epoch 63/100\n",
            "18/18 [==============================] - 0s 4ms/step - loss: 112.4188 - mae: 112.4188 - val_loss: 602.4727 - val_mae: 602.4727\n",
            "Epoch 64/100\n",
            "18/18 [==============================] - 0s 3ms/step - loss: 113.4439 - mae: 113.4439 - val_loss: 670.7295 - val_mae: 670.7295\n",
            "Epoch 65/100\n",
            "18/18 [==============================] - 0s 3ms/step - loss: 115.7557 - mae: 115.7557 - val_loss: 585.1594 - val_mae: 585.1594\n",
            "INFO:tensorflow:Assets written to: model_experiments/Model4/assets\n",
            "Epoch 66/100\n",
            "18/18 [==============================] - 0s 3ms/step - loss: 112.3069 - mae: 112.3069 - val_loss: 585.8987 - val_mae: 585.8987\n",
            "Epoch 67/100\n",
            "18/18 [==============================] - 0s 3ms/step - loss: 108.9034 - mae: 108.9034 - val_loss: 624.7969 - val_mae: 624.7969\n",
            "Epoch 68/100\n",
            "18/18 [==============================] - 0s 3ms/step - loss: 116.7557 - mae: 116.7557 - val_loss: 709.2063 - val_mae: 709.2063\n",
            "Epoch 69/100\n",
            "18/18 [==============================] - 0s 3ms/step - loss: 130.1915 - mae: 130.1915 - val_loss: 696.8691 - val_mae: 696.8691\n",
            "Epoch 70/100\n",
            "18/18 [==============================] - 0s 3ms/step - loss: 117.4973 - mae: 117.4973 - val_loss: 582.1721 - val_mae: 582.1721\n",
            "INFO:tensorflow:Assets written to: model_experiments/Model4/assets\n",
            "Epoch 71/100\n",
            "18/18 [==============================] - 0s 3ms/step - loss: 111.4053 - mae: 111.4053 - val_loss: 592.3586 - val_mae: 592.3586\n",
            "Epoch 72/100\n",
            "18/18 [==============================] - 0s 4ms/step - loss: 110.3650 - mae: 110.3650 - val_loss: 582.6543 - val_mae: 582.6543\n",
            "Epoch 73/100\n",
            "18/18 [==============================] - 0s 3ms/step - loss: 109.6267 - mae: 109.6267 - val_loss: 598.3505 - val_mae: 598.3505\n",
            "Epoch 74/100\n",
            "18/18 [==============================] - 0s 3ms/step - loss: 111.0637 - mae: 111.0637 - val_loss: 597.2785 - val_mae: 597.2785\n",
            "Epoch 75/100\n",
            "18/18 [==============================] - 0s 4ms/step - loss: 110.1981 - mae: 110.1981 - val_loss: 580.6466 - val_mae: 580.6466\n",
            "INFO:tensorflow:Assets written to: model_experiments/Model4/assets\n",
            "Epoch 76/100\n",
            "18/18 [==============================] - 0s 4ms/step - loss: 110.2786 - mae: 110.2786 - val_loss: 578.3000 - val_mae: 578.3000\n",
            "INFO:tensorflow:Assets written to: model_experiments/Model4/assets\n",
            "Epoch 77/100\n",
            "18/18 [==============================] - 0s 3ms/step - loss: 109.9684 - mae: 109.9684 - val_loss: 577.5176 - val_mae: 577.5176\n",
            "INFO:tensorflow:Assets written to: model_experiments/Model4/assets\n",
            "Epoch 78/100\n",
            "18/18 [==============================] - 0s 3ms/step - loss: 110.1154 - mae: 110.1154 - val_loss: 584.0735 - val_mae: 584.0735\n",
            "Epoch 79/100\n",
            "18/18 [==============================] - 0s 3ms/step - loss: 109.9454 - mae: 109.9454 - val_loss: 601.1721 - val_mae: 601.1721\n",
            "Epoch 80/100\n",
            "18/18 [==============================] - 0s 3ms/step - loss: 109.2231 - mae: 109.2231 - val_loss: 584.6572 - val_mae: 584.6572\n",
            "Epoch 81/100\n",
            "18/18 [==============================] - 0s 3ms/step - loss: 108.8816 - mae: 108.8816 - val_loss: 577.2933 - val_mae: 577.2933\n",
            "INFO:tensorflow:Assets written to: model_experiments/Model4/assets\n",
            "Epoch 82/100\n",
            "18/18 [==============================] - 0s 4ms/step - loss: 115.2162 - mae: 115.2162 - val_loss: 575.1487 - val_mae: 575.1487\n",
            "INFO:tensorflow:Assets written to: model_experiments/Model4/assets\n",
            "Epoch 83/100\n",
            "18/18 [==============================] - 0s 3ms/step - loss: 112.1618 - mae: 112.1618 - val_loss: 660.5386 - val_mae: 660.5386\n",
            "Epoch 84/100\n",
            "18/18 [==============================] - 0s 3ms/step - loss: 115.6580 - mae: 115.6580 - val_loss: 579.7722 - val_mae: 579.7722\n",
            "Epoch 85/100\n",
            "18/18 [==============================] - 0s 3ms/step - loss: 108.4625 - mae: 108.4625 - val_loss: 578.7055 - val_mae: 578.7055\n",
            "Epoch 86/100\n",
            "18/18 [==============================] - 0s 3ms/step - loss: 109.1078 - mae: 109.1078 - val_loss: 612.1540 - val_mae: 612.1540\n",
            "Epoch 87/100\n",
            "18/18 [==============================] - 0s 3ms/step - loss: 109.5943 - mae: 109.5943 - val_loss: 573.7505 - val_mae: 573.7505\n",
            "INFO:tensorflow:Assets written to: model_experiments/Model4/assets\n",
            "Epoch 88/100\n",
            "18/18 [==============================] - 0s 4ms/step - loss: 108.3296 - mae: 108.3296 - val_loss: 603.7560 - val_mae: 603.7560\n",
            "Epoch 89/100\n",
            "18/18 [==============================] - 0s 3ms/step - loss: 110.1261 - mae: 110.1261 - val_loss: 573.5157 - val_mae: 573.5157\n",
            "INFO:tensorflow:Assets written to: model_experiments/Model4/assets\n",
            "Epoch 90/100\n",
            "18/18 [==============================] - 0s 3ms/step - loss: 107.8898 - mae: 107.8898 - val_loss: 632.4512 - val_mae: 632.4512\n",
            "Epoch 91/100\n",
            "18/18 [==============================] - 0s 4ms/step - loss: 111.9061 - mae: 111.9061 - val_loss: 661.1208 - val_mae: 661.1208\n",
            "Epoch 92/100\n",
            "18/18 [==============================] - 0s 3ms/step - loss: 110.2413 - mae: 110.2413 - val_loss: 581.5148 - val_mae: 581.5148\n",
            "Epoch 93/100\n",
            "18/18 [==============================] - 0s 4ms/step - loss: 115.7351 - mae: 115.7351 - val_loss: 630.8295 - val_mae: 630.8295\n",
            "Epoch 94/100\n",
            "18/18 [==============================] - 0s 5ms/step - loss: 111.2476 - mae: 111.2476 - val_loss: 575.5905 - val_mae: 575.5905\n",
            "Epoch 95/100\n",
            "18/18 [==============================] - 0s 3ms/step - loss: 110.0501 - mae: 110.0501 - val_loss: 584.2338 - val_mae: 584.2338\n",
            "Epoch 96/100\n",
            "18/18 [==============================] - 0s 4ms/step - loss: 114.5560 - mae: 114.5560 - val_loss: 610.7230 - val_mae: 610.7230\n",
            "Epoch 97/100\n",
            "18/18 [==============================] - 0s 3ms/step - loss: 110.3120 - mae: 110.3120 - val_loss: 588.9648 - val_mae: 588.9648\n",
            "Epoch 98/100\n",
            "18/18 [==============================] - 0s 3ms/step - loss: 110.0176 - mae: 110.0176 - val_loss: 575.3353 - val_mae: 575.3353\n",
            "Epoch 99/100\n",
            "18/18 [==============================] - 0s 4ms/step - loss: 109.7019 - mae: 109.7019 - val_loss: 570.3993 - val_mae: 570.3993\n",
            "INFO:tensorflow:Assets written to: model_experiments/Model4/assets\n",
            "Epoch 100/100\n",
            "18/18 [==============================] - 0s 4ms/step - loss: 110.7865 - mae: 110.7865 - val_loss: 609.9927 - val_mae: 609.9927\n"
          ],
          "name": "stdout"
        },
        {
          "output_type": "execute_result",
          "data": {
            "text/plain": [
              "<tensorflow.python.keras.callbacks.History at 0x7fba7d48d5d0>"
            ]
          },
          "metadata": {
            "tags": []
          },
          "execution_count": 76
        }
      ]
    },
    {
      "cell_type": "code",
      "metadata": {
        "colab": {
          "base_uri": "https://localhost:8080/"
        },
        "id": "2_1BNRgDnnzT",
        "outputId": "25310605-69b8-49a2-9aa9-8e4cecf26b88"
      },
      "source": [
        "train_windows[0]"
      ],
      "execution_count": null,
      "outputs": [
        {
          "output_type": "execute_result",
          "data": {
            "text/plain": [
              "array([123.65499, 125.455  , 108.58483, 118.67466, 121.33866, 120.65533,\n",
              "       121.795  ])"
            ]
          },
          "metadata": {
            "tags": []
          },
          "execution_count": 77
        }
      ]
    },
    {
      "cell_type": "code",
      "metadata": {
        "id": "cWDr3sFko3dv"
      },
      "source": [
        "model_4 =tf.keras.models.load_model(\"/content/model_experiments/Model4\")"
      ],
      "execution_count": null,
      "outputs": []
    },
    {
      "cell_type": "code",
      "metadata": {
        "id": "ls1jKdqJpWTR"
      },
      "source": [
        "model_4_preds =model_preds(model_4, test_windows)"
      ],
      "execution_count": null,
      "outputs": []
    },
    {
      "cell_type": "code",
      "metadata": {
        "colab": {
          "base_uri": "https://localhost:8080/"
        },
        "id": "iAwgcpU-pcMK",
        "outputId": "1097c067-dc10-4482-8adb-d21bb03be2ff"
      },
      "source": [
        "model_4_preds[:2]"
      ],
      "execution_count": null,
      "outputs": [
        {
          "output_type": "execute_result",
          "data": {
            "text/plain": [
              "<tf.Tensor: shape=(2,), dtype=float32, numpy=array([8897.537, 8793.336], dtype=float32)>"
            ]
          },
          "metadata": {
            "tags": []
          },
          "execution_count": 80
        }
      ]
    },
    {
      "cell_type": "code",
      "metadata": {
        "id": "pbuuh2cWpnxu"
      },
      "source": [
        "model_4_results = evaluate_preds(tf.squeeze(test_labels), model_4_preds)"
      ],
      "execution_count": null,
      "outputs": []
    },
    {
      "cell_type": "code",
      "metadata": {
        "colab": {
          "base_uri": "https://localhost:8080/"
        },
        "id": "dhIY9t6ppxT7",
        "outputId": "c2801be2-583c-4ba7-9b7d-db4a3ed8ed16"
      },
      "source": [
        "model_4_results"
      ],
      "execution_count": null,
      "outputs": [
        {
          "output_type": "execute_result",
          "data": {
            "text/plain": [
              "{'mae': 570.39935,\n",
              " 'mape': 2.5455723,\n",
              " 'mase': 1.0020337,\n",
              " 'mse': 1182763.1,\n",
              " 'rmse': 1087.5492}"
            ]
          },
          "metadata": {
            "tags": []
          },
          "execution_count": 82
        }
      ]
    },
    {
      "cell_type": "code",
      "metadata": {
        "colab": {
          "base_uri": "https://localhost:8080/"
        },
        "id": "tFa2pYJ4pyuh",
        "outputId": "5ca507cd-e7d8-44dd-84f6-e2c17becfee4"
      },
      "source": [
        "test_labels[:2]"
      ],
      "execution_count": null,
      "outputs": [
        {
          "output_type": "execute_result",
          "data": {
            "text/plain": [
              "array([[8798.04205463],\n",
              "       [9081.18687849]])"
            ]
          },
          "metadata": {
            "tags": []
          },
          "execution_count": 83
        }
      ]
    },
    {
      "cell_type": "markdown",
      "metadata": {
        "id": "fJlW2sqkqB6l"
      },
      "source": [
        "## Model 5"
      ]
    },
    {
      "cell_type": "code",
      "metadata": {
        "colab": {
          "base_uri": "https://localhost:8080/"
        },
        "id": "8_W7N6JGs6fa",
        "outputId": "d757dcb3-142a-431d-8fc3-346e7e99d175"
      },
      "source": [
        "HORIZON = 1\n",
        "WINDOW_SIZE = 7\n",
        "full_windows, full_labels = make_windows(prices, WINDOW_SIZE, HORIZON)\n",
        "len(full_windows), len(full_labels)"
      ],
      "execution_count": null,
      "outputs": [
        {
          "output_type": "execute_result",
          "data": {
            "text/plain": [
              "(2780, 2780)"
            ]
          },
          "metadata": {
            "tags": []
          },
          "execution_count": 84
        }
      ]
    },
    {
      "cell_type": "code",
      "metadata": {
        "id": "_uVw8DMrs6fe"
      },
      "source": [
        "train_windows, test_windows,train_labels,  test_labels = make_train_test_split(full_windows, full_labels)"
      ],
      "execution_count": null,
      "outputs": []
    },
    {
      "cell_type": "code",
      "metadata": {
        "id": "EOaCk7b2s6ff"
      },
      "source": [
        "expand_dims_layer = layers.Lambda(lambda x: tf.expand_dims(x, axis =1))"
      ],
      "execution_count": null,
      "outputs": []
    },
    {
      "cell_type": "code",
      "metadata": {
        "colab": {
          "base_uri": "https://localhost:8080/"
        },
        "id": "JDP_eC0cs8Rj",
        "outputId": "0d8fa3ed-7249-40bd-a1bf-49df04e63de0"
      },
      "source": [
        "tf.random.set_seed(42)\n",
        "model_5= keras.Sequential([\n",
        "                           #layers.Input(shape = (WINDOW_SIZE)),\n",
        "                           expand_dims_layer,\n",
        "                           layers.LSTM(128, return_sequences=1, activation=\"relu\"),\n",
        "                           layers.Conv1D(128, 5, padding = \"causal\", activation=\"relu\"),\n",
        "                           layers.Dense(HORIZON)\n",
        "])\n",
        "model_5.compile(loss=\"mae\",\n",
        "                optimizer=tf.keras.optimizers.Adam(),\n",
        "                metrics=[\"mae\"])\n",
        "model_5.fit(train_windows, train_labels, epochs= 100, batch_size = 128, callbacks = [create_model_checkpoint(\"Model5\")],\n",
        "            validation_data = (test_windows, test_labels))"
      ],
      "execution_count": null,
      "outputs": [
        {
          "output_type": "stream",
          "text": [
            "Epoch 1/100\n",
            "18/18 [==============================] - 2s 26ms/step - loss: 2481.1802 - mae: 2481.1802 - val_loss: 8725.1855 - val_mae: 8725.1855\n",
            "INFO:tensorflow:Assets written to: model_experiments/Model5/assets\n",
            "Epoch 2/100\n",
            "18/18 [==============================] - 0s 10ms/step - loss: 531.1354 - mae: 531.1354 - val_loss: 1098.2024 - val_mae: 1098.2024\n",
            "INFO:tensorflow:Assets written to: model_experiments/Model5/assets\n",
            "Epoch 3/100\n",
            "18/18 [==============================] - 0s 10ms/step - loss: 224.6337 - mae: 224.6337 - val_loss: 1035.2129 - val_mae: 1035.2129\n",
            "INFO:tensorflow:Assets written to: model_experiments/Model5/assets\n",
            "Epoch 4/100\n",
            "18/18 [==============================] - 0s 9ms/step - loss: 176.3823 - mae: 176.3823 - val_loss: 1045.2590 - val_mae: 1045.2590\n",
            "Epoch 5/100\n",
            "18/18 [==============================] - 0s 10ms/step - loss: 173.0992 - mae: 173.0992 - val_loss: 942.3556 - val_mae: 942.3556\n",
            "INFO:tensorflow:Assets written to: model_experiments/Model5/assets\n",
            "Epoch 6/100\n",
            "18/18 [==============================] - 0s 10ms/step - loss: 172.2112 - mae: 172.2112 - val_loss: 930.6235 - val_mae: 930.6235\n",
            "INFO:tensorflow:Assets written to: model_experiments/Model5/assets\n",
            "Epoch 7/100\n",
            "18/18 [==============================] - 0s 10ms/step - loss: 164.9418 - mae: 164.9418 - val_loss: 906.5896 - val_mae: 906.5896\n",
            "INFO:tensorflow:Assets written to: model_experiments/Model5/assets\n",
            "Epoch 8/100\n",
            "18/18 [==============================] - 0s 10ms/step - loss: 161.3830 - mae: 161.3830 - val_loss: 883.8363 - val_mae: 883.8363\n",
            "INFO:tensorflow:Assets written to: model_experiments/Model5/assets\n",
            "Epoch 9/100\n",
            "18/18 [==============================] - 0s 11ms/step - loss: 160.7159 - mae: 160.7159 - val_loss: 874.1461 - val_mae: 874.1461\n",
            "INFO:tensorflow:Assets written to: model_experiments/Model5/assets\n",
            "Epoch 10/100\n",
            "18/18 [==============================] - 0s 10ms/step - loss: 155.5624 - mae: 155.5624 - val_loss: 834.5739 - val_mae: 834.5739\n",
            "INFO:tensorflow:Assets written to: model_experiments/Model5/assets\n",
            "Epoch 11/100\n",
            "18/18 [==============================] - 0s 10ms/step - loss: 147.8371 - mae: 147.8371 - val_loss: 835.1487 - val_mae: 835.1487\n",
            "Epoch 12/100\n",
            "18/18 [==============================] - 0s 9ms/step - loss: 143.6904 - mae: 143.6904 - val_loss: 868.8413 - val_mae: 868.8413\n",
            "Epoch 13/100\n",
            "18/18 [==============================] - 0s 9ms/step - loss: 143.4979 - mae: 143.4979 - val_loss: 819.1122 - val_mae: 819.1122\n",
            "INFO:tensorflow:Assets written to: model_experiments/Model5/assets\n",
            "Epoch 14/100\n",
            "18/18 [==============================] - 0s 10ms/step - loss: 137.0868 - mae: 137.0868 - val_loss: 750.0742 - val_mae: 750.0742\n",
            "INFO:tensorflow:Assets written to: model_experiments/Model5/assets\n",
            "Epoch 15/100\n",
            "18/18 [==============================] - 0s 10ms/step - loss: 141.1510 - mae: 141.1510 - val_loss: 734.3484 - val_mae: 734.3484\n",
            "INFO:tensorflow:Assets written to: model_experiments/Model5/assets\n",
            "Epoch 16/100\n",
            "18/18 [==============================] - 0s 9ms/step - loss: 130.9899 - mae: 130.9899 - val_loss: 717.1270 - val_mae: 717.1270\n",
            "INFO:tensorflow:Assets written to: model_experiments/Model5/assets\n",
            "Epoch 17/100\n",
            "18/18 [==============================] - 0s 10ms/step - loss: 127.8106 - mae: 127.8106 - val_loss: 734.7487 - val_mae: 734.7487\n",
            "Epoch 18/100\n",
            "18/18 [==============================] - 0s 9ms/step - loss: 124.5387 - mae: 124.5387 - val_loss: 670.4124 - val_mae: 670.4124\n",
            "INFO:tensorflow:Assets written to: model_experiments/Model5/assets\n",
            "Epoch 19/100\n",
            "18/18 [==============================] - 0s 9ms/step - loss: 123.6229 - mae: 123.6229 - val_loss: 715.4913 - val_mae: 715.4913\n",
            "Epoch 20/100\n",
            "18/18 [==============================] - 0s 10ms/step - loss: 119.5090 - mae: 119.5090 - val_loss: 652.0920 - val_mae: 652.0920\n",
            "INFO:tensorflow:Assets written to: model_experiments/Model5/assets\n",
            "Epoch 21/100\n",
            "18/18 [==============================] - 0s 11ms/step - loss: 124.9489 - mae: 124.9489 - val_loss: 639.6792 - val_mae: 639.6792\n",
            "INFO:tensorflow:Assets written to: model_experiments/Model5/assets\n",
            "Epoch 22/100\n",
            "18/18 [==============================] - 0s 10ms/step - loss: 120.5979 - mae: 120.5979 - val_loss: 685.9603 - val_mae: 685.9603\n",
            "Epoch 23/100\n",
            "18/18 [==============================] - 0s 10ms/step - loss: 119.7594 - mae: 119.7594 - val_loss: 631.6249 - val_mae: 631.6249\n",
            "INFO:tensorflow:Assets written to: model_experiments/Model5/assets\n",
            "Epoch 24/100\n",
            "18/18 [==============================] - 0s 9ms/step - loss: 116.6584 - mae: 116.6584 - val_loss: 624.9434 - val_mae: 624.9434\n",
            "INFO:tensorflow:Assets written to: model_experiments/Model5/assets\n",
            "Epoch 25/100\n",
            "18/18 [==============================] - 0s 10ms/step - loss: 117.0350 - mae: 117.0350 - val_loss: 624.4232 - val_mae: 624.4232\n",
            "INFO:tensorflow:Assets written to: model_experiments/Model5/assets\n",
            "Epoch 26/100\n",
            "18/18 [==============================] - 0s 10ms/step - loss: 118.0467 - mae: 118.0467 - val_loss: 626.5156 - val_mae: 626.5156\n",
            "Epoch 27/100\n",
            "18/18 [==============================] - 0s 10ms/step - loss: 118.0047 - mae: 118.0047 - val_loss: 654.2489 - val_mae: 654.2489\n",
            "Epoch 28/100\n",
            "18/18 [==============================] - 0s 10ms/step - loss: 116.2927 - mae: 116.2927 - val_loss: 604.0192 - val_mae: 604.0192\n",
            "INFO:tensorflow:Assets written to: model_experiments/Model5/assets\n",
            "Epoch 29/100\n",
            "18/18 [==============================] - 0s 10ms/step - loss: 112.6125 - mae: 112.6125 - val_loss: 668.4584 - val_mae: 668.4584\n",
            "Epoch 30/100\n",
            "18/18 [==============================] - 0s 10ms/step - loss: 125.7471 - mae: 125.7471 - val_loss: 600.1394 - val_mae: 600.1394\n",
            "INFO:tensorflow:Assets written to: model_experiments/Model5/assets\n",
            "Epoch 31/100\n",
            "18/18 [==============================] - 0s 10ms/step - loss: 112.3461 - mae: 112.3461 - val_loss: 599.4807 - val_mae: 599.4807\n",
            "INFO:tensorflow:Assets written to: model_experiments/Model5/assets\n",
            "Epoch 32/100\n",
            "18/18 [==============================] - 0s 10ms/step - loss: 113.3112 - mae: 113.3112 - val_loss: 600.6622 - val_mae: 600.6622\n",
            "Epoch 33/100\n",
            "18/18 [==============================] - 0s 10ms/step - loss: 114.8926 - mae: 114.8926 - val_loss: 622.4543 - val_mae: 622.4543\n",
            "Epoch 34/100\n",
            "18/18 [==============================] - 0s 10ms/step - loss: 113.3434 - mae: 113.3434 - val_loss: 595.1752 - val_mae: 595.1752\n",
            "INFO:tensorflow:Assets written to: model_experiments/Model5/assets\n",
            "Epoch 35/100\n",
            "18/18 [==============================] - 0s 10ms/step - loss: 113.0614 - mae: 113.0614 - val_loss: 596.9247 - val_mae: 596.9247\n",
            "Epoch 36/100\n",
            "18/18 [==============================] - 0s 10ms/step - loss: 115.6753 - mae: 115.6753 - val_loss: 592.2504 - val_mae: 592.2504\n",
            "INFO:tensorflow:Assets written to: model_experiments/Model5/assets\n",
            "Epoch 37/100\n",
            "18/18 [==============================] - 0s 10ms/step - loss: 110.9755 - mae: 110.9755 - val_loss: 590.7920 - val_mae: 590.7920\n",
            "INFO:tensorflow:Assets written to: model_experiments/Model5/assets\n",
            "Epoch 38/100\n",
            "18/18 [==============================] - 0s 10ms/step - loss: 113.5646 - mae: 113.5646 - val_loss: 604.5387 - val_mae: 604.5387\n",
            "Epoch 39/100\n",
            "18/18 [==============================] - 0s 10ms/step - loss: 113.6125 - mae: 113.6125 - val_loss: 589.3969 - val_mae: 589.3969\n",
            "INFO:tensorflow:Assets written to: model_experiments/Model5/assets\n",
            "Epoch 40/100\n",
            "18/18 [==============================] - 0s 10ms/step - loss: 110.7715 - mae: 110.7715 - val_loss: 597.7693 - val_mae: 597.7693\n",
            "Epoch 41/100\n",
            "18/18 [==============================] - 0s 10ms/step - loss: 111.5610 - mae: 111.5610 - val_loss: 601.2344 - val_mae: 601.2344\n",
            "Epoch 42/100\n",
            "18/18 [==============================] - 0s 10ms/step - loss: 116.8407 - mae: 116.8407 - val_loss: 774.6407 - val_mae: 774.6407\n",
            "Epoch 43/100\n",
            "18/18 [==============================] - 0s 11ms/step - loss: 128.5679 - mae: 128.5679 - val_loss: 619.2877 - val_mae: 619.2877\n",
            "Epoch 44/100\n",
            "18/18 [==============================] - 0s 10ms/step - loss: 122.6191 - mae: 122.6191 - val_loss: 598.0626 - val_mae: 598.0626\n",
            "Epoch 45/100\n",
            "18/18 [==============================] - 0s 10ms/step - loss: 112.0137 - mae: 112.0137 - val_loss: 597.9213 - val_mae: 597.9213\n",
            "Epoch 46/100\n",
            "18/18 [==============================] - 0s 11ms/step - loss: 111.4426 - mae: 111.4426 - val_loss: 584.2549 - val_mae: 584.2549\n",
            "INFO:tensorflow:Assets written to: model_experiments/Model5/assets\n",
            "Epoch 47/100\n",
            "18/18 [==============================] - 0s 10ms/step - loss: 111.6687 - mae: 111.6687 - val_loss: 637.7026 - val_mae: 637.7026\n",
            "Epoch 48/100\n",
            "18/18 [==============================] - 0s 10ms/step - loss: 110.9760 - mae: 110.9760 - val_loss: 635.2872 - val_mae: 635.2872\n",
            "Epoch 49/100\n",
            "18/18 [==============================] - 0s 10ms/step - loss: 112.9736 - mae: 112.9736 - val_loss: 645.2695 - val_mae: 645.2695\n",
            "Epoch 50/100\n",
            "18/18 [==============================] - 0s 10ms/step - loss: 121.1933 - mae: 121.1933 - val_loss: 607.5140 - val_mae: 607.5140\n",
            "Epoch 51/100\n",
            "18/18 [==============================] - 0s 11ms/step - loss: 112.9749 - mae: 112.9749 - val_loss: 606.7715 - val_mae: 606.7715\n",
            "Epoch 52/100\n",
            "18/18 [==============================] - 0s 9ms/step - loss: 115.7532 - mae: 115.7532 - val_loss: 615.8479 - val_mae: 615.8479\n",
            "Epoch 53/100\n",
            "18/18 [==============================] - 0s 10ms/step - loss: 114.8459 - mae: 114.8459 - val_loss: 677.7818 - val_mae: 677.7818\n",
            "Epoch 54/100\n",
            "18/18 [==============================] - 0s 11ms/step - loss: 111.9588 - mae: 111.9588 - val_loss: 582.6581 - val_mae: 582.6581\n",
            "INFO:tensorflow:Assets written to: model_experiments/Model5/assets\n",
            "Epoch 55/100\n",
            "18/18 [==============================] - 0s 11ms/step - loss: 115.6885 - mae: 115.6885 - val_loss: 648.8974 - val_mae: 648.8974\n",
            "Epoch 56/100\n",
            "18/18 [==============================] - 0s 10ms/step - loss: 117.9678 - mae: 117.9678 - val_loss: 804.8097 - val_mae: 804.8097\n",
            "Epoch 57/100\n",
            "18/18 [==============================] - 0s 11ms/step - loss: 127.9755 - mae: 127.9755 - val_loss: 680.1604 - val_mae: 680.1604\n",
            "Epoch 58/100\n",
            "18/18 [==============================] - 0s 10ms/step - loss: 119.5371 - mae: 119.5371 - val_loss: 621.4820 - val_mae: 621.4820\n",
            "Epoch 59/100\n",
            "18/18 [==============================] - 0s 10ms/step - loss: 113.0068 - mae: 113.0068 - val_loss: 591.6028 - val_mae: 591.6028\n",
            "Epoch 60/100\n",
            "18/18 [==============================] - 0s 10ms/step - loss: 109.4269 - mae: 109.4269 - val_loss: 586.9831 - val_mae: 586.9831\n",
            "Epoch 61/100\n",
            "18/18 [==============================] - 0s 10ms/step - loss: 109.2059 - mae: 109.2059 - val_loss: 588.2165 - val_mae: 588.2165\n",
            "Epoch 62/100\n",
            "18/18 [==============================] - 0s 11ms/step - loss: 109.6065 - mae: 109.6065 - val_loss: 588.0822 - val_mae: 588.0822\n",
            "Epoch 63/100\n",
            "18/18 [==============================] - 0s 10ms/step - loss: 112.7554 - mae: 112.7554 - val_loss: 620.6221 - val_mae: 620.6221\n",
            "Epoch 64/100\n",
            "18/18 [==============================] - 0s 12ms/step - loss: 110.0215 - mae: 110.0215 - val_loss: 659.4615 - val_mae: 659.4615\n",
            "Epoch 65/100\n",
            "18/18 [==============================] - 0s 10ms/step - loss: 112.7649 - mae: 112.7649 - val_loss: 582.3114 - val_mae: 582.3114\n",
            "INFO:tensorflow:Assets written to: model_experiments/Model5/assets\n",
            "Epoch 66/100\n",
            "18/18 [==============================] - 0s 10ms/step - loss: 109.0123 - mae: 109.0123 - val_loss: 581.2148 - val_mae: 581.2148\n",
            "INFO:tensorflow:Assets written to: model_experiments/Model5/assets\n",
            "Epoch 67/100\n",
            "18/18 [==============================] - 0s 10ms/step - loss: 107.9125 - mae: 107.9125 - val_loss: 622.4873 - val_mae: 622.4873\n",
            "Epoch 68/100\n",
            "18/18 [==============================] - 0s 10ms/step - loss: 112.1208 - mae: 112.1208 - val_loss: 581.5425 - val_mae: 581.5425\n",
            "Epoch 69/100\n",
            "18/18 [==============================] - 0s 10ms/step - loss: 114.4021 - mae: 114.4021 - val_loss: 669.8549 - val_mae: 669.8549\n",
            "Epoch 70/100\n",
            "18/18 [==============================] - 0s 10ms/step - loss: 118.2269 - mae: 118.2269 - val_loss: 626.3555 - val_mae: 626.3555\n",
            "Epoch 71/100\n",
            "18/18 [==============================] - 0s 12ms/step - loss: 110.3300 - mae: 110.3300 - val_loss: 604.7348 - val_mae: 604.7348\n",
            "Epoch 72/100\n",
            "18/18 [==============================] - 0s 10ms/step - loss: 116.2294 - mae: 116.2294 - val_loss: 631.1875 - val_mae: 631.1875\n",
            "Epoch 73/100\n",
            "18/18 [==============================] - 0s 10ms/step - loss: 110.4058 - mae: 110.4058 - val_loss: 577.1831 - val_mae: 577.1831\n",
            "INFO:tensorflow:Assets written to: model_experiments/Model5/assets\n",
            "Epoch 74/100\n",
            "18/18 [==============================] - 0s 10ms/step - loss: 112.9974 - mae: 112.9974 - val_loss: 611.5645 - val_mae: 611.5645\n",
            "Epoch 75/100\n",
            "18/18 [==============================] - 0s 11ms/step - loss: 112.3362 - mae: 112.3362 - val_loss: 587.0723 - val_mae: 587.0723\n",
            "Epoch 76/100\n",
            "18/18 [==============================] - 0s 10ms/step - loss: 111.7399 - mae: 111.7399 - val_loss: 576.4943 - val_mae: 576.4943\n",
            "INFO:tensorflow:Assets written to: model_experiments/Model5/assets\n",
            "Epoch 77/100\n",
            "18/18 [==============================] - 0s 10ms/step - loss: 110.0719 - mae: 110.0719 - val_loss: 576.9583 - val_mae: 576.9583\n",
            "Epoch 78/100\n",
            "18/18 [==============================] - 0s 10ms/step - loss: 113.0188 - mae: 113.0188 - val_loss: 631.4762 - val_mae: 631.4762\n",
            "Epoch 79/100\n",
            "18/18 [==============================] - 0s 10ms/step - loss: 114.5846 - mae: 114.5846 - val_loss: 601.8150 - val_mae: 601.8150\n",
            "Epoch 80/100\n",
            "18/18 [==============================] - 0s 11ms/step - loss: 109.4505 - mae: 109.4505 - val_loss: 611.3130 - val_mae: 611.3130\n",
            "Epoch 81/100\n",
            "18/18 [==============================] - 0s 11ms/step - loss: 109.9168 - mae: 109.9168 - val_loss: 575.4916 - val_mae: 575.4916\n",
            "INFO:tensorflow:Assets written to: model_experiments/Model5/assets\n",
            "Epoch 82/100\n",
            "18/18 [==============================] - 0s 10ms/step - loss: 122.1825 - mae: 122.1825 - val_loss: 586.0968 - val_mae: 586.0968\n",
            "Epoch 83/100\n",
            "18/18 [==============================] - 0s 10ms/step - loss: 115.9986 - mae: 115.9986 - val_loss: 727.3958 - val_mae: 727.3958\n",
            "Epoch 84/100\n",
            "18/18 [==============================] - 0s 10ms/step - loss: 117.5244 - mae: 117.5244 - val_loss: 600.1488 - val_mae: 600.1488\n",
            "Epoch 85/100\n",
            "18/18 [==============================] - 0s 10ms/step - loss: 109.2039 - mae: 109.2039 - val_loss: 607.4982 - val_mae: 607.4982\n",
            "Epoch 86/100\n",
            "18/18 [==============================] - 0s 10ms/step - loss: 109.3159 - mae: 109.3159 - val_loss: 578.9225 - val_mae: 578.9225\n",
            "Epoch 87/100\n",
            "18/18 [==============================] - 0s 10ms/step - loss: 107.3772 - mae: 107.3772 - val_loss: 581.8238 - val_mae: 581.8238\n",
            "Epoch 88/100\n",
            "18/18 [==============================] - 0s 10ms/step - loss: 109.4245 - mae: 109.4245 - val_loss: 581.7792 - val_mae: 581.7792\n",
            "Epoch 89/100\n",
            "18/18 [==============================] - 0s 11ms/step - loss: 108.1439 - mae: 108.1439 - val_loss: 577.1930 - val_mae: 577.1930\n",
            "Epoch 90/100\n",
            "18/18 [==============================] - 0s 10ms/step - loss: 107.8780 - mae: 107.8780 - val_loss: 572.9033 - val_mae: 572.9033\n",
            "INFO:tensorflow:Assets written to: model_experiments/Model5/assets\n",
            "Epoch 91/100\n",
            "18/18 [==============================] - 0s 10ms/step - loss: 112.1950 - mae: 112.1950 - val_loss: 580.0077 - val_mae: 580.0077\n",
            "Epoch 92/100\n",
            "18/18 [==============================] - 0s 10ms/step - loss: 118.7444 - mae: 118.7444 - val_loss: 612.4546 - val_mae: 612.4546\n",
            "Epoch 93/100\n",
            "18/18 [==============================] - 0s 12ms/step - loss: 120.8212 - mae: 120.8212 - val_loss: 603.5591 - val_mae: 603.5591\n",
            "Epoch 94/100\n",
            "18/18 [==============================] - 0s 10ms/step - loss: 111.1599 - mae: 111.1599 - val_loss: 573.5364 - val_mae: 573.5364\n",
            "Epoch 95/100\n",
            "18/18 [==============================] - 0s 10ms/step - loss: 106.5484 - mae: 106.5484 - val_loss: 579.7607 - val_mae: 579.7607\n",
            "Epoch 96/100\n",
            "18/18 [==============================] - 0s 10ms/step - loss: 108.2951 - mae: 108.2951 - val_loss: 581.2295 - val_mae: 581.2295\n",
            "Epoch 97/100\n",
            "18/18 [==============================] - 0s 11ms/step - loss: 107.2487 - mae: 107.2487 - val_loss: 573.1148 - val_mae: 573.1148\n",
            "Epoch 98/100\n",
            "18/18 [==============================] - 0s 10ms/step - loss: 108.0408 - mae: 108.0408 - val_loss: 586.5379 - val_mae: 586.5379\n",
            "Epoch 99/100\n",
            "18/18 [==============================] - 0s 11ms/step - loss: 108.2572 - mae: 108.2572 - val_loss: 589.3247 - val_mae: 589.3247\n",
            "Epoch 100/100\n",
            "18/18 [==============================] - 0s 11ms/step - loss: 117.8702 - mae: 117.8702 - val_loss: 671.1824 - val_mae: 671.1824\n"
          ],
          "name": "stdout"
        },
        {
          "output_type": "execute_result",
          "data": {
            "text/plain": [
              "<tensorflow.python.keras.callbacks.History at 0x7fba7d3072d0>"
            ]
          },
          "metadata": {
            "tags": []
          },
          "execution_count": 87
        }
      ]
    },
    {
      "cell_type": "code",
      "metadata": {
        "id": "1SKDAHcDuV9x"
      },
      "source": [
        "model_5 = tf.keras.models.load_model(\"/content/model_experiments/Model5\")"
      ],
      "execution_count": null,
      "outputs": []
    },
    {
      "cell_type": "code",
      "metadata": {
        "id": "mmFRvOadwJeI"
      },
      "source": [
        "model_5_preds =model_preds(model_5, test_windows)"
      ],
      "execution_count": null,
      "outputs": []
    },
    {
      "cell_type": "code",
      "metadata": {
        "id": "p3draSDywSH-"
      },
      "source": [
        "model_5_results = evaluate_preds(tf.squeeze(test_labels), model_5_preds)"
      ],
      "execution_count": null,
      "outputs": []
    },
    {
      "cell_type": "code",
      "metadata": {
        "colab": {
          "base_uri": "https://localhost:8080/"
        },
        "id": "Tz-Hit6dwZ4y",
        "outputId": "d4173308-9fdf-4dc3-9872-6342d1185083"
      },
      "source": [
        "model_5_results"
      ],
      "execution_count": null,
      "outputs": [
        {
          "output_type": "execute_result",
          "data": {
            "text/plain": [
              "{'mae': 572.9033,\n",
              " 'mape': 2.5838635,\n",
              " 'mase': 1.0064324,\n",
              " 'mse': 1178627.6,\n",
              " 'rmse': 1085.6461}"
            ]
          },
          "metadata": {
            "tags": []
          },
          "execution_count": 91
        }
      ]
    },
    {
      "cell_type": "code",
      "metadata": {
        "colab": {
          "base_uri": "https://localhost:8080/"
        },
        "id": "I1-SLLlHwbKK",
        "outputId": "2582914e-2cf2-4a2c-8f2d-0c058342a44f"
      },
      "source": [
        "naive_results"
      ],
      "execution_count": null,
      "outputs": [
        {
          "output_type": "execute_result",
          "data": {
            "text/plain": [
              "{'mae': 567.9802,\n",
              " 'mape': 2.516525,\n",
              " 'mase': 0.99957,\n",
              " 'mse': 1147547.0,\n",
              " 'rmse': 1071.2362}"
            ]
          },
          "metadata": {
            "tags": []
          },
          "execution_count": 92
        }
      ]
    },
    {
      "cell_type": "markdown",
      "metadata": {
        "id": "5UOk0JRIweHq"
      },
      "source": [
        "## Make a multivariate Time series"
      ]
    },
    {
      "cell_type": "code",
      "metadata": {
        "id": "4dLJ0KDYxkBE"
      },
      "source": [
        "block_reward_1 = 50 # 3 January 2009 (2009-01-03) - this block reward isn't in our dataset (it starts from 01 October 2013)\n",
        "block_reward_2 = 25 # 28 November 2012 \n",
        "block_reward_3 = 12.5 # 9 July 2016\n",
        "block_reward_4 = 6.25 # 11 May 2020\n",
        "\n",
        "# Block reward dates (datetime form of the above date stamps)\n",
        "block_reward_2_datetime = np.datetime64(\"2012-11-28\")\n",
        "block_reward_3_datetime = np.datetime64(\"2016-07-09\")\n",
        "block_reward_4_datetime = np.datetime64(\"2020-05-11\")"
      ],
      "execution_count": null,
      "outputs": []
    },
    {
      "cell_type": "code",
      "metadata": {
        "id": "W72B7uCf6Ey4"
      },
      "source": [
        "bitcoin_prices_block = bitcoin_prices.copy()"
      ],
      "execution_count": null,
      "outputs": []
    },
    {
      "cell_type": "code",
      "metadata": {
        "id": "Cx6cAbBX7kj8"
      },
      "source": [
        "bitcoin_prices_block[\"Block_reward\"] = None"
      ],
      "execution_count": null,
      "outputs": []
    },
    {
      "cell_type": "code",
      "metadata": {
        "id": "x6XZWe1G7obj"
      },
      "source": [
        "block_reward_3_days = (block_reward_3_datetime- bitcoin_prices_block.index[0]).days\n",
        "block_reward_4_days = (block_reward_4_datetime-bitcoin_prices_block.index[0]).days"
      ],
      "execution_count": null,
      "outputs": []
    },
    {
      "cell_type": "code",
      "metadata": {
        "colab": {
          "base_uri": "https://localhost:8080/"
        },
        "id": "uqMI6Q6c73v4",
        "outputId": "6e134d9b-cf75-4f04-f109-512ce52627ac"
      },
      "source": [
        "block_reward_4_days, block_reward_3_days"
      ],
      "execution_count": null,
      "outputs": [
        {
          "output_type": "execute_result",
          "data": {
            "text/plain": [
              "(2414, 1012)"
            ]
          },
          "metadata": {
            "tags": []
          },
          "execution_count": 97
        }
      ]
    },
    {
      "cell_type": "code",
      "metadata": {
        "colab": {
          "base_uri": "https://localhost:8080/",
          "height": 233
        },
        "id": "WS9k_rB78Ex6",
        "outputId": "13edb5c0-2f3d-48fc-ba79-2774a59f0668"
      },
      "source": [
        "bitcoin_prices_block.tail()"
      ],
      "execution_count": null,
      "outputs": [
        {
          "output_type": "execute_result",
          "data": {
            "text/html": [
              "<div>\n",
              "<style scoped>\n",
              "    .dataframe tbody tr th:only-of-type {\n",
              "        vertical-align: middle;\n",
              "    }\n",
              "\n",
              "    .dataframe tbody tr th {\n",
              "        vertical-align: top;\n",
              "    }\n",
              "\n",
              "    .dataframe thead th {\n",
              "        text-align: right;\n",
              "    }\n",
              "</style>\n",
              "<table border=\"1\" class=\"dataframe\">\n",
              "  <thead>\n",
              "    <tr style=\"text-align: right;\">\n",
              "      <th></th>\n",
              "      <th>Price</th>\n",
              "      <th>Block_reward</th>\n",
              "    </tr>\n",
              "    <tr>\n",
              "      <th>Date</th>\n",
              "      <th></th>\n",
              "      <th></th>\n",
              "    </tr>\n",
              "  </thead>\n",
              "  <tbody>\n",
              "    <tr>\n",
              "      <th>2021-05-14</th>\n",
              "      <td>49764.132082</td>\n",
              "      <td>None</td>\n",
              "    </tr>\n",
              "    <tr>\n",
              "      <th>2021-05-15</th>\n",
              "      <td>50032.693137</td>\n",
              "      <td>None</td>\n",
              "    </tr>\n",
              "    <tr>\n",
              "      <th>2021-05-16</th>\n",
              "      <td>47885.625255</td>\n",
              "      <td>None</td>\n",
              "    </tr>\n",
              "    <tr>\n",
              "      <th>2021-05-17</th>\n",
              "      <td>45604.615754</td>\n",
              "      <td>None</td>\n",
              "    </tr>\n",
              "    <tr>\n",
              "      <th>2021-05-18</th>\n",
              "      <td>43144.471291</td>\n",
              "      <td>None</td>\n",
              "    </tr>\n",
              "  </tbody>\n",
              "</table>\n",
              "</div>"
            ],
            "text/plain": [
              "                   Price Block_reward\n",
              "Date                                 \n",
              "2021-05-14  49764.132082         None\n",
              "2021-05-15  50032.693137         None\n",
              "2021-05-16  47885.625255         None\n",
              "2021-05-17  45604.615754         None\n",
              "2021-05-18  43144.471291         None"
            ]
          },
          "metadata": {
            "tags": []
          },
          "execution_count": 98
        }
      ]
    },
    {
      "cell_type": "code",
      "metadata": {
        "colab": {
          "base_uri": "https://localhost:8080/"
        },
        "id": "0mRwNpQa8Qih",
        "outputId": "4c97c824-5b3f-425a-f7db-a642944546ec"
      },
      "source": [
        "bitcoin_prices_block[\"Block_reward\"][:block_reward_3_datetime] = block_reward_2"
      ],
      "execution_count": null,
      "outputs": [
        {
          "output_type": "stream",
          "text": [
            "/usr/local/lib/python3.7/dist-packages/ipykernel_launcher.py:1: SettingWithCopyWarning: \n",
            "A value is trying to be set on a copy of a slice from a DataFrame\n",
            "\n",
            "See the caveats in the documentation: https://pandas.pydata.org/pandas-docs/stable/user_guide/indexing.html#returning-a-view-versus-a-copy\n",
            "  \"\"\"Entry point for launching an IPython kernel.\n"
          ],
          "name": "stderr"
        }
      ]
    },
    {
      "cell_type": "code",
      "metadata": {
        "colab": {
          "base_uri": "https://localhost:8080/"
        },
        "id": "AahKmD1r8gid",
        "outputId": "aaf596cd-8bdb-4c37-bb5d-25acb3e0289b"
      },
      "source": [
        "bitcoin_prices_block[\"Block_reward\"][block_reward_3_datetime:block_reward_4_datetime] = block_reward_3"
      ],
      "execution_count": null,
      "outputs": [
        {
          "output_type": "stream",
          "text": [
            "/usr/local/lib/python3.7/dist-packages/ipykernel_launcher.py:1: SettingWithCopyWarning: \n",
            "A value is trying to be set on a copy of a slice from a DataFrame\n",
            "\n",
            "See the caveats in the documentation: https://pandas.pydata.org/pandas-docs/stable/user_guide/indexing.html#returning-a-view-versus-a-copy\n",
            "  \"\"\"Entry point for launching an IPython kernel.\n"
          ],
          "name": "stderr"
        }
      ]
    },
    {
      "cell_type": "code",
      "metadata": {
        "colab": {
          "base_uri": "https://localhost:8080/"
        },
        "id": "c4MmPhTK8jX6",
        "outputId": "2089f6d4-bd0c-44e8-bc66-910c74737ca6"
      },
      "source": [
        "bitcoin_prices_block[\"Block_reward\"][block_reward_4_datetime:] = block_reward_4"
      ],
      "execution_count": null,
      "outputs": [
        {
          "output_type": "stream",
          "text": [
            "/usr/local/lib/python3.7/dist-packages/ipykernel_launcher.py:1: SettingWithCopyWarning: \n",
            "A value is trying to be set on a copy of a slice from a DataFrame\n",
            "\n",
            "See the caveats in the documentation: https://pandas.pydata.org/pandas-docs/stable/user_guide/indexing.html#returning-a-view-versus-a-copy\n",
            "  \"\"\"Entry point for launching an IPython kernel.\n"
          ],
          "name": "stderr"
        }
      ]
    },
    {
      "cell_type": "code",
      "metadata": {
        "colab": {
          "base_uri": "https://localhost:8080/",
          "height": 296
        },
        "id": "Iyi04pCm8v2W",
        "outputId": "1176c567-9a23-492b-d5b8-e92f4f8ff2fa"
      },
      "source": [
        "bitcoin_prices_block.plot()"
      ],
      "execution_count": null,
      "outputs": [
        {
          "output_type": "execute_result",
          "data": {
            "text/plain": [
              "<matplotlib.axes._subplots.AxesSubplot at 0x7fba7dc41850>"
            ]
          },
          "metadata": {
            "tags": []
          },
          "execution_count": 102
        },
        {
          "output_type": "display_data",
          "data": {
            "image/png": "[encoded data removed]",
            "text/plain": [
              "<Figure size 432x288 with 1 Axes>"
            ]
          },
          "metadata": {
            "tags": [],
            "needs_background": "light"
          }
        }
      ]
    },
    {
      "cell_type": "code",
      "metadata": {
        "id": "iOMMdvzk9Mzb"
      },
      "source": [
        "from sklearn.preprocessing import minmax_scale\n",
        "multidf = pd.DataFrame(minmax_scale(bitcoin_prices_block[[\"Price\", \"Block_reward\"]]), columns = [\"Price\", \"BR\"],\n",
        "                       index  =bitcoin_prices_block.index)"
      ],
      "execution_count": null,
      "outputs": []
    },
    {
      "cell_type": "code",
      "metadata": {
        "colab": {
          "base_uri": "https://localhost:8080/",
          "height": 296
        },
        "id": "_A0-3PJj_b1G",
        "outputId": "ff34f03e-441f-4c38-b2fd-8566c44f0889"
      },
      "source": [
        "multidf.plot()"
      ],
      "execution_count": null,
      "outputs": [
        {
          "output_type": "execute_result",
          "data": {
            "text/plain": [
              "<matplotlib.axes._subplots.AxesSubplot at 0x7fba7c63c8d0>"
            ]
          },
          "metadata": {
            "tags": []
          },
          "execution_count": 104
        },
        {
          "output_type": "display_data",
          "data": {
            "image/png": "[encoded data removed]",
            "text/plain": [
              "<Figure size 432x288 with 1 Axes>"
            ]
          },
          "metadata": {
            "tags": [],
            "needs_background": "light"
          }
        }
      ]
    },
    {
      "cell_type": "code",
      "metadata": {
        "id": "TGQ2AdV8_joA"
      },
      "source": [
        "bitcoin_prices_windowed = bitcoin_prices.copy()"
      ],
      "execution_count": null,
      "outputs": []
    },
    {
      "cell_type": "code",
      "metadata": {
        "id": "GewufYxEAcV1"
      },
      "source": [
        "for i in range(WINDOW_SIZE):\n",
        "  bitcoin_prices_windowed[f\"Price + {i+1}\"] = bitcoin_prices_windowed[\"Price\"].shift(periods = i+1)"
      ],
      "execution_count": null,
      "outputs": []
    },
    {
      "cell_type": "code",
      "metadata": {
        "colab": {
          "base_uri": "https://localhost:8080/",
          "height": 233
        },
        "id": "dO-TG6srWxpj",
        "outputId": "76f00f33-4604-4f73-9d2c-56400cca4f15"
      },
      "source": [
        "bitcoin_prices_windowed.head()"
      ],
      "execution_count": null,
      "outputs": [
        {
          "output_type": "execute_result",
          "data": {
            "text/html": [
              "<div>\n",
              "<style scoped>\n",
              "    .dataframe tbody tr th:only-of-type {\n",
              "        vertical-align: middle;\n",
              "    }\n",
              "\n",
              "    .dataframe tbody tr th {\n",
              "        vertical-align: top;\n",
              "    }\n",
              "\n",
              "    .dataframe thead th {\n",
              "        text-align: right;\n",
              "    }\n",
              "</style>\n",
              "<table border=\"1\" class=\"dataframe\">\n",
              "  <thead>\n",
              "    <tr style=\"text-align: right;\">\n",
              "      <th></th>\n",
              "      <th>Price</th>\n",
              "      <th>Price + 1</th>\n",
              "      <th>Price + 2</th>\n",
              "      <th>Price + 3</th>\n",
              "      <th>Price + 4</th>\n",
              "      <th>Price + 5</th>\n",
              "      <th>Price + 6</th>\n",
              "      <th>Price + 7</th>\n",
              "    </tr>\n",
              "    <tr>\n",
              "      <th>Date</th>\n",
              "      <th></th>\n",
              "      <th></th>\n",
              "      <th></th>\n",
              "      <th></th>\n",
              "      <th></th>\n",
              "      <th></th>\n",
              "      <th></th>\n",
              "      <th></th>\n",
              "    </tr>\n",
              "  </thead>\n",
              "  <tbody>\n",
              "    <tr>\n",
              "      <th>2013-10-01</th>\n",
              "      <td>123.65499</td>\n",
              "      <td>NaN</td>\n",
              "      <td>NaN</td>\n",
              "      <td>NaN</td>\n",
              "      <td>NaN</td>\n",
              "      <td>NaN</td>\n",
              "      <td>NaN</td>\n",
              "      <td>NaN</td>\n",
              "    </tr>\n",
              "    <tr>\n",
              "      <th>2013-10-02</th>\n",
              "      <td>125.45500</td>\n",
              "      <td>123.65499</td>\n",
              "      <td>NaN</td>\n",
              "      <td>NaN</td>\n",
              "      <td>NaN</td>\n",
              "      <td>NaN</td>\n",
              "      <td>NaN</td>\n",
              "      <td>NaN</td>\n",
              "    </tr>\n",
              "    <tr>\n",
              "      <th>2013-10-03</th>\n",
              "      <td>108.58483</td>\n",
              "      <td>125.45500</td>\n",
              "      <td>123.65499</td>\n",
              "      <td>NaN</td>\n",
              "      <td>NaN</td>\n",
              "      <td>NaN</td>\n",
              "      <td>NaN</td>\n",
              "      <td>NaN</td>\n",
              "    </tr>\n",
              "    <tr>\n",
              "      <th>2013-10-04</th>\n",
              "      <td>118.67466</td>\n",
              "      <td>108.58483</td>\n",
              "      <td>125.45500</td>\n",
              "      <td>123.65499</td>\n",
              "      <td>NaN</td>\n",
              "      <td>NaN</td>\n",
              "      <td>NaN</td>\n",
              "      <td>NaN</td>\n",
              "    </tr>\n",
              "    <tr>\n",
              "      <th>2013-10-05</th>\n",
              "      <td>121.33866</td>\n",
              "      <td>118.67466</td>\n",
              "      <td>108.58483</td>\n",
              "      <td>125.45500</td>\n",
              "      <td>123.65499</td>\n",
              "      <td>NaN</td>\n",
              "      <td>NaN</td>\n",
              "      <td>NaN</td>\n",
              "    </tr>\n",
              "  </tbody>\n",
              "</table>\n",
              "</div>"
            ],
            "text/plain": [
              "                Price  Price + 1  Price + 2  ...  Price + 5  Price + 6  Price + 7\n",
              "Date                                         ...                                 \n",
              "2013-10-01  123.65499        NaN        NaN  ...        NaN        NaN        NaN\n",
              "2013-10-02  125.45500  123.65499        NaN  ...        NaN        NaN        NaN\n",
              "2013-10-03  108.58483  125.45500  123.65499  ...        NaN        NaN        NaN\n",
              "2013-10-04  118.67466  108.58483  125.45500  ...        NaN        NaN        NaN\n",
              "2013-10-05  121.33866  118.67466  108.58483  ...        NaN        NaN        NaN\n",
              "\n",
              "[5 rows x 8 columns]"
            ]
          },
          "metadata": {
            "tags": []
          },
          "execution_count": 107
        }
      ]
    },
    {
      "cell_type": "code",
      "metadata": {
        "id": "QcR3IExOXAWV"
      },
      "source": [
        "X = bitcoin_prices_windowed.dropna().drop(\"Price\", axis =1).astype(np.float32)\n",
        "y = bitcoin_prices_windowed.dropna().Price.astype(np.float32)"
      ],
      "execution_count": null,
      "outputs": []
    },
    {
      "cell_type": "code",
      "metadata": {
        "colab": {
          "base_uri": "https://localhost:8080/",
          "height": 233
        },
        "id": "-W2ZUIzvXj5q",
        "outputId": "7ac32e29-e65e-46d8-c259-0d4ef5820f06"
      },
      "source": [
        "X.head()"
      ],
      "execution_count": null,
      "outputs": [
        {
          "output_type": "execute_result",
          "data": {
            "text/html": [
              "<div>\n",
              "<style scoped>\n",
              "    .dataframe tbody tr th:only-of-type {\n",
              "        vertical-align: middle;\n",
              "    }\n",
              "\n",
              "    .dataframe tbody tr th {\n",
              "        vertical-align: top;\n",
              "    }\n",
              "\n",
              "    .dataframe thead th {\n",
              "        text-align: right;\n",
              "    }\n",
              "</style>\n",
              "<table border=\"1\" class=\"dataframe\">\n",
              "  <thead>\n",
              "    <tr style=\"text-align: right;\">\n",
              "      <th></th>\n",
              "      <th>Price + 1</th>\n",
              "      <th>Price + 2</th>\n",
              "      <th>Price + 3</th>\n",
              "      <th>Price + 4</th>\n",
              "      <th>Price + 5</th>\n",
              "      <th>Price + 6</th>\n",
              "      <th>Price + 7</th>\n",
              "    </tr>\n",
              "    <tr>\n",
              "      <th>Date</th>\n",
              "      <th></th>\n",
              "      <th></th>\n",
              "      <th></th>\n",
              "      <th></th>\n",
              "      <th></th>\n",
              "      <th></th>\n",
              "      <th></th>\n",
              "    </tr>\n",
              "  </thead>\n",
              "  <tbody>\n",
              "    <tr>\n",
              "      <th>2013-10-08</th>\n",
              "      <td>121.794998</td>\n",
              "      <td>120.655327</td>\n",
              "      <td>121.338661</td>\n",
              "      <td>118.674660</td>\n",
              "      <td>108.584831</td>\n",
              "      <td>125.455002</td>\n",
              "      <td>123.654991</td>\n",
              "    </tr>\n",
              "    <tr>\n",
              "      <th>2013-10-09</th>\n",
              "      <td>123.032997</td>\n",
              "      <td>121.794998</td>\n",
              "      <td>120.655327</td>\n",
              "      <td>121.338661</td>\n",
              "      <td>118.674660</td>\n",
              "      <td>108.584831</td>\n",
              "      <td>125.455002</td>\n",
              "    </tr>\n",
              "    <tr>\n",
              "      <th>2013-10-10</th>\n",
              "      <td>124.049004</td>\n",
              "      <td>123.032997</td>\n",
              "      <td>121.794998</td>\n",
              "      <td>120.655327</td>\n",
              "      <td>121.338661</td>\n",
              "      <td>118.674660</td>\n",
              "      <td>108.584831</td>\n",
              "    </tr>\n",
              "    <tr>\n",
              "      <th>2013-10-11</th>\n",
              "      <td>125.961159</td>\n",
              "      <td>124.049004</td>\n",
              "      <td>123.032997</td>\n",
              "      <td>121.794998</td>\n",
              "      <td>120.655327</td>\n",
              "      <td>121.338661</td>\n",
              "      <td>118.674660</td>\n",
              "    </tr>\n",
              "    <tr>\n",
              "      <th>2013-10-12</th>\n",
              "      <td>125.279663</td>\n",
              "      <td>125.961159</td>\n",
              "      <td>124.049004</td>\n",
              "      <td>123.032997</td>\n",
              "      <td>121.794998</td>\n",
              "      <td>120.655327</td>\n",
              "      <td>121.338661</td>\n",
              "    </tr>\n",
              "  </tbody>\n",
              "</table>\n",
              "</div>"
            ],
            "text/plain": [
              "             Price + 1   Price + 2  ...   Price + 6   Price + 7\n",
              "Date                                ...                        \n",
              "2013-10-08  121.794998  120.655327  ...  125.455002  123.654991\n",
              "2013-10-09  123.032997  121.794998  ...  108.584831  125.455002\n",
              "2013-10-10  124.049004  123.032997  ...  118.674660  108.584831\n",
              "2013-10-11  125.961159  124.049004  ...  121.338661  118.674660\n",
              "2013-10-12  125.279663  125.961159  ...  120.655327  121.338661\n",
              "\n",
              "[5 rows x 7 columns]"
            ]
          },
          "metadata": {
            "tags": []
          },
          "execution_count": 109
        }
      ]
    },
    {
      "cell_type": "code",
      "metadata": {
        "colab": {
          "base_uri": "https://localhost:8080/"
        },
        "id": "DQ1EpbNaXplQ",
        "outputId": "25e946f9-76a1-4879-8973-32691d1b0ebe"
      },
      "source": [
        "y.head()"
      ],
      "execution_count": null,
      "outputs": [
        {
          "output_type": "execute_result",
          "data": {
            "text/plain": [
              "Date\n",
              "2013-10-08    123.032997\n",
              "2013-10-09    124.049004\n",
              "2013-10-10    125.961159\n",
              "2013-10-11    125.279663\n",
              "2013-10-12    125.927498\n",
              "Name: Price, dtype: float32"
            ]
          },
          "metadata": {
            "tags": []
          },
          "execution_count": 110
        }
      ]
    },
    {
      "cell_type": "code",
      "metadata": {
        "colab": {
          "base_uri": "https://localhost:8080/"
        },
        "id": "R65wniR-XsDI",
        "outputId": "8fb75cf5-e6c5-4b7a-b7b8-f0ba931efb2d"
      },
      "source": [
        "split_size = int(0.8*(len(X)))\n",
        "X_train, X_test = X[:split_size], X[split_size:]\n",
        "y_train, y_test =  y[:split_size], y[split_size:]\n",
        "len(X_train), len(y_train), len(X_test), len(y_test)"
      ],
      "execution_count": null,
      "outputs": [
        {
          "output_type": "execute_result",
          "data": {
            "text/plain": [
              "(2224, 2224, 556, 556)"
            ]
          },
          "metadata": {
            "tags": []
          },
          "execution_count": 111
        }
      ]
    },
    {
      "cell_type": "markdown",
      "metadata": {
        "id": "prO3c2iJYTlF"
      },
      "source": [
        "## Model6 "
      ]
    },
    {
      "cell_type": "code",
      "metadata": {
        "colab": {
          "base_uri": "https://localhost:8080/"
        },
        "id": "gkpzOpzJYwpa",
        "outputId": "fb632e19-3982-486c-a0de-c407a7ad79b3"
      },
      "source": [
        "tf.random.set_seed(42)\n",
        "\n",
        "# Construct model\n",
        "model_6 = tf.keras.Sequential([\n",
        "  layers.Dense(128, activation=\"relu\"),\n",
        "  layers.Dense(128, activation=\"relu\"),\n",
        "  layers.Dense(HORIZON, activation=\"linear\") # linear activation is the same as having no activation                        \n",
        "], name=\"model_1_dense\") # give the model a name so we can save it\n",
        "\n",
        "# Compile model\n",
        "model_6.compile(loss=\"mae\",\n",
        "                optimizer=tf.keras.optimizers.Adam())\n",
        "                #metrics=[\"mae\"]) # we don't necessarily need this when the loss function is already MAE\n",
        "\n",
        "# Fit model\n",
        "model_6.fit(x=X_train, # train windows of 7 timesteps of Bitcoin prices\n",
        "            y=y_train, # horizon value of 1 (using the previous 7 timesteps to predict next day)\n",
        "            epochs=100,\n",
        "            verbose=1,\n",
        "            batch_size=128,\n",
        "            validation_data=(X_test, y_test),\n",
        "            callbacks = [create_model_checkpoint(\"model6\")])"
      ],
      "execution_count": null,
      "outputs": [
        {
          "output_type": "stream",
          "text": [
            "Epoch 1/100\n",
            "18/18 [==============================] - 1s 10ms/step - loss: 901.1083 - val_loss: 2391.3074\n",
            "INFO:tensorflow:Assets written to: model_experiments/model6/assets\n",
            "Epoch 2/100\n",
            "18/18 [==============================] - 0s 3ms/step - loss: 248.6957 - val_loss: 1396.7283\n",
            "INFO:tensorflow:Assets written to: model_experiments/model6/assets\n",
            "Epoch 3/100\n",
            "18/18 [==============================] - 0s 3ms/step - loss: 177.2988 - val_loss: 859.0771\n",
            "INFO:tensorflow:Assets written to: model_experiments/model6/assets\n",
            "Epoch 4/100\n",
            "18/18 [==============================] - 0s 3ms/step - loss: 150.1085 - val_loss: 812.3403\n",
            "INFO:tensorflow:Assets written to: model_experiments/model6/assets\n",
            "Epoch 5/100\n",
            "18/18 [==============================] - 0s 4ms/step - loss: 140.8277 - val_loss: 747.3796\n",
            "INFO:tensorflow:Assets written to: model_experiments/model6/assets\n",
            "Epoch 6/100\n",
            "18/18 [==============================] - 0s 4ms/step - loss: 132.6653 - val_loss: 714.2393\n",
            "INFO:tensorflow:Assets written to: model_experiments/model6/assets\n",
            "Epoch 7/100\n",
            "18/18 [==============================] - 0s 4ms/step - loss: 128.8474 - val_loss: 827.2325\n",
            "Epoch 8/100\n",
            "18/18 [==============================] - 0s 3ms/step - loss: 128.3895 - val_loss: 698.9120\n",
            "INFO:tensorflow:Assets written to: model_experiments/model6/assets\n",
            "Epoch 9/100\n",
            "18/18 [==============================] - 0s 3ms/step - loss: 122.9510 - val_loss: 735.1848\n",
            "Epoch 10/100\n",
            "18/18 [==============================] - 0s 4ms/step - loss: 139.4205 - val_loss: 806.8182\n",
            "Epoch 11/100\n",
            "18/18 [==============================] - 0s 4ms/step - loss: 137.7247 - val_loss: 1043.7593\n",
            "Epoch 12/100\n",
            "18/18 [==============================] - 0s 3ms/step - loss: 146.0368 - val_loss: 813.2933\n",
            "Epoch 13/100\n",
            "18/18 [==============================] - 0s 4ms/step - loss: 151.2646 - val_loss: 614.2089\n",
            "INFO:tensorflow:Assets written to: model_experiments/model6/assets\n",
            "Epoch 14/100\n",
            "18/18 [==============================] - 0s 3ms/step - loss: 135.4288 - val_loss: 781.3340\n",
            "Epoch 15/100\n",
            "18/18 [==============================] - 0s 3ms/step - loss: 119.8079 - val_loss: 671.2006\n",
            "Epoch 16/100\n",
            "18/18 [==============================] - 0s 4ms/step - loss: 113.0881 - val_loss: 601.5685\n",
            "INFO:tensorflow:Assets written to: model_experiments/model6/assets\n",
            "Epoch 17/100\n",
            "18/18 [==============================] - 0s 3ms/step - loss: 114.4244 - val_loss: 599.3578\n",
            "INFO:tensorflow:Assets written to: model_experiments/model6/assets\n",
            "Epoch 18/100\n",
            "18/18 [==============================] - 0s 3ms/step - loss: 114.7881 - val_loss: 590.4376\n",
            "INFO:tensorflow:Assets written to: model_experiments/model6/assets\n",
            "Epoch 19/100\n",
            "18/18 [==============================] - 0s 4ms/step - loss: 113.9218 - val_loss: 606.9827\n",
            "Epoch 20/100\n",
            "18/18 [==============================] - 0s 3ms/step - loss: 110.6114 - val_loss: 582.2852\n",
            "INFO:tensorflow:Assets written to: model_experiments/model6/assets\n",
            "Epoch 21/100\n",
            "18/18 [==============================] - 0s 4ms/step - loss: 112.3627 - val_loss: 693.8149\n",
            "Epoch 22/100\n",
            "18/18 [==============================] - 0s 3ms/step - loss: 126.5150 - val_loss: 695.1019\n",
            "Epoch 23/100\n",
            "18/18 [==============================] - 0s 3ms/step - loss: 115.3526 - val_loss: 698.7646\n",
            "Epoch 24/100\n",
            "18/18 [==============================] - 0s 4ms/step - loss: 114.0196 - val_loss: 597.1055\n",
            "Epoch 25/100\n",
            "18/18 [==============================] - 0s 4ms/step - loss: 108.6115 - val_loss: 575.5927\n",
            "INFO:tensorflow:Assets written to: model_experiments/model6/assets\n",
            "Epoch 26/100\n",
            "18/18 [==============================] - 0s 4ms/step - loss: 109.2595 - val_loss: 584.2495\n",
            "Epoch 27/100\n",
            "18/18 [==============================] - 0s 4ms/step - loss: 106.9785 - val_loss: 586.4937\n",
            "Epoch 28/100\n",
            "18/18 [==============================] - 0s 3ms/step - loss: 106.8155 - val_loss: 595.7625\n",
            "Epoch 29/100\n",
            "18/18 [==============================] - 0s 5ms/step - loss: 106.3266 - val_loss: 674.8749\n",
            "Epoch 30/100\n",
            "18/18 [==============================] - 0s 4ms/step - loss: 117.4731 - val_loss: 589.3299\n",
            "Epoch 31/100\n",
            "18/18 [==============================] - 0s 3ms/step - loss: 123.7820 - val_loss: 605.5420\n",
            "Epoch 32/100\n",
            "18/18 [==============================] - 0s 3ms/step - loss: 111.1212 - val_loss: 607.7389\n",
            "Epoch 33/100\n",
            "18/18 [==============================] - 0s 6ms/step - loss: 107.4207 - val_loss: 575.1426\n",
            "INFO:tensorflow:Assets written to: model_experiments/model6/assets\n",
            "Epoch 34/100\n",
            "18/18 [==============================] - 0s 3ms/step - loss: 106.3299 - val_loss: 650.5652\n",
            "Epoch 35/100\n",
            "18/18 [==============================] - 0s 4ms/step - loss: 109.8489 - val_loss: 692.9816\n",
            "Epoch 36/100\n",
            "18/18 [==============================] - 0s 4ms/step - loss: 111.2655 - val_loss: 571.8083\n",
            "INFO:tensorflow:Assets written to: model_experiments/model6/assets\n",
            "Epoch 37/100\n",
            "18/18 [==============================] - 0s 3ms/step - loss: 114.8338 - val_loss: 584.8067\n",
            "Epoch 38/100\n",
            "18/18 [==============================] - 0s 3ms/step - loss: 109.4682 - val_loss: 615.2861\n",
            "Epoch 39/100\n",
            "18/18 [==============================] - 0s 4ms/step - loss: 111.5801 - val_loss: 587.9629\n",
            "Epoch 40/100\n",
            "18/18 [==============================] - 0s 3ms/step - loss: 108.8264 - val_loss: 573.3335\n",
            "Epoch 41/100\n",
            "18/18 [==============================] - 0s 5ms/step - loss: 110.4802 - val_loss: 572.5789\n",
            "Epoch 42/100\n",
            "18/18 [==============================] - 0s 4ms/step - loss: 112.9245 - val_loss: 621.2251\n",
            "Epoch 43/100\n",
            "18/18 [==============================] - 0s 3ms/step - loss: 109.8879 - val_loss: 568.8846\n",
            "INFO:tensorflow:Assets written to: model_experiments/model6/assets\n",
            "Epoch 44/100\n",
            "18/18 [==============================] - 0s 3ms/step - loss: 107.8611 - val_loss: 568.8134\n",
            "INFO:tensorflow:Assets written to: model_experiments/model6/assets\n",
            "Epoch 45/100\n",
            "18/18 [==============================] - 0s 4ms/step - loss: 106.4023 - val_loss: 582.2059\n",
            "Epoch 46/100\n",
            "18/18 [==============================] - 0s 3ms/step - loss: 114.3650 - val_loss: 625.9032\n",
            "Epoch 47/100\n",
            "18/18 [==============================] - 0s 3ms/step - loss: 116.0024 - val_loss: 640.0465\n",
            "Epoch 48/100\n",
            "18/18 [==============================] - 0s 3ms/step - loss: 106.2477 - val_loss: 578.9348\n",
            "Epoch 49/100\n",
            "18/18 [==============================] - 0s 3ms/step - loss: 112.4747 - val_loss: 881.1776\n",
            "Epoch 50/100\n",
            "18/18 [==============================] - 0s 3ms/step - loss: 122.0918 - val_loss: 669.8056\n",
            "Epoch 51/100\n",
            "18/18 [==============================] - 0s 4ms/step - loss: 119.6064 - val_loss: 743.7911\n",
            "Epoch 52/100\n",
            "18/18 [==============================] - 0s 3ms/step - loss: 126.9433 - val_loss: 649.9507\n",
            "Epoch 53/100\n",
            "18/18 [==============================] - 0s 3ms/step - loss: 110.0783 - val_loss: 566.3005\n",
            "INFO:tensorflow:Assets written to: model_experiments/model6/assets\n",
            "Epoch 54/100\n",
            "18/18 [==============================] - 0s 3ms/step - loss: 105.8428 - val_loss: 577.8516\n",
            "Epoch 55/100\n",
            "18/18 [==============================] - 0s 4ms/step - loss: 112.1304 - val_loss: 629.7560\n",
            "Epoch 56/100\n",
            "18/18 [==============================] - 0s 3ms/step - loss: 109.0088 - val_loss: 718.9028\n",
            "Epoch 57/100\n",
            "18/18 [==============================] - 0s 4ms/step - loss: 108.9246 - val_loss: 574.2563\n",
            "Epoch 58/100\n",
            "18/18 [==============================] - 0s 4ms/step - loss: 106.6687 - val_loss: 567.3383\n",
            "Epoch 59/100\n",
            "18/18 [==============================] - 0s 3ms/step - loss: 104.0951 - val_loss: 567.6141\n",
            "Epoch 60/100\n",
            "18/18 [==============================] - 0s 3ms/step - loss: 105.1336 - val_loss: 577.6334\n",
            "Epoch 61/100\n",
            "18/18 [==============================] - 0s 3ms/step - loss: 117.4785 - val_loss: 591.3869\n",
            "Epoch 62/100\n",
            "18/18 [==============================] - 0s 3ms/step - loss: 107.1461 - val_loss: 575.6143\n",
            "Epoch 63/100\n",
            "18/18 [==============================] - 0s 3ms/step - loss: 104.6250 - val_loss: 570.3840\n",
            "Epoch 64/100\n",
            "18/18 [==============================] - 0s 3ms/step - loss: 106.9549 - val_loss: 589.9109\n",
            "Epoch 65/100\n",
            "18/18 [==============================] - 0s 4ms/step - loss: 106.7224 - val_loss: 580.3746\n",
            "Epoch 66/100\n",
            "18/18 [==============================] - 0s 3ms/step - loss: 107.6614 - val_loss: 578.9020\n",
            "Epoch 67/100\n",
            "18/18 [==============================] - 0s 3ms/step - loss: 109.5026 - val_loss: 781.6198\n",
            "Epoch 68/100\n",
            "18/18 [==============================] - 0s 4ms/step - loss: 107.4968 - val_loss: 567.5807\n",
            "Epoch 69/100\n",
            "18/18 [==============================] - 0s 4ms/step - loss: 108.5052 - val_loss: 625.1966\n",
            "Epoch 70/100\n",
            "18/18 [==============================] - 0s 4ms/step - loss: 124.3855 - val_loss: 650.3347\n",
            "Epoch 71/100\n",
            "18/18 [==============================] - 0s 4ms/step - loss: 113.0714 - val_loss: 570.9845\n",
            "Epoch 72/100\n",
            "18/18 [==============================] - 0s 4ms/step - loss: 110.5053 - val_loss: 654.2131\n",
            "Epoch 73/100\n",
            "18/18 [==============================] - 0s 4ms/step - loss: 110.7023 - val_loss: 658.7610\n",
            "Epoch 74/100\n",
            "18/18 [==============================] - 0s 3ms/step - loss: 108.2479 - val_loss: 568.2370\n",
            "Epoch 75/100\n",
            "18/18 [==============================] - 0s 4ms/step - loss: 111.1822 - val_loss: 573.5915\n",
            "Epoch 76/100\n",
            "18/18 [==============================] - 0s 4ms/step - loss: 114.0207 - val_loss: 770.1390\n",
            "Epoch 77/100\n",
            "18/18 [==============================] - 0s 3ms/step - loss: 121.9091 - val_loss: 604.8549\n",
            "Epoch 78/100\n",
            "18/18 [==============================] - 0s 3ms/step - loss: 111.1209 - val_loss: 573.8289\n",
            "Epoch 79/100\n",
            "18/18 [==============================] - 0s 3ms/step - loss: 105.0002 - val_loss: 675.3619\n",
            "Epoch 80/100\n",
            "18/18 [==============================] - 0s 4ms/step - loss: 114.7185 - val_loss: 672.0901\n",
            "Epoch 81/100\n",
            "18/18 [==============================] - 0s 3ms/step - loss: 110.7361 - val_loss: 670.8972\n",
            "Epoch 82/100\n",
            "18/18 [==============================] - 0s 4ms/step - loss: 117.2977 - val_loss: 885.1859\n",
            "Epoch 83/100\n",
            "18/18 [==============================] - 0s 3ms/step - loss: 140.6366 - val_loss: 780.7497\n",
            "Epoch 84/100\n",
            "18/18 [==============================] - 0s 5ms/step - loss: 124.6516 - val_loss: 582.6422\n",
            "Epoch 85/100\n",
            "18/18 [==============================] - 0s 4ms/step - loss: 108.0246 - val_loss: 570.3559\n",
            "Epoch 86/100\n",
            "18/18 [==============================] - 0s 3ms/step - loss: 107.4336 - val_loss: 596.5261\n",
            "Epoch 87/100\n",
            "18/18 [==============================] - 0s 3ms/step - loss: 106.8548 - val_loss: 640.7376\n",
            "Epoch 88/100\n",
            "18/18 [==============================] - 0s 3ms/step - loss: 110.0336 - val_loss: 647.7064\n",
            "Epoch 89/100\n",
            "18/18 [==============================] - 0s 4ms/step - loss: 107.9583 - val_loss: 593.1124\n",
            "Epoch 90/100\n",
            "18/18 [==============================] - 0s 3ms/step - loss: 104.4242 - val_loss: 569.7167\n",
            "Epoch 91/100\n",
            "18/18 [==============================] - 0s 3ms/step - loss: 104.8506 - val_loss: 575.5833\n",
            "Epoch 92/100\n",
            "18/18 [==============================] - 0s 4ms/step - loss: 110.0752 - val_loss: 709.5161\n",
            "Epoch 93/100\n",
            "18/18 [==============================] - 0s 4ms/step - loss: 112.1678 - val_loss: 751.9773\n",
            "Epoch 94/100\n",
            "18/18 [==============================] - 0s 5ms/step - loss: 120.8630 - val_loss: 594.8602\n",
            "Epoch 95/100\n",
            "18/18 [==============================] - 0s 3ms/step - loss: 105.8058 - val_loss: 589.0775\n",
            "Epoch 96/100\n",
            "18/18 [==============================] - 0s 3ms/step - loss: 114.0521 - val_loss: 575.1616\n",
            "Epoch 97/100\n",
            "18/18 [==============================] - 0s 3ms/step - loss: 107.4420 - val_loss: 570.5220\n",
            "Epoch 98/100\n",
            "18/18 [==============================] - 0s 3ms/step - loss: 106.4998 - val_loss: 581.9843\n",
            "Epoch 99/100\n",
            "18/18 [==============================] - 0s 3ms/step - loss: 111.7400 - val_loss: 606.0078\n",
            "Epoch 100/100\n",
            "18/18 [==============================] - 0s 4ms/step - loss: 116.5788 - val_loss: 569.2198\n"
          ],
          "name": "stdout"
        },
        {
          "output_type": "execute_result",
          "data": {
            "text/plain": [
              "<tensorflow.python.keras.callbacks.History at 0x7fba7bc5dc10>"
            ]
          },
          "metadata": {
            "tags": []
          },
          "execution_count": 112
        }
      ]
    },
    {
      "cell_type": "code",
      "metadata": {
        "id": "1W0F3SeWaoXD"
      },
      "source": [
        "model_6 = keras.models.load_model(\"/content/model_experiments/model6\")"
      ],
      "execution_count": null,
      "outputs": []
    },
    {
      "cell_type": "code",
      "metadata": {
        "id": "oBRdumfLZNJ8"
      },
      "source": [
        "model_6_preds =model_preds(model_6, X_test)"
      ],
      "execution_count": null,
      "outputs": []
    },
    {
      "cell_type": "code",
      "metadata": {
        "id": "59SF2j_KabpU"
      },
      "source": [
        "model_6_results = evaluate_preds(y_test, model_6_preds)"
      ],
      "execution_count": null,
      "outputs": []
    },
    {
      "cell_type": "code",
      "metadata": {
        "colab": {
          "base_uri": "https://localhost:8080/"
        },
        "id": "h248EBW3ai5z",
        "outputId": "8cdbd4c3-40fd-4ca9-dfb8-d487884a32a4"
      },
      "source": [
        "model_6_results"
      ],
      "execution_count": null,
      "outputs": [
        {
          "output_type": "execute_result",
          "data": {
            "text/plain": [
              "{'mae': 566.3005,\n",
              " 'mape': 2.5617404,\n",
              " 'mase': 0.9948331,\n",
              " 'mse': 1149529.9,\n",
              " 'rmse': 1072.1613}"
            ]
          },
          "metadata": {
            "tags": []
          },
          "execution_count": 116
        }
      ]
    },
    {
      "cell_type": "code",
      "metadata": {
        "colab": {
          "base_uri": "https://localhost:8080/"
        },
        "id": "Co_adMf1akok",
        "outputId": "74df7420-1464-41f3-c028-0fe21482f4e2"
      },
      "source": [
        "model_1_results"
      ],
      "execution_count": null,
      "outputs": [
        {
          "output_type": "execute_result",
          "data": {
            "text/plain": [
              "{'mae': 568.5498,\n",
              " 'mape': 2.549229,\n",
              " 'mase': 0.99878454,\n",
              " 'mse': 1172587.6,\n",
              " 'rmse': 1082.8608}"
            ]
          },
          "metadata": {
            "tags": []
          },
          "execution_count": 117
        }
      ]
    },
    {
      "cell_type": "code",
      "metadata": {
        "colab": {
          "base_uri": "https://localhost:8080/"
        },
        "id": "MZnUqvJVayzd",
        "outputId": "6c4fae2a-ebf6-41b9-c265-addb63c39d5d"
      },
      "source": [
        "model_6_results"
      ],
      "execution_count": null,
      "outputs": [
        {
          "output_type": "execute_result",
          "data": {
            "text/plain": [
              "{'mae': 566.3005,\n",
              " 'mape': 2.5617404,\n",
              " 'mase': 0.9948331,\n",
              " 'mse': 1149529.9,\n",
              " 'rmse': 1072.1613}"
            ]
          },
          "metadata": {
            "tags": []
          },
          "execution_count": 118
        }
      ]
    },
    {
      "cell_type": "markdown",
      "metadata": {
        "id": "Pjh6QvCOb2VW"
      },
      "source": [
        "## Model 7 N-Beats"
      ]
    },
    {
      "cell_type": "code",
      "metadata": {
        "id": "AHG7-NQydXBH"
      },
      "source": [
        "class n_beats(tf.keras.layers.Layer):\n",
        "  def __init__(self,\n",
        "               input_size: int,\n",
        "               theta_size: int,\n",
        "               horizon: int,\n",
        "               n_neurons: int,\n",
        "               n_layers: int,\n",
        "               **kwargs):\n",
        "  \n",
        "    super().__init__(**kwargs)\n",
        "    self.input_size = input_size\n",
        "    self.theta_size = theta_size\n",
        "    self.horizon = horizon\n",
        "    self.n_neurons =n_neurons\n",
        "    self.n_layers = n_layers\n",
        "\n",
        "    self.hidden = [keras.layers.Dense(n_neurons, activation=\"relu\") for i in range(n_layers)]\n",
        "    self.theta_layer = keras.layers.Dense(theta_size, activation=\"linear\", name = \"theta\")\n",
        "\n",
        "  def call(self, inputs):\n",
        "    x = inputs\n",
        "    for layer in self.hidden:\n",
        "      x = layer(x)\n",
        "    theta = self.theta_layer(x)\n",
        "\n",
        "    backcast, forecast = theta[:, :self.input_size], theta[:, -self.horizon:]\n",
        "    return backcast, forecast"
      ],
      "execution_count": null,
      "outputs": []
    },
    {
      "cell_type": "code",
      "metadata": {
        "id": "MnT5dAi_m6vR"
      },
      "source": [
        "dummy_nbeats_block_layer =n_beats(input_size=WINDOW_SIZE,\n",
        "                                  theta_size = WINDOW_SIZE+HORIZON,\n",
        "                                  horizon = HORIZON,\n",
        "                                  n_neurons =128,\n",
        "                                  n_layers = 4)"
      ],
      "execution_count": null,
      "outputs": []
    },
    {
      "cell_type": "code",
      "metadata": {
        "colab": {
          "base_uri": "https://localhost:8080/"
        },
        "id": "mf2hsbguaZ46",
        "outputId": "1d71fb07-eaff-4292-ea55-06bffdbfab74"
      },
      "source": [
        "dummy_inputs = tf.expand_dims(tf.range(WINDOW_SIZE)+1, axis =0)\n",
        "dummy_inputs"
      ],
      "execution_count": null,
      "outputs": [
        {
          "output_type": "execute_result",
          "data": {
            "text/plain": [
              "<tf.Tensor: shape=(1, 7), dtype=int32, numpy=array([[1, 2, 3, 4, 5, 6, 7]], dtype=int32)>"
            ]
          },
          "metadata": {
            "tags": []
          },
          "execution_count": 121
        }
      ]
    },
    {
      "cell_type": "code",
      "metadata": {
        "colab": {
          "base_uri": "https://localhost:8080/"
        },
        "id": "OH7lLf2wbmzh",
        "outputId": "1df2c797-e8f7-4a6f-a000-2a196555e47c"
      },
      "source": [
        "backcast, forecast =dummy_nbeats_block_layer(dummy_inputs)\n",
        "tf.squeeze(backcast.numpy()), tf.squeeze(forecast.numpy())"
      ],
      "execution_count": null,
      "outputs": [
        {
          "output_type": "execute_result",
          "data": {
            "text/plain": [
              "(<tf.Tensor: shape=(7,), dtype=float32, numpy=\n",
              " array([-0.46348718,  0.10944453, -0.43355346,  0.9360242 , -0.35703537,\n",
              "        -0.17927602, -0.34048367], dtype=float32)>,\n",
              " <tf.Tensor: shape=(), dtype=float32, numpy=-0.43979022>)"
            ]
          },
          "metadata": {
            "tags": []
          },
          "execution_count": 122
        }
      ]
    },
    {
      "cell_type": "markdown",
      "metadata": {
        "id": "j7Bg2l_7bs_d"
      },
      "source": [
        "## Creating data and getting it ready for n_beats"
      ]
    },
    {
      "cell_type": "code",
      "metadata": {
        "id": "CVlDf9YAdkLH"
      },
      "source": [
        "bitcoin_prices_nbeats = bitcoin_prices.copy()"
      ],
      "execution_count": null,
      "outputs": []
    },
    {
      "cell_type": "code",
      "metadata": {
        "colab": {
          "base_uri": "https://localhost:8080/",
          "height": 233
        },
        "id": "8Wxfljsgdnvz",
        "outputId": "8a80ed7c-78ae-473a-a832-c558e2963802"
      },
      "source": [
        "bitcoin_prices_nbeats.head()"
      ],
      "execution_count": null,
      "outputs": [
        {
          "output_type": "execute_result",
          "data": {
            "text/html": [
              "<div>\n",
              "<style scoped>\n",
              "    .dataframe tbody tr th:only-of-type {\n",
              "        vertical-align: middle;\n",
              "    }\n",
              "\n",
              "    .dataframe tbody tr th {\n",
              "        vertical-align: top;\n",
              "    }\n",
              "\n",
              "    .dataframe thead th {\n",
              "        text-align: right;\n",
              "    }\n",
              "</style>\n",
              "<table border=\"1\" class=\"dataframe\">\n",
              "  <thead>\n",
              "    <tr style=\"text-align: right;\">\n",
              "      <th></th>\n",
              "      <th>Price</th>\n",
              "    </tr>\n",
              "    <tr>\n",
              "      <th>Date</th>\n",
              "      <th></th>\n",
              "    </tr>\n",
              "  </thead>\n",
              "  <tbody>\n",
              "    <tr>\n",
              "      <th>2013-10-01</th>\n",
              "      <td>123.65499</td>\n",
              "    </tr>\n",
              "    <tr>\n",
              "      <th>2013-10-02</th>\n",
              "      <td>125.45500</td>\n",
              "    </tr>\n",
              "    <tr>\n",
              "      <th>2013-10-03</th>\n",
              "      <td>108.58483</td>\n",
              "    </tr>\n",
              "    <tr>\n",
              "      <th>2013-10-04</th>\n",
              "      <td>118.67466</td>\n",
              "    </tr>\n",
              "    <tr>\n",
              "      <th>2013-10-05</th>\n",
              "      <td>121.33866</td>\n",
              "    </tr>\n",
              "  </tbody>\n",
              "</table>\n",
              "</div>"
            ],
            "text/plain": [
              "                Price\n",
              "Date                 \n",
              "2013-10-01  123.65499\n",
              "2013-10-02  125.45500\n",
              "2013-10-03  108.58483\n",
              "2013-10-04  118.67466\n",
              "2013-10-05  121.33866"
            ]
          },
          "metadata": {
            "tags": []
          },
          "execution_count": 124
        }
      ]
    },
    {
      "cell_type": "code",
      "metadata": {
        "id": "2oLVTa59drah"
      },
      "source": [
        "for i in range(WINDOW_SIZE):\n",
        "  bitcoin_prices_nbeats[f\"Price+ {i+1}\"] = bitcoin_prices_nbeats[\"Price\"].shift(periods = i+1)"
      ],
      "execution_count": null,
      "outputs": []
    },
    {
      "cell_type": "code",
      "metadata": {
        "colab": {
          "base_uri": "https://localhost:8080/",
          "height": 233
        },
        "id": "IO8Kg5ABd_m2",
        "outputId": "5c8becd6-fc1e-49b0-9ed6-d1dc0c5d420a"
      },
      "source": [
        "bitcoin_prices_nbeats.head()"
      ],
      "execution_count": null,
      "outputs": [
        {
          "output_type": "execute_result",
          "data": {
            "text/html": [
              "<div>\n",
              "<style scoped>\n",
              "    .dataframe tbody tr th:only-of-type {\n",
              "        vertical-align: middle;\n",
              "    }\n",
              "\n",
              "    .dataframe tbody tr th {\n",
              "        vertical-align: top;\n",
              "    }\n",
              "\n",
              "    .dataframe thead th {\n",
              "        text-align: right;\n",
              "    }\n",
              "</style>\n",
              "<table border=\"1\" class=\"dataframe\">\n",
              "  <thead>\n",
              "    <tr style=\"text-align: right;\">\n",
              "      <th></th>\n",
              "      <th>Price</th>\n",
              "      <th>Price+ 1</th>\n",
              "      <th>Price+ 2</th>\n",
              "      <th>Price+ 3</th>\n",
              "      <th>Price+ 4</th>\n",
              "      <th>Price+ 5</th>\n",
              "      <th>Price+ 6</th>\n",
              "      <th>Price+ 7</th>\n",
              "    </tr>\n",
              "    <tr>\n",
              "      <th>Date</th>\n",
              "      <th></th>\n",
              "      <th></th>\n",
              "      <th></th>\n",
              "      <th></th>\n",
              "      <th></th>\n",
              "      <th></th>\n",
              "      <th></th>\n",
              "      <th></th>\n",
              "    </tr>\n",
              "  </thead>\n",
              "  <tbody>\n",
              "    <tr>\n",
              "      <th>2013-10-01</th>\n",
              "      <td>123.65499</td>\n",
              "      <td>NaN</td>\n",
              "      <td>NaN</td>\n",
              "      <td>NaN</td>\n",
              "      <td>NaN</td>\n",
              "      <td>NaN</td>\n",
              "      <td>NaN</td>\n",
              "      <td>NaN</td>\n",
              "    </tr>\n",
              "    <tr>\n",
              "      <th>2013-10-02</th>\n",
              "      <td>125.45500</td>\n",
              "      <td>123.65499</td>\n",
              "      <td>NaN</td>\n",
              "      <td>NaN</td>\n",
              "      <td>NaN</td>\n",
              "      <td>NaN</td>\n",
              "      <td>NaN</td>\n",
              "      <td>NaN</td>\n",
              "    </tr>\n",
              "    <tr>\n",
              "      <th>2013-10-03</th>\n",
              "      <td>108.58483</td>\n",
              "      <td>125.45500</td>\n",
              "      <td>123.65499</td>\n",
              "      <td>NaN</td>\n",
              "      <td>NaN</td>\n",
              "      <td>NaN</td>\n",
              "      <td>NaN</td>\n",
              "      <td>NaN</td>\n",
              "    </tr>\n",
              "    <tr>\n",
              "      <th>2013-10-04</th>\n",
              "      <td>118.67466</td>\n",
              "      <td>108.58483</td>\n",
              "      <td>125.45500</td>\n",
              "      <td>123.65499</td>\n",
              "      <td>NaN</td>\n",
              "      <td>NaN</td>\n",
              "      <td>NaN</td>\n",
              "      <td>NaN</td>\n",
              "    </tr>\n",
              "    <tr>\n",
              "      <th>2013-10-05</th>\n",
              "      <td>121.33866</td>\n",
              "      <td>118.67466</td>\n",
              "      <td>108.58483</td>\n",
              "      <td>125.45500</td>\n",
              "      <td>123.65499</td>\n",
              "      <td>NaN</td>\n",
              "      <td>NaN</td>\n",
              "      <td>NaN</td>\n",
              "    </tr>\n",
              "  </tbody>\n",
              "</table>\n",
              "</div>"
            ],
            "text/plain": [
              "                Price   Price+ 1   Price+ 2  ...  Price+ 5  Price+ 6  Price+ 7\n",
              "Date                                         ...                              \n",
              "2013-10-01  123.65499        NaN        NaN  ...       NaN       NaN       NaN\n",
              "2013-10-02  125.45500  123.65499        NaN  ...       NaN       NaN       NaN\n",
              "2013-10-03  108.58483  125.45500  123.65499  ...       NaN       NaN       NaN\n",
              "2013-10-04  118.67466  108.58483  125.45500  ...       NaN       NaN       NaN\n",
              "2013-10-05  121.33866  118.67466  108.58483  ...       NaN       NaN       NaN\n",
              "\n",
              "[5 rows x 8 columns]"
            ]
          },
          "metadata": {
            "tags": []
          },
          "execution_count": 126
        }
      ]
    },
    {
      "cell_type": "code",
      "metadata": {
        "id": "LwJCh8gweDVP"
      },
      "source": [
        "split_size = int(0.8*len(bitcoin_prices_nbeats))\n",
        "X = bitcoin_prices_nbeats.dropna().drop(\"Price\", axis =1)\n",
        "y = bitcoin_prices_nbeats.dropna().Price"
      ],
      "execution_count": null,
      "outputs": []
    },
    {
      "cell_type": "code",
      "metadata": {
        "id": "LSRJDw-Aebi7"
      },
      "source": [
        "X_train, X_test = X[:split_size], X[split_size:]\n",
        "y_train, y_test = y[:split_size], y[split_size:]"
      ],
      "execution_count": null,
      "outputs": []
    },
    {
      "cell_type": "code",
      "metadata": {
        "colab": {
          "base_uri": "https://localhost:8080/"
        },
        "id": "lnpXpMCWemEu",
        "outputId": "0d740be8-29f0-4b2e-8b77-ff42640dfaeb"
      },
      "source": [
        "len(X_train), len(y_train), len(X_test), len(y_test)"
      ],
      "execution_count": null,
      "outputs": [
        {
          "output_type": "execute_result",
          "data": {
            "text/plain": [
              "(2229, 2229, 551, 551)"
            ]
          },
          "metadata": {
            "tags": []
          },
          "execution_count": 129
        }
      ]
    },
    {
      "cell_type": "code",
      "metadata": {
        "colab": {
          "base_uri": "https://localhost:8080/"
        },
        "id": "nqVizXfkeo-w",
        "outputId": "540c4191-810c-45d1-d4a5-98eb5a0d18b9"
      },
      "source": [
        "train_features_dataset = tf.data.Dataset.from_tensor_slices(X_train)\n",
        "train_labels_dataset = tf.data.Dataset.from_tensor_slices(y_train)\n",
        "\n",
        "test_features_dataset = tf.data.Dataset.from_tensor_slices(X_test)\n",
        "test_labels_dataset = tf.data.Dataset.from_tensor_slices(y_test)\n",
        "\n",
        "train_data = tf.data.Dataset.zip((train_features_dataset, train_labels_dataset))\n",
        "test_data = tf.data.Dataset.zip((test_features_dataset, test_labels_dataset))\n",
        "\n",
        "BATCH_SIZE = 1024\n",
        "\n",
        "train_data = train_data.batch(BATCH_SIZE).prefetch(tf.data.AUTOTUNE)\n",
        "test_data = test_data.batch(BATCH_SIZE).prefetch(tf.data.AUTOTUNE)\n",
        "\n",
        "train_data, test_data"
      ],
      "execution_count": null,
      "outputs": [
        {
          "output_type": "execute_result",
          "data": {
            "text/plain": [
              "(<PrefetchDataset shapes: ((None, 7), (None,)), types: (tf.float64, tf.float64)>,\n",
              " <PrefetchDataset shapes: ((None, 7), (None,)), types: (tf.float64, tf.float64)>)"
            ]
          },
          "metadata": {
            "tags": []
          },
          "execution_count": 130
        }
      ]
    },
    {
      "cell_type": "code",
      "metadata": {
        "id": "C4seb0LPg7ak"
      },
      "source": [
        "N_EPOCHS = 5000\n",
        "N_NEURONS  =512\n",
        "N_LAYERS =4\n",
        "N_STACKS = 30\n",
        "\n",
        "INPUT_SIZE  =WINDOW_SIZE*HORIZON\n",
        "THETA_SIZE = WINDOW_SIZE+ HORIZON"
      ],
      "execution_count": null,
      "outputs": []
    },
    {
      "cell_type": "code",
      "metadata": {
        "colab": {
          "base_uri": "https://localhost:8080/"
        },
        "id": "hJ4ftqDtjtvu",
        "outputId": "670b9448-f96a-4d78-e817-4412d73beb46"
      },
      "source": [
        "tensor1 = tf.range(10)+5\n",
        "tensor2 = tf.range(10)\n",
        "sub =layers.subtract([tensor1, tensor2])\n",
        "sub.numpy()"
      ],
      "execution_count": null,
      "outputs": [
        {
          "output_type": "execute_result",
          "data": {
            "text/plain": [
              "array([5, 5, 5, 5, 5, 5, 5, 5, 5, 5], dtype=int32)"
            ]
          },
          "metadata": {
            "tags": []
          },
          "execution_count": 132
        }
      ]
    },
    {
      "cell_type": "code",
      "metadata": {
        "id": "OXtIiFi9nusm",
        "colab": {
          "base_uri": "https://localhost:8080/",
          "height": 486
        },
        "outputId": "6f599c3f-4b04-451f-a6a4-2f17f922e221"
      },
      "source": [
        "# tf.random.set_seed(42)\n",
        "\n",
        "# n_beats_block_layer = n_beats(input_size = INPUT_SIZE,\n",
        "#                               theta_size = THETA_SIZE,\n",
        "#                               horizon = HORIZON,\n",
        "#                               n_neurons = N_NEURONS,\n",
        "#                               n_layers = N_LAYERS)\n",
        "# stack_input = layers.Input(shape = (INPUT_SIZE), name =\"stack_inp\")\n",
        "\n",
        "# residuals, forecast = n_beats_block_layer(stack_input)\n",
        "\n",
        "# for i, _ in enumerate(range(N_STACKS -1)):\n",
        "  \n",
        "#   backcast, block_forecast = n_beats(INPUT_SIZE, THETA_SIZE,\n",
        "#                                      HORIZON, N_NEURONS, \n",
        "#                                      N_LAYERS)(residuals)\n",
        "#   residuals = layers.subtract([residuals, backcast])\n",
        "#   forecast = layers.add([block_forecast, forecast])\n",
        "\n",
        "# model_7 = tf.keras.Model(stack_input, forecast)\n",
        "# model_7.compile(loss = \"mae\", \n",
        "#                 optimizer = tf.keras.optimizers.Adam())\n",
        "# model_7.fit(train_data, validation_data = test_data, epochs  =N_EPOCHS, \n",
        "#             callbacks = [tf.keras.callbacks.EarlyStopping(patience=200, restore_best_weights=1),\n",
        "#                          tf.keras.callbacks.ReduceLROnPlateau(patience=100, verbose=1)])\n"
      ],
      "execution_count": null,
      "outputs": [
        {
          "output_type": "stream",
          "text": [
            "3/3 [==============================] - 6s 2s/step - loss: 968.4354 - val_loss: 7028.5454\n"
          ],
          "name": "stdout"
        },
        {
          "output_type": "stream",
          "text": [
            "Exception ignored in: <function IteratorResourceDeleter.__del__ at 0x7fba97b22440>\n",
            "Traceback (most recent call last):\n",
            "  File \"/usr/local/lib/python3.7/dist-packages/tensorflow/python/data/ops/iterator_ops.py\", line 546, in __del__\n",
            "    handle=self._handle, deleter=self._deleter)\n",
            "  File \"/usr/local/lib/python3.7/dist-packages/tensorflow/python/ops/gen_dataset_ops.py\", line 1264, in delete_iterator\n",
            "    _ctx, \"DeleteIterator\", name, handle, deleter)\n",
            "KeyboardInterrupt: \n"
          ],
          "name": "stderr"
        },
        {
          "output_type": "stream",
          "text": [
            "Epoch 9/5000\n"
          ],
          "name": "stdout"
        },
        {
          "output_type": "error",
          "ename": "KeyboardInterrupt",
          "evalue": "ignored",
          "traceback": [
            "\u001b[0;31m---------------------------------------------------------------------------\u001b[0m",
            "\u001b[0;31mKeyboardInterrupt\u001b[0m                         Traceback (most recent call last)",
            "\u001b[0;32m<ipython-input-133-508801ac39cf>\u001b[0m in \u001b[0;36m<module>\u001b[0;34m()\u001b[0m\n\u001b[1;32m     23\u001b[0m model_7.fit(train_data, validation_data = test_data, epochs  =N_EPOCHS, \n\u001b[1;32m     24\u001b[0m             callbacks = [tf.keras.callbacks.EarlyStopping(patience=200, restore_best_weights=1),\n\u001b[0;32m---> 25\u001b[0;31m                          tf.keras.callbacks.ReduceLROnPlateau(patience=100, verbose=1)])\n\u001b[0m",
            "\u001b[0;32m/usr/local/lib/python3.7/dist-packages/tensorflow/python/keras/engine/training.py\u001b[0m in \u001b[0;36mfit\u001b[0;34m(self, x, y, batch_size, epochs, verbose, callbacks, validation_split, validation_data, shuffle, class_weight, sample_weight, initial_epoch, steps_per_epoch, validation_steps, validation_batch_size, validation_freq, max_queue_size, workers, use_multiprocessing)\u001b[0m\n\u001b[1;32m   1181\u001b[0m                 _r=1):\n\u001b[1;32m   1182\u001b[0m               \u001b[0mcallbacks\u001b[0m\u001b[0;34m.\u001b[0m\u001b[0mon_train_batch_begin\u001b[0m\u001b[0;34m(\u001b[0m\u001b[0mstep\u001b[0m\u001b[0;34m)\u001b[0m\u001b[0;34m\u001b[0m\u001b[0;34m\u001b[0m\u001b[0m\n\u001b[0;32m-> 1183\u001b[0;31m               \u001b[0mtmp_logs\u001b[0m \u001b[0;34m=\u001b[0m \u001b[0mself\u001b[0m\u001b[0;34m.\u001b[0m\u001b[0mtrain_function\u001b[0m\u001b[0;34m(\u001b[0m\u001b[0miterator\u001b[0m\u001b[0;34m)\u001b[0m\u001b[0;34m\u001b[0m\u001b[0;34m\u001b[0m\u001b[0m\n\u001b[0m\u001b[1;32m   1184\u001b[0m               \u001b[0;32mif\u001b[0m \u001b[0mdata_handler\u001b[0m\u001b[0;34m.\u001b[0m\u001b[0mshould_sync\u001b[0m\u001b[0;34m:\u001b[0m\u001b[0;34m\u001b[0m\u001b[0;34m\u001b[0m\u001b[0m\n\u001b[1;32m   1185\u001b[0m                 \u001b[0mcontext\u001b[0m\u001b[0;34m.\u001b[0m\u001b[0masync_wait\u001b[0m\u001b[0;34m(\u001b[0m\u001b[0;34m)\u001b[0m\u001b[0;34m\u001b[0m\u001b[0;34m\u001b[0m\u001b[0m\n",
            "\u001b[0;32m/usr/local/lib/python3.7/dist-packages/tensorflow/python/eager/def_function.py\u001b[0m in \u001b[0;36m__call__\u001b[0;34m(self, *args, **kwds)\u001b[0m\n\u001b[1;32m    887\u001b[0m \u001b[0;34m\u001b[0m\u001b[0m\n\u001b[1;32m    888\u001b[0m       \u001b[0;32mwith\u001b[0m \u001b[0mOptionalXlaContext\u001b[0m\u001b[0;34m(\u001b[0m\u001b[0mself\u001b[0m\u001b[0;34m.\u001b[0m\u001b[0m_jit_compile\u001b[0m\u001b[0;34m)\u001b[0m\u001b[0;34m:\u001b[0m\u001b[0;34m\u001b[0m\u001b[0;34m\u001b[0m\u001b[0m\n\u001b[0;32m--> 889\u001b[0;31m         \u001b[0mresult\u001b[0m \u001b[0;34m=\u001b[0m \u001b[0mself\u001b[0m\u001b[0;34m.\u001b[0m\u001b[0m_call\u001b[0m\u001b[0;34m(\u001b[0m\u001b[0;34m*\u001b[0m\u001b[0margs\u001b[0m\u001b[0;34m,\u001b[0m \u001b[0;34m**\u001b[0m\u001b[0mkwds\u001b[0m\u001b[0;34m)\u001b[0m\u001b[0;34m\u001b[0m\u001b[0;34m\u001b[0m\u001b[0m\n\u001b[0m\u001b[1;32m    890\u001b[0m \u001b[0;34m\u001b[0m\u001b[0m\n\u001b[1;32m    891\u001b[0m       \u001b[0mnew_tracing_count\u001b[0m \u001b[0;34m=\u001b[0m \u001b[0mself\u001b[0m\u001b[0;34m.\u001b[0m\u001b[0mexperimental_get_tracing_count\u001b[0m\u001b[0;34m(\u001b[0m\u001b[0;34m)\u001b[0m\u001b[0;34m\u001b[0m\u001b[0;34m\u001b[0m\u001b[0m\n",
            "\u001b[0;32m/usr/local/lib/python3.7/dist-packages/tensorflow/python/eager/def_function.py\u001b[0m in \u001b[0;36m_call\u001b[0;34m(self, *args, **kwds)\u001b[0m\n\u001b[1;32m    915\u001b[0m       \u001b[0;31m# In this case we have created variables on the first call, so we run the\u001b[0m\u001b[0;34m\u001b[0m\u001b[0;34m\u001b[0m\u001b[0;34m\u001b[0m\u001b[0m\n\u001b[1;32m    916\u001b[0m       \u001b[0;31m# defunned version which is guaranteed to never create variables.\u001b[0m\u001b[0;34m\u001b[0m\u001b[0;34m\u001b[0m\u001b[0;34m\u001b[0m\u001b[0m\n\u001b[0;32m--> 917\u001b[0;31m       \u001b[0;32mreturn\u001b[0m \u001b[0mself\u001b[0m\u001b[0;34m.\u001b[0m\u001b[0m_stateless_fn\u001b[0m\u001b[0;34m(\u001b[0m\u001b[0;34m*\u001b[0m\u001b[0margs\u001b[0m\u001b[0;34m,\u001b[0m \u001b[0;34m**\u001b[0m\u001b[0mkwds\u001b[0m\u001b[0;34m)\u001b[0m  \u001b[0;31m# pylint: disable=not-callable\u001b[0m\u001b[0;34m\u001b[0m\u001b[0;34m\u001b[0m\u001b[0m\n\u001b[0m\u001b[1;32m    918\u001b[0m     \u001b[0;32melif\u001b[0m \u001b[0mself\u001b[0m\u001b[0;34m.\u001b[0m\u001b[0m_stateful_fn\u001b[0m \u001b[0;32mis\u001b[0m \u001b[0;32mnot\u001b[0m \u001b[0;32mNone\u001b[0m\u001b[0;34m:\u001b[0m\u001b[0;34m\u001b[0m\u001b[0;34m\u001b[0m\u001b[0m\n\u001b[1;32m    919\u001b[0m       \u001b[0;31m# Release the lock early so that multiple threads can perform the call\u001b[0m\u001b[0;34m\u001b[0m\u001b[0;34m\u001b[0m\u001b[0;34m\u001b[0m\u001b[0m\n",
            "\u001b[0;32m/usr/local/lib/python3.7/dist-packages/tensorflow/python/eager/function.py\u001b[0m in \u001b[0;36m__call__\u001b[0;34m(self, *args, **kwargs)\u001b[0m\n\u001b[1;32m   3022\u001b[0m        filtered_flat_args) = self._maybe_define_function(args, kwargs)\n\u001b[1;32m   3023\u001b[0m     return graph_function._call_flat(\n\u001b[0;32m-> 3024\u001b[0;31m         filtered_flat_args, captured_inputs=graph_function.captured_inputs)  # pylint: disable=protected-access\n\u001b[0m\u001b[1;32m   3025\u001b[0m \u001b[0;34m\u001b[0m\u001b[0m\n\u001b[1;32m   3026\u001b[0m   \u001b[0;34m@\u001b[0m\u001b[0mproperty\u001b[0m\u001b[0;34m\u001b[0m\u001b[0;34m\u001b[0m\u001b[0m\n",
            "\u001b[0;32m/usr/local/lib/python3.7/dist-packages/tensorflow/python/eager/function.py\u001b[0m in \u001b[0;36m_call_flat\u001b[0;34m(self, args, captured_inputs, cancellation_manager)\u001b[0m\n\u001b[1;32m   1959\u001b[0m       \u001b[0;31m# No tape is watching; skip to running the function.\u001b[0m\u001b[0;34m\u001b[0m\u001b[0;34m\u001b[0m\u001b[0;34m\u001b[0m\u001b[0m\n\u001b[1;32m   1960\u001b[0m       return self._build_call_outputs(self._inference_function.call(\n\u001b[0;32m-> 1961\u001b[0;31m           ctx, args, cancellation_manager=cancellation_manager))\n\u001b[0m\u001b[1;32m   1962\u001b[0m     forward_backward = self._select_forward_and_backward_functions(\n\u001b[1;32m   1963\u001b[0m         \u001b[0margs\u001b[0m\u001b[0;34m,\u001b[0m\u001b[0;34m\u001b[0m\u001b[0;34m\u001b[0m\u001b[0m\n",
            "\u001b[0;32m/usr/local/lib/python3.7/dist-packages/tensorflow/python/eager/function.py\u001b[0m in \u001b[0;36mcall\u001b[0;34m(self, ctx, args, cancellation_manager)\u001b[0m\n\u001b[1;32m    594\u001b[0m               \u001b[0minputs\u001b[0m\u001b[0;34m=\u001b[0m\u001b[0margs\u001b[0m\u001b[0;34m,\u001b[0m\u001b[0;34m\u001b[0m\u001b[0;34m\u001b[0m\u001b[0m\n\u001b[1;32m    595\u001b[0m               \u001b[0mattrs\u001b[0m\u001b[0;34m=\u001b[0m\u001b[0mattrs\u001b[0m\u001b[0;34m,\u001b[0m\u001b[0;34m\u001b[0m\u001b[0;34m\u001b[0m\u001b[0m\n\u001b[0;32m--> 596\u001b[0;31m               ctx=ctx)\n\u001b[0m\u001b[1;32m    597\u001b[0m         \u001b[0;32melse\u001b[0m\u001b[0;34m:\u001b[0m\u001b[0;34m\u001b[0m\u001b[0;34m\u001b[0m\u001b[0m\n\u001b[1;32m    598\u001b[0m           outputs = execute.execute_with_cancellation(\n",
            "\u001b[0;32m/usr/local/lib/python3.7/dist-packages/tensorflow/python/eager/execute.py\u001b[0m in \u001b[0;36mquick_execute\u001b[0;34m(op_name, num_outputs, inputs, attrs, ctx, name)\u001b[0m\n\u001b[1;32m     58\u001b[0m     \u001b[0mctx\u001b[0m\u001b[0;34m.\u001b[0m\u001b[0mensure_initialized\u001b[0m\u001b[0;34m(\u001b[0m\u001b[0;34m)\u001b[0m\u001b[0;34m\u001b[0m\u001b[0;34m\u001b[0m\u001b[0m\n\u001b[1;32m     59\u001b[0m     tensors = pywrap_tfe.TFE_Py_Execute(ctx._handle, device_name, op_name,\n\u001b[0;32m---> 60\u001b[0;31m                                         inputs, attrs, num_outputs)\n\u001b[0m\u001b[1;32m     61\u001b[0m   \u001b[0;32mexcept\u001b[0m \u001b[0mcore\u001b[0m\u001b[0;34m.\u001b[0m\u001b[0m_NotOkStatusException\u001b[0m \u001b[0;32mas\u001b[0m \u001b[0me\u001b[0m\u001b[0;34m:\u001b[0m\u001b[0;34m\u001b[0m\u001b[0;34m\u001b[0m\u001b[0m\n\u001b[1;32m     62\u001b[0m     \u001b[0;32mif\u001b[0m \u001b[0mname\u001b[0m \u001b[0;32mis\u001b[0m \u001b[0;32mnot\u001b[0m \u001b[0;32mNone\u001b[0m\u001b[0;34m:\u001b[0m\u001b[0;34m\u001b[0m\u001b[0;34m\u001b[0m\u001b[0m\n",
            "\u001b[0;31mKeyboardInterrupt\u001b[0m: "
          ]
        }
      ]
    },
    {
      "cell_type": "code",
      "metadata": {
        "id": "q7hsCA-if0VL"
      },
      "source": [
        "# model_7_preds = model_preds(model_7, test_data)\n",
        "# model_7_results = evaluate_preds(y_test, model_7_preds)\n",
        "# model_7_results"
      ],
      "execution_count": null,
      "outputs": []
    },
    {
      "cell_type": "code",
      "metadata": {
        "id": "wABkClivhRMt"
      },
      "source": [
        ""
      ],
      "execution_count": null,
      "outputs": []
    },
    {
      "cell_type": "markdown",
      "metadata": {
        "id": "PjBQKxjdhzM7"
      },
      "source": [
        "## Model 8"
      ]
    },
    {
      "cell_type": "code",
      "metadata": {
        "id": "nfIkmn7hkHqn"
      },
      "source": [
        "# def get_ensemble_models(horizon =HORIZON,\n",
        "#                         train_data = train_data,\n",
        "#                         test_data =test_data,\n",
        "#                         n_epochs = 1000,\n",
        "#                         n_iter = 10,\n",
        "#                         loss_fn = [\"mae\", \"mse\", \"mape\"]):\n",
        "#   ensemble_models  =[]\n",
        "#   for n_iter in range(n_iter):\n",
        "#     for loss_fn in loss_fn:\n",
        "#       model = tf.keras.Sequential([\n",
        "#                                    layers.Dense(128,kernel_initializer = \"he_normal\", activation=\"relu\" ),\n",
        "#                                    layers.Dense(128,kernel_initializer = \"he_normal\", activation=\"relu\"),\n",
        "#                                    layers.Dense(HORIZON)\n",
        "#       ])\n",
        "#       model.compile(loss = loss_fn,\n",
        "#                     optimizer =keras.optimizers.Adam(),\n",
        "#                     metrics = [\"mae\", \"mse\"])\n",
        "#       model.fit(train_data, validation_data = test_data,\n",
        "#                 epochs = n_epochs, callbacks = [tf.keras.callbacks.EarlyStopping(patience =200, restore_best_weights=1),\n",
        "#                                                 tf.keras.callbacks.ReduceLROnPlateau(monitor=\"val_loss\",\n",
        "#                                                               patience = 100, verbose=1)])\n",
        "#       ensemble_models.append(model)\n",
        "#   return ensemble_models\n",
        "# ensemble_models = get_ensemble_models()"
      ],
      "execution_count": null,
      "outputs": []
    },
    {
      "cell_type": "code",
      "metadata": {
        "id": "HlBtXE0d5l3D"
      },
      "source": [
        "# def make_ensemble_preds(ensemble_models, data):\n",
        "#   ensemble_preds = []\n",
        "#   for model in ensemble_models:\n",
        "#     preds = model.predict(data) # make predictions with current ensemble model\n",
        "#     ensemble_preds.append(preds)\n",
        "#   return tf.constant(tf.squeeze(ensemble_preds))\n",
        "# ensemble_preds = make_ensemble_preds(ensemble_models=ensemble_models,\n",
        "#                                      data=test_dataset)"
      ],
      "execution_count": null,
      "outputs": []
    },
    {
      "cell_type": "code",
      "metadata": {
        "id": "781Jk6xd5En0"
      },
      "source": [
        "# def get_upper_lower(preds):\n",
        "#   std  =tf.math.reduce_std(preds)\n",
        "\n",
        "#   interval =1.96*std\n",
        "\n",
        "#   preds_mean = tf.math.reduce_mean(preds, axis =0)\n",
        "#   upper, lower = preds_mean + interval, preds_mean-interval\n",
        "#   return upper, lower\n",
        "# upper, lower = get_upper_lower(ensemble_preds)"
      ],
      "execution_count": null,
      "outputs": []
    },
    {
      "cell_type": "code",
      "metadata": {
        "id": "pj33L8Xd5lUo"
      },
      "source": [
        "# ensemble_median = np.median(ensemble_preds, axis=0)\n",
        "\n",
        "# # Plot the median of our ensemble preds along with the prediction intervals (where the predictions fall between)\n",
        "# offset=500\n",
        "# plt.figure(figsize=(10, 7))\n",
        "# plt.plot(X_test.index[offset:], y_test[offset:], \"g\", label=\"Test Data\")\n",
        "# plt.plot(X_test.index[offset:], ensemble_median[offset:], \"k-\", label=\"Ensemble Median\")\n",
        "# plt.xlabel(\"Date\")\n",
        "# plt.ylabel(\"BTC Price\")\n",
        "# plt.fill_between(X_test.index[offset:], \n",
        "#                  (lower)[offset:], \n",
        "#                  (upper)[offset:], label=\"Prediction Intervals\")\n",
        "# plt.legend(loc=\"upper left\", fontsize=14);"
      ],
      "execution_count": null,
      "outputs": []
    },
    {
      "cell_type": "markdown",
      "metadata": {
        "id": "iN6z_cqH59k3"
      },
      "source": [
        "## Future Predicting Model"
      ]
    },
    {
      "cell_type": "code",
      "metadata": {
        "colab": {
          "base_uri": "https://localhost:8080/",
          "height": 233
        },
        "id": "fPwtoSiD9CLv",
        "outputId": "81f63d1a-fb49-482f-9cdd-14085c9906e7"
      },
      "source": [
        "bitcoin_prices_windowed.head()"
      ],
      "execution_count": null,
      "outputs": [
        {
          "output_type": "execute_result",
          "data": {
            "text/html": [
              "<div>\n",
              "<style scoped>\n",
              "    .dataframe tbody tr th:only-of-type {\n",
              "        vertical-align: middle;\n",
              "    }\n",
              "\n",
              "    .dataframe tbody tr th {\n",
              "        vertical-align: top;\n",
              "    }\n",
              "\n",
              "    .dataframe thead th {\n",
              "        text-align: right;\n",
              "    }\n",
              "</style>\n",
              "<table border=\"1\" class=\"dataframe\">\n",
              "  <thead>\n",
              "    <tr style=\"text-align: right;\">\n",
              "      <th></th>\n",
              "      <th>Price</th>\n",
              "      <th>Price + 1</th>\n",
              "      <th>Price + 2</th>\n",
              "      <th>Price + 3</th>\n",
              "      <th>Price + 4</th>\n",
              "      <th>Price + 5</th>\n",
              "      <th>Price + 6</th>\n",
              "      <th>Price + 7</th>\n",
              "    </tr>\n",
              "    <tr>\n",
              "      <th>Date</th>\n",
              "      <th></th>\n",
              "      <th></th>\n",
              "      <th></th>\n",
              "      <th></th>\n",
              "      <th></th>\n",
              "      <th></th>\n",
              "      <th></th>\n",
              "      <th></th>\n",
              "    </tr>\n",
              "  </thead>\n",
              "  <tbody>\n",
              "    <tr>\n",
              "      <th>2013-10-01</th>\n",
              "      <td>123.65499</td>\n",
              "      <td>NaN</td>\n",
              "      <td>NaN</td>\n",
              "      <td>NaN</td>\n",
              "      <td>NaN</td>\n",
              "      <td>NaN</td>\n",
              "      <td>NaN</td>\n",
              "      <td>NaN</td>\n",
              "    </tr>\n",
              "    <tr>\n",
              "      <th>2013-10-02</th>\n",
              "      <td>125.45500</td>\n",
              "      <td>123.65499</td>\n",
              "      <td>NaN</td>\n",
              "      <td>NaN</td>\n",
              "      <td>NaN</td>\n",
              "      <td>NaN</td>\n",
              "      <td>NaN</td>\n",
              "      <td>NaN</td>\n",
              "    </tr>\n",
              "    <tr>\n",
              "      <th>2013-10-03</th>\n",
              "      <td>108.58483</td>\n",
              "      <td>125.45500</td>\n",
              "      <td>123.65499</td>\n",
              "      <td>NaN</td>\n",
              "      <td>NaN</td>\n",
              "      <td>NaN</td>\n",
              "      <td>NaN</td>\n",
              "      <td>NaN</td>\n",
              "    </tr>\n",
              "    <tr>\n",
              "      <th>2013-10-04</th>\n",
              "      <td>118.67466</td>\n",
              "      <td>108.58483</td>\n",
              "      <td>125.45500</td>\n",
              "      <td>123.65499</td>\n",
              "      <td>NaN</td>\n",
              "      <td>NaN</td>\n",
              "      <td>NaN</td>\n",
              "      <td>NaN</td>\n",
              "    </tr>\n",
              "    <tr>\n",
              "      <th>2013-10-05</th>\n",
              "      <td>121.33866</td>\n",
              "      <td>118.67466</td>\n",
              "      <td>108.58483</td>\n",
              "      <td>125.45500</td>\n",
              "      <td>123.65499</td>\n",
              "      <td>NaN</td>\n",
              "      <td>NaN</td>\n",
              "      <td>NaN</td>\n",
              "    </tr>\n",
              "  </tbody>\n",
              "</table>\n",
              "</div>"
            ],
            "text/plain": [
              "                Price  Price + 1  Price + 2  ...  Price + 5  Price + 6  Price + 7\n",
              "Date                                         ...                                 \n",
              "2013-10-01  123.65499        NaN        NaN  ...        NaN        NaN        NaN\n",
              "2013-10-02  125.45500  123.65499        NaN  ...        NaN        NaN        NaN\n",
              "2013-10-03  108.58483  125.45500  123.65499  ...        NaN        NaN        NaN\n",
              "2013-10-04  118.67466  108.58483  125.45500  ...        NaN        NaN        NaN\n",
              "2013-10-05  121.33866  118.67466  108.58483  ...        NaN        NaN        NaN\n",
              "\n",
              "[5 rows x 8 columns]"
            ]
          },
          "metadata": {
            "tags": []
          },
          "execution_count": 134
        }
      ]
    },
    {
      "cell_type": "code",
      "metadata": {
        "colab": {
          "base_uri": "https://localhost:8080/"
        },
        "id": "aoEmLYjQ-YvL",
        "outputId": "dfc3f40e-571c-4dce-d4b5-be9333bf9002"
      },
      "source": [
        "X_all = bitcoin_prices_windowed.dropna().drop(\"Price\", axis =1).to_numpy()\n",
        "y_all = bitcoin_prices_windowed.dropna().Price.to_numpy()\n"
      ],
      "execution_count": null,
      "outputs": [
        {
          "output_type": "execute_result",
          "data": {
            "text/plain": [
              "array([[  121.795     ,   120.65533   ,   121.33866   , ...,\n",
              "          108.58483   ,   125.455     ,   123.65499   ],\n",
              "       [  123.033     ,   121.795     ,   120.65533   , ...,\n",
              "          118.67466   ,   108.58483   ,   125.455     ],\n",
              "       [  124.049     ,   123.033     ,   121.795     , ...,\n",
              "          121.33866   ,   118.67466   ,   108.58483   ],\n",
              "       ...,\n",
              "       [50032.69313676, 49764.1320816 , 52147.82118698, ...,\n",
              "        55715.54665129, 58102.19142623, 58788.20967893],\n",
              "       [47885.62525472, 50032.69313676, 49764.1320816 , ...,\n",
              "        56573.5554719 , 55715.54665129, 58102.19142623],\n",
              "       [45604.61575361, 47885.62525472, 50032.69313676, ...,\n",
              "        52147.82118698, 56573.5554719 , 55715.54665129]])"
            ]
          },
          "metadata": {
            "tags": []
          },
          "execution_count": 209
        }
      ]
    },
    {
      "cell_type": "code",
      "metadata": {
        "id": "FqKR7lGF-rTR"
      },
      "source": [
        "features_dataset_all  = tf.data.Dataset.from_tensor_slices(X_all)\n",
        "labels_dataset_all =tf.data.Dataset.from_tensor_slices(y_all)\n",
        "\n",
        "full_dataset = tf.data.Dataset.zip((features_dataset_all, labels_dataset_all))\n",
        "full_dataset = full_dataset.batch(BATCH_SIZE).prefetch(tf.data.AUTOTUNE)"
      ],
      "execution_count": null,
      "outputs": []
    },
    {
      "cell_type": "code",
      "metadata": {
        "colab": {
          "base_uri": "https://localhost:8080/"
        },
        "id": "832cX8Pt_Kic",
        "outputId": "d6fc9f44-ab84-423e-e6cd-d6c1c62aea0d"
      },
      "source": [
        "tf.random.set_seed(42)\n",
        "model_9  =tf.keras.Sequential([\n",
        "                               layers.Dense(128, activation=\"relu\"),\n",
        "                               layers.Dense(128, activation=\"relu\"),\n",
        "                               layers.Dense(HORIZON)\n",
        "])\n",
        "model_9.compile(loss=tf.keras.losses.mae,\n",
        "                optimizer=tf.keras.optimizers.Adam())\n",
        "\n",
        "# Fit model on all of the data to make future forecasts\n",
        "model_9.fit(full_dataset,\n",
        "            epochs=100,\n",
        "            verbose=0    ) # don't print out anything, we've seen this all before"
      ],
      "execution_count": null,
      "outputs": [
        {
          "output_type": "execute_result",
          "data": {
            "text/plain": [
              "<tensorflow.python.keras.callbacks.History at 0x7fba7c5ab590>"
            ]
          },
          "metadata": {
            "tags": []
          },
          "execution_count": 137
        }
      ]
    },
    {
      "cell_type": "code",
      "metadata": {
        "colab": {
          "base_uri": "https://localhost:8080/"
        },
        "id": "l5gba1Pkvpb1",
        "outputId": "5811b013-6e6b-4a72-ac3c-51d0cf26bd8f"
      },
      "source": [
        "full_dataset"
      ],
      "execution_count": null,
      "outputs": [
        {
          "output_type": "execute_result",
          "data": {
            "text/plain": [
              "<PrefetchDataset shapes: ((None, 7), (None,)), types: (tf.float64, tf.float64)>"
            ]
          },
          "metadata": {
            "tags": []
          },
          "execution_count": 207
        }
      ]
    },
    {
      "cell_type": "code",
      "metadata": {
        "id": "-7qe_vOD_aPC"
      },
      "source": [
        "INTO_FUTURE = 14\n",
        "def make_future_forecast(model, values, window_size = WINDOW_SIZE, into_future =INTO_FUTURE):\n",
        "  forecasts =[]\n",
        "  last_window = values[-window_size:]\n",
        "  print(last_window.shape)\n",
        "  for i in range(into_future):\n",
        "    #model.fit(tf.expand_dims(last_window, axis=1), epochs =100, verbose =0)\n",
        "    future_pred = model.predict(tf.expand_dims(last_window, axis =0))\n",
        "    forecasts.append(future_pred)\n",
        "    print(f\"Prediction on {tf.squeeze(last_window)}:\\n {future_pred}\")\n",
        "    last_window = np.append(last_window, future_pred)[-window_size:]\n",
        "    \n",
        "  return tf.squeeze(forecasts)"
      ],
      "execution_count": null,
      "outputs": []
    },
    {
      "cell_type": "code",
      "metadata": {
        "colab": {
          "base_uri": "https://localhost:8080/"
        },
        "id": "-XNBPpvZhkpH",
        "outputId": "0fd8b0cb-2034-471e-b190-7fd941a4281b"
      },
      "source": [
        "forecasts = make_future_forecast(model_9, y_all)"
      ],
      "execution_count": null,
      "outputs": [
        {
          "output_type": "stream",
          "text": [
            "(7,)\n",
            "Prediction on [56573.5554719  52147.82118698 49764.1320816  50032.69313676\n",
            " 47885.62525472 45604.61575361 43144.47129086]:\n",
            " [[55881.53]]\n",
            "Prediction on [52147.82118698 49764.1320816  50032.69313676 47885.62525472\n",
            " 45604.61575361 43144.47129086 55881.53125   ]:\n",
            " [[51063.074]]\n",
            "Prediction on [49764.1320816  50032.69313676 47885.62525472 45604.61575361\n",
            " 43144.47129086 55881.53125    51063.07421875]:\n",
            " [[48624.887]]\n",
            "Prediction on [50032.69313676 47885.62525472 45604.61575361 43144.47129086\n",
            " 55881.53125    51063.07421875 48624.88671875]:\n",
            " [[48238.29]]\n",
            "Prediction on [47885.62525472 45604.61575361 43144.47129086 55881.53125\n",
            " 51063.07421875 48624.88671875 48238.2890625 ]:\n",
            " [[48016.418]]\n",
            "Prediction on [45604.61575361 43144.47129086 55881.53125    51063.07421875\n",
            " 48624.88671875 48238.2890625  48016.41796875]:\n",
            " [[47004.754]]\n",
            "Prediction on [43144.47129086 55881.53125    51063.07421875 48624.88671875\n",
            " 48238.2890625  48016.41796875 47004.75390625]:\n",
            " [[48464.33]]\n",
            "Prediction on [55881.53125    51063.07421875 48624.88671875 48238.2890625\n",
            " 48016.41796875 47004.75390625 48464.328125  ]:\n",
            " [[54163.504]]\n",
            "Prediction on [51063.07421875 48624.88671875 48238.2890625  48016.41796875\n",
            " 47004.75390625 48464.328125   54163.50390625]:\n",
            " [[49864.215]]\n",
            "Prediction on [48624.88671875 48238.2890625  48016.41796875 47004.75390625\n",
            " 48464.328125   54163.50390625 49864.21484375]:\n",
            " [[47810.64]]\n",
            "Prediction on [48238.2890625  48016.41796875 47004.75390625 48464.328125\n",
            " 54163.50390625 49864.21484375 47810.640625  ]:\n",
            " [[48372.21]]\n",
            "Prediction on [48016.41796875 47004.75390625 48464.328125   54163.50390625\n",
            " 49864.21484375 47810.640625   48372.2109375 ]:\n",
            " [[49084.746]]\n",
            "Prediction on [47004.75390625 48464.328125   54163.50390625 49864.21484375\n",
            " 47810.640625   48372.2109375  49084.74609375]:\n",
            " [[48913.086]]\n",
            "Prediction on [48464.328125   54163.50390625 49864.21484375 47810.640625\n",
            " 48372.2109375  49084.74609375 48913.0859375 ]:\n",
            " [[50547.547]]\n"
          ],
          "name": "stdout"
        }
      ]
    },
    {
      "cell_type": "code",
      "metadata": {
        "colab": {
          "base_uri": "https://localhost:8080/"
        },
        "id": "ujeKaH4kiH19",
        "outputId": "0e183cb0-8a7f-48bf-f097-189e335288a5"
      },
      "source": [
        "forecasts"
      ],
      "execution_count": null,
      "outputs": [
        {
          "output_type": "execute_result",
          "data": {
            "text/plain": [
              "<tf.Tensor: shape=(14,), dtype=float32, numpy=\n",
              "array([55881.53 , 51063.074, 48624.887, 48238.29 , 48016.418, 47004.754,\n",
              "       48464.33 , 54163.504, 49864.215, 47810.64 , 48372.21 , 49084.746,\n",
              "       48913.086, 50547.547], dtype=float32)>"
            ]
          },
          "metadata": {
            "tags": []
          },
          "execution_count": 195
        }
      ]
    },
    {
      "cell_type": "code",
      "metadata": {
        "id": "2kEVwXNkj4JH"
      },
      "source": [
        "def get_future_dates(start_date, into_future, offset = 1):\n",
        "  start_date = start_date + np.timedelta64(offset, \"D\")\n",
        "  last_date = start_date + np.timedelta64(into_future, \"D\")\n",
        "  return np.arange(start_date, last_date, dtype= \"datetime64[D]\")"
      ],
      "execution_count": null,
      "outputs": []
    },
    {
      "cell_type": "code",
      "metadata": {
        "id": "6hSvFtlClhqj"
      },
      "source": [
        "last_index = bitcoin_prices.index[-1]\n",
        "first_index  =bitcoin_prices.index[0]"
      ],
      "execution_count": null,
      "outputs": []
    },
    {
      "cell_type": "code",
      "metadata": {
        "id": "hs8KsU7Glz0U"
      },
      "source": [
        "future_dates = get_future_dates(last_index, 14)"
      ],
      "execution_count": null,
      "outputs": []
    },
    {
      "cell_type": "code",
      "metadata": {
        "colab": {
          "base_uri": "https://localhost:8080/"
        },
        "id": "myTiu9Kgl5DI",
        "outputId": "7a1763a8-3b5b-45a8-b5e7-5b0183010f94"
      },
      "source": [
        "future_dates"
      ],
      "execution_count": null,
      "outputs": [
        {
          "output_type": "execute_result",
          "data": {
            "text/plain": [
              "array(['2021-05-19', '2021-05-20', '2021-05-21', '2021-05-22',\n",
              "       '2021-05-23', '2021-05-24', '2021-05-25', '2021-05-26',\n",
              "       '2021-05-27', '2021-05-28', '2021-05-29', '2021-05-30',\n",
              "       '2021-05-31', '2021-06-01'], dtype='datetime64[D]')"
            ]
          },
          "metadata": {
            "tags": []
          },
          "execution_count": 199
        }
      ]
    },
    {
      "cell_type": "code",
      "metadata": {
        "colab": {
          "base_uri": "https://localhost:8080/"
        },
        "id": "zDfJvW1LmDTI",
        "outputId": "7c6245cc-b01d-42d5-e8e9-f6b4df3d7e33"
      },
      "source": [
        "first_index"
      ],
      "execution_count": null,
      "outputs": [
        {
          "output_type": "execute_result",
          "data": {
            "text/plain": [
              "Timestamp('2013-10-01 00:00:00')"
            ]
          },
          "metadata": {
            "tags": []
          },
          "execution_count": 200
        }
      ]
    },
    {
      "cell_type": "code",
      "metadata": {
        "colab": {
          "base_uri": "https://localhost:8080/"
        },
        "id": "1HdFHAk6stcW",
        "outputId": "c3dba6d2-6663-48ce-af1e-1fb81f5f70cc"
      },
      "source": [
        "future_dates = np.insert(future_dates, obj = 0, values = last_index)\n",
        "forecasts  =np.insert(forecasts, 0, bitcoin_prices.Price[-1])\n",
        "future_dates, forecasts"
      ],
      "execution_count": null,
      "outputs": [
        {
          "output_type": "execute_result",
          "data": {
            "text/plain": [
              "(array(['2021-05-18', '2021-05-19', '2021-05-20', '2021-05-21',\n",
              "        '2021-05-22', '2021-05-23', '2021-05-24', '2021-05-25',\n",
              "        '2021-05-26', '2021-05-27', '2021-05-28', '2021-05-29',\n",
              "        '2021-05-30', '2021-05-31', '2021-06-01'], dtype='datetime64[D]'),\n",
              " array([43144.473, 55881.53 , 51063.074, 48624.887, 48238.29 , 48016.418,\n",
              "        47004.754, 48464.33 , 54163.504, 49864.215, 47810.64 , 48372.21 ,\n",
              "        49084.746, 48913.086, 50547.547], dtype=float32))"
            ]
          },
          "metadata": {
            "tags": []
          },
          "execution_count": 201
        }
      ]
    },
    {
      "cell_type": "code",
      "metadata": {
        "colab": {
          "base_uri": "https://localhost:8080/",
          "height": 279
        },
        "id": "NCj_GAkwmIy_",
        "outputId": "f060f0ab-ec68-4aeb-de31-52949f77d928"
      },
      "source": [
        "plt.plot(figsize = (20,7))\n",
        "plot_time_series(bitcoin_prices.index, bitcoin_prices.Price, format = \"-\", start = 2500, label = \"Initial\")\n",
        "plot_time_series(future_dates, forecasts, format=\"-\", label = \"Future\")"
      ],
      "execution_count": null,
      "outputs": [
        {
          "output_type": "display_data",
          "data": {
            "image/png": "[encoded data removed]",
            "text/plain": [
              "<Figure size 432x288 with 1 Axes>"
            ]
          },
          "metadata": {
            "tags": [],
            "needs_background": "light"
          }
        }
      ]
    },
    {
      "cell_type": "markdown",
      "metadata": {
        "id": "MSTfSIfssScW"
      },
      "source": [
        "## Turkey Problem"
      ]
    },
    {
      "cell_type": "code",
      "metadata": {
        "id": "KsfnABzTzCIt"
      },
      "source": [
        "btc_price_turkey = bitcoin_prices.Price.to_numpy()"
      ],
      "execution_count": null,
      "outputs": []
    },
    {
      "cell_type": "code",
      "metadata": {
        "colab": {
          "base_uri": "https://localhost:8080/"
        },
        "id": "1iE5LlgjzR4c",
        "outputId": "cedc35d4-2a39-417f-e680-b66f50d550a3"
      },
      "source": [
        "btc_price_turkey"
      ],
      "execution_count": null,
      "outputs": [
        {
          "output_type": "execute_result",
          "data": {
            "text/plain": [
              "array([  123.65499   ,   125.455     ,   108.58483   , ...,\n",
              "       47885.62525472, 45604.61575361, 43144.47129086])"
            ]
          },
          "metadata": {
            "tags": []
          },
          "execution_count": 234
        }
      ]
    },
    {
      "cell_type": "code",
      "metadata": {
        "id": "rTBXJ5L8zWn7"
      },
      "source": [
        "btc_price_turkey[-1]  /= 100"
      ],
      "execution_count": null,
      "outputs": []
    },
    {
      "cell_type": "code",
      "metadata": {
        "colab": {
          "base_uri": "https://localhost:8080/"
        },
        "id": "utD_uBrLzv7H",
        "outputId": "2371ae3e-03bf-42f1-b67d-799b652af122"
      },
      "source": [
        "btc_price_turkey"
      ],
      "execution_count": null,
      "outputs": [
        {
          "output_type": "execute_result",
          "data": {
            "text/plain": [
              "array([  123.65499   ,   125.455     ,   108.58483   , ...,\n",
              "       47885.62525472, 45604.61575361,   431.44471291])"
            ]
          },
          "metadata": {
            "tags": []
          },
          "execution_count": 236
        }
      ]
    },
    {
      "cell_type": "code",
      "metadata": {
        "colab": {
          "base_uri": "https://localhost:8080/"
        },
        "id": "fBj4HTYy0cGw",
        "outputId": "ba278cc3-01f3-4e4f-b19d-1a784312fb5c"
      },
      "source": [
        "btc_dates_turkey = bitcoin_prices.index.to_numpy()\n",
        "btc_dates_turkey"
      ],
      "execution_count": null,
      "outputs": [
        {
          "output_type": "execute_result",
          "data": {
            "text/plain": [
              "array(['2013-10-01T00:00:00.000000000', '2013-10-02T00:00:00.000000000',\n",
              "       '2013-10-03T00:00:00.000000000', ...,\n",
              "       '2021-05-16T00:00:00.000000000', '2021-05-17T00:00:00.000000000',\n",
              "       '2021-05-18T00:00:00.000000000'], dtype='datetime64[ns]')"
            ]
          },
          "metadata": {
            "tags": []
          },
          "execution_count": 267
        }
      ]
    },
    {
      "cell_type": "code",
      "metadata": {
        "colab": {
          "base_uri": "https://localhost:8080/",
          "height": 282
        },
        "id": "lHfAXfo_0wtS",
        "outputId": "78384bc4-6214-4720-f215-d0a250f9aac9"
      },
      "source": [
        "plot_time_series(btc_dates_turkey[:len(X_train)], btc_price_turkey[:len(y_train)], format= \"-\")"
      ],
      "execution_count": null,
      "outputs": [
        {
          "output_type": "display_data",
          "data": {
            "image/png": "[encoded data removed]",
            "text/plain": [
              "<Figure size 432x288 with 1 Axes>"
            ]
          },
          "metadata": {
            "tags": [],
            "needs_background": "light"
          }
        }
      ]
    },
    {
      "cell_type": "code",
      "metadata": {
        "colab": {
          "base_uri": "https://localhost:8080/"
        },
        "id": "63xWHvGt013U",
        "outputId": "623b703a-bb17-440f-e63a-48fe0d2ce6cc"
      },
      "source": [
        "full_windows, full_labels = make_windows(np.array(btc_price_turkey), window_size=WINDOW_SIZE, horizon=HORIZON)\n",
        "len(full_windows), len(full_labels)\n",
        "\n",
        "X_train, X_test, y_train, y_test = make_train_test_split(full_windows, full_labels)\n",
        "len(X_train), len(X_test), len(y_train), len(y_test)"
      ],
      "execution_count": null,
      "outputs": [
        {
          "output_type": "execute_result",
          "data": {
            "text/plain": [
              "(2224, 556, 2224, 556)"
            ]
          },
          "metadata": {
            "tags": []
          },
          "execution_count": 241
        }
      ]
    },
    {
      "cell_type": "code",
      "metadata": {
        "id": "lfPgf7sZ08ZF"
      },
      "source": [
        "model_10=  keras.models.clone_model(model_1)\n",
        "model_10.compile(loss = \"mae\", \n",
        "                 optimizer = keras.optimizers.Adam())\n",
        "model_10.fit(X_train, y_train, epochs =50, validation_data=(X_test, y_test),\n",
        "             batch_size =128 ,\n",
        "             callbacks = [create_model_checkpoint(\"mdoel_10_turkey\")])"
      ],
      "execution_count": null,
      "outputs": []
    },
    {
      "cell_type": "code",
      "metadata": {
        "colab": {
          "base_uri": "https://localhost:8080/"
        },
        "id": "hL3eUc_e1NBK",
        "outputId": "ffb3fa5a-14a8-471c-b6ba-28ed29ce0a7f"
      },
      "source": [
        "model_10 = keras.models.load_model(\"/content/model_experiments/mdoel_10_turkey\")\n",
        "model_10.evaluate(X_test, y_test)"
      ],
      "execution_count": null,
      "outputs": [
        {
          "output_type": "stream",
          "text": [
            "18/18 [==============================] - 0s 1ms/step - loss: 648.5377\n"
          ],
          "name": "stdout"
        },
        {
          "output_type": "execute_result",
          "data": {
            "text/plain": [
              "648.5376586914062"
            ]
          },
          "metadata": {
            "tags": []
          },
          "execution_count": 255
        }
      ]
    },
    {
      "cell_type": "code",
      "metadata": {
        "id": "lWd_zwN01pch"
      },
      "source": [
        "model_10_preds = model_preds(model_10, X_test)\n",
        "model_10_preds"
      ],
      "execution_count": null,
      "outputs": []
    },
    {
      "cell_type": "code",
      "metadata": {
        "id": "cz074XwI1x4q"
      },
      "source": [
        "model_10_results = evaluate_preds(y_test, model_10_preds)"
      ],
      "execution_count": null,
      "outputs": []
    },
    {
      "cell_type": "code",
      "metadata": {
        "colab": {
          "base_uri": "https://localhost:8080/"
        },
        "id": "-WM0DpAj14Pm",
        "outputId": "591bc0e3-880b-4332-e2a3-afb25d2228a7"
      },
      "source": [
        "model_10_results"
      ],
      "execution_count": null,
      "outputs": [
        {
          "output_type": "execute_result",
          "data": {
            "text/plain": [
              "{'mae': 17106.129,\n",
              " 'mape': 121.0328,\n",
              " 'mase': 26.471788,\n",
              " 'mse': 612724740.0,\n",
              " 'rmse': 23668.271}"
            ]
          },
          "metadata": {
            "tags": []
          },
          "execution_count": 258
        }
      ]
    },
    {
      "cell_type": "code",
      "metadata": {
        "colab": {
          "base_uri": "https://localhost:8080/",
          "height": 442
        },
        "id": "2epTodq515ow",
        "outputId": "2730ddc2-9c7a-4f82-af9d-8b78dfa116a5"
      },
      "source": [
        "plt.figure(figsize =(10, 7))\n",
        "# plot_time_series(btc_dates_turkey[:len(X_train)], btc_price_turkey[:len(y_train)], format =\"g\", label  ='Train')\n",
        "# plot_time_series(btc_dates_turkey[len(X_train):], btc_price_turkey[len(y_train):], format =\"b\", label  ='Test')\n",
        "plot_time_series(btc_dates_turkey[-len(X_test):], btc_price_turkey[-len(y_test):], format =\"-\", label  ='Test')\n",
        "plot_time_series(btc_dates_turkey[-len(X_test):], model_10_preds, format = \".\", label=\"Preds\")"
      ],
      "execution_count": null,
      "outputs": [
        {
          "output_type": "display_data",
          "data": {
            "image/png": "[encoded data removed]",
            "text/plain": [
              "<Figure size 720x504 with 1 Axes>"
            ]
          },
          "metadata": {
            "tags": [],
            "needs_background": "light"
          }
        }
      ]
    },
    {
      "cell_type": "code",
      "metadata": {
        "colab": {
          "base_uri": "https://localhost:8080/"
        },
        "id": "0JcxVXzA3Cv9",
        "outputId": "3de37b24-39b3-4c14-90e5-d578a0af2f71"
      },
      "source": [
        "len(X_train)"
      ],
      "execution_count": null,
      "outputs": [
        {
          "output_type": "execute_result",
          "data": {
            "text/plain": [
              "2224"
            ]
          },
          "metadata": {
            "tags": []
          },
          "execution_count": 265
        }
      ]
    },
    {
      "cell_type": "code",
      "metadata": {
        "colab": {
          "base_uri": "https://localhost:8080/",
          "height": 294
        },
        "id": "4lwJrvV84NDb",
        "outputId": "2811afe8-8cb2-4f1c-8da3-9ea1661bf1b6"
      },
      "source": [
        "model_results = pd.DataFrame({\"naive_model\": naive_results,\n",
        "                              \"model_1_dense_w7_h1\": model_1_results,\n",
        "                              \"model_2_dense_w30_h1\": model_2_results,\n",
        "                              \"model_3_dense_w30_h7\": model_3_results,\n",
        "                              \"model_4_CONV1D\": model_4_results,\n",
        "                              \"model_5_LSTM\": model_5_results,\n",
        "                              \"model_6_multivariate\": model_6_results,\n",
        "                              #\"model_8_NBEATs\": model_7_results,\n",
        "                              #\"model_9_ensemble\": ensemble_results,\n",
        "                              \"model_10_turkey\": model_10_results}).T\n",
        "model_results.head(10)\n"
      ],
      "execution_count": null,
      "outputs": [
        {
          "output_type": "execute_result",
          "data": {
            "text/html": [
              "<div>\n",
              "<style scoped>\n",
              "    .dataframe tbody tr th:only-of-type {\n",
              "        vertical-align: middle;\n",
              "    }\n",
              "\n",
              "    .dataframe tbody tr th {\n",
              "        vertical-align: top;\n",
              "    }\n",
              "\n",
              "    .dataframe thead th {\n",
              "        text-align: right;\n",
              "    }\n",
              "</style>\n",
              "<table border=\"1\" class=\"dataframe\">\n",
              "  <thead>\n",
              "    <tr style=\"text-align: right;\">\n",
              "      <th></th>\n",
              "      <th>mae</th>\n",
              "      <th>mse</th>\n",
              "      <th>rmse</th>\n",
              "      <th>mape</th>\n",
              "      <th>mase</th>\n",
              "    </tr>\n",
              "  </thead>\n",
              "  <tbody>\n",
              "    <tr>\n",
              "      <th>naive_model</th>\n",
              "      <td>567.980225</td>\n",
              "      <td>1.147547e+06</td>\n",
              "      <td>1071.236206</td>\n",
              "      <td>2.516525</td>\n",
              "      <td>0.999570</td>\n",
              "    </tr>\n",
              "    <tr>\n",
              "      <th>model_1_dense_w7_h1</th>\n",
              "      <td>568.549805</td>\n",
              "      <td>1.172588e+06</td>\n",
              "      <td>1082.860840</td>\n",
              "      <td>2.549229</td>\n",
              "      <td>0.998785</td>\n",
              "    </tr>\n",
              "    <tr>\n",
              "      <th>model_2_dense_w30_h1</th>\n",
              "      <td>658.028870</td>\n",
              "      <td>1.417081e+06</td>\n",
              "      <td>1190.412109</td>\n",
              "      <td>3.039735</td>\n",
              "      <td>1.150241</td>\n",
              "    </tr>\n",
              "    <tr>\n",
              "      <th>model_3_dense_w30_h7</th>\n",
              "      <td>1228.141724</td>\n",
              "      <td>5.323686e+06</td>\n",
              "      <td>1412.911499</td>\n",
              "      <td>5.469833</td>\n",
              "      <td>2.185409</td>\n",
              "    </tr>\n",
              "    <tr>\n",
              "      <th>model_4_CONV1D</th>\n",
              "      <td>570.399353</td>\n",
              "      <td>1.182763e+06</td>\n",
              "      <td>1087.549194</td>\n",
              "      <td>2.545572</td>\n",
              "      <td>1.002034</td>\n",
              "    </tr>\n",
              "    <tr>\n",
              "      <th>model_5_LSTM</th>\n",
              "      <td>572.903320</td>\n",
              "      <td>1.178628e+06</td>\n",
              "      <td>1085.646118</td>\n",
              "      <td>2.583863</td>\n",
              "      <td>1.006432</td>\n",
              "    </tr>\n",
              "    <tr>\n",
              "      <th>model_6_multivariate</th>\n",
              "      <td>566.300476</td>\n",
              "      <td>1.149530e+06</td>\n",
              "      <td>1072.161255</td>\n",
              "      <td>2.561740</td>\n",
              "      <td>0.994833</td>\n",
              "    </tr>\n",
              "    <tr>\n",
              "      <th>model_10_turkey</th>\n",
              "      <td>17106.128906</td>\n",
              "      <td>6.127247e+08</td>\n",
              "      <td>23668.271484</td>\n",
              "      <td>121.032799</td>\n",
              "      <td>26.471788</td>\n",
              "    </tr>\n",
              "  </tbody>\n",
              "</table>\n",
              "</div>"
            ],
            "text/plain": [
              "                               mae           mse  ...        mape       mase\n",
              "naive_model             567.980225  1.147547e+06  ...    2.516525   0.999570\n",
              "model_1_dense_w7_h1     568.549805  1.172588e+06  ...    2.549229   0.998785\n",
              "model_2_dense_w30_h1    658.028870  1.417081e+06  ...    3.039735   1.150241\n",
              "model_3_dense_w30_h7   1228.141724  5.323686e+06  ...    5.469833   2.185409\n",
              "model_4_CONV1D          570.399353  1.182763e+06  ...    2.545572   1.002034\n",
              "model_5_LSTM            572.903320  1.178628e+06  ...    2.583863   1.006432\n",
              "model_6_multivariate    566.300476  1.149530e+06  ...    2.561740   0.994833\n",
              "model_10_turkey       17106.128906  6.127247e+08  ...  121.032799  26.471788\n",
              "\n",
              "[8 rows x 5 columns]"
            ]
          },
          "metadata": {
            "tags": []
          },
          "execution_count": 311
        }
      ]
    },
    {
      "cell_type": "code",
      "metadata": {
        "colab": {
          "base_uri": "https://localhost:8080/",
          "height": 404
        },
        "id": "Cbb84mAu8WO_",
        "outputId": "c165f043-41ab-4781-f705-47ebaa23a70c"
      },
      "source": [
        "\n",
        "model_results[[\"mae\", \"mse\"]].sort_values(\"mae\").plot(kind =\"bar\")"
      ],
      "execution_count": null,
      "outputs": [
        {
          "output_type": "execute_result",
          "data": {
            "text/plain": [
              "<matplotlib.axes._subplots.AxesSubplot at 0x7fba6db16a10>"
            ]
          },
          "metadata": {
            "tags": []
          },
          "execution_count": 312
        },
        {
          "output_type": "display_data",
          "data": {
            "image/png": "[encoded data removed]",
            "text/plain": [
              "<Figure size 432x288 with 1 Axes>"
            ]
          },
          "metadata": {
            "tags": [],
            "needs_background": "light"
          }
        }
      ]
    },
    {
      "cell_type": "code",
      "metadata": {
        "id": "aKh0kRhb8r6r"
      },
      "source": [
        "model_results = pd.DataFrame(minmax_scale(model_results[[\"mae\", \"mse\"]]), columns=[[\"mae\", \"mse\"]], index = model_results.index)"
      ],
      "execution_count": null,
      "outputs": []
    },
    {
      "cell_type": "code",
      "metadata": {
        "colab": {
          "base_uri": "https://localhost:8080/",
          "height": 294
        },
        "id": "UkuvjRa_-qfA",
        "outputId": "a913a593-30e3-4fb1-df99-2ff74be4be95"
      },
      "source": [
        "model_results"
      ],
      "execution_count": null,
      "outputs": [
        {
          "output_type": "execute_result",
          "data": {
            "text/html": [
              "<div>\n",
              "<style scoped>\n",
              "    .dataframe tbody tr th:only-of-type {\n",
              "        vertical-align: middle;\n",
              "    }\n",
              "\n",
              "    .dataframe tbody tr th {\n",
              "        vertical-align: top;\n",
              "    }\n",
              "\n",
              "    .dataframe thead tr th {\n",
              "        text-align: left;\n",
              "    }\n",
              "</style>\n",
              "<table border=\"1\" class=\"dataframe\">\n",
              "  <thead>\n",
              "    <tr>\n",
              "      <th></th>\n",
              "      <th>mae</th>\n",
              "      <th>mse</th>\n",
              "    </tr>\n",
              "  </thead>\n",
              "  <tbody>\n",
              "    <tr>\n",
              "      <th>naive_model</th>\n",
              "      <td>0.000102</td>\n",
              "      <td>0.000000</td>\n",
              "    </tr>\n",
              "    <tr>\n",
              "      <th>model_1_dense_w7_h1</th>\n",
              "      <td>0.000136</td>\n",
              "      <td>0.000041</td>\n",
              "    </tr>\n",
              "    <tr>\n",
              "      <th>model_2_dense_w30_h1</th>\n",
              "      <td>0.005546</td>\n",
              "      <td>0.000441</td>\n",
              "    </tr>\n",
              "    <tr>\n",
              "      <th>model_3_dense_w30_h7</th>\n",
              "      <td>0.040015</td>\n",
              "      <td>0.006828</td>\n",
              "    </tr>\n",
              "    <tr>\n",
              "      <th>model_4_CONV1D</th>\n",
              "      <td>0.000248</td>\n",
              "      <td>0.000058</td>\n",
              "    </tr>\n",
              "    <tr>\n",
              "      <th>model_5_LSTM</th>\n",
              "      <td>0.000399</td>\n",
              "      <td>0.000051</td>\n",
              "    </tr>\n",
              "    <tr>\n",
              "      <th>model_6_multivariate</th>\n",
              "      <td>0.000000</td>\n",
              "      <td>0.000003</td>\n",
              "    </tr>\n",
              "    <tr>\n",
              "      <th>model_10_turkey</th>\n",
              "      <td>1.000000</td>\n",
              "      <td>1.000000</td>\n",
              "    </tr>\n",
              "  </tbody>\n",
              "</table>\n",
              "</div>"
            ],
            "text/plain": [
              "                           mae       mse\n",
              "naive_model           0.000102  0.000000\n",
              "model_1_dense_w7_h1   0.000136  0.000041\n",
              "model_2_dense_w30_h1  0.005546  0.000441\n",
              "model_3_dense_w30_h7  0.040015  0.006828\n",
              "model_4_CONV1D        0.000248  0.000058\n",
              "model_5_LSTM          0.000399  0.000051\n",
              "model_6_multivariate  0.000000  0.000003\n",
              "model_10_turkey       1.000000  1.000000"
            ]
          },
          "metadata": {
            "tags": []
          },
          "execution_count": 310
        }
      ]
    },
    {
      "cell_type": "code",
      "metadata": {
        "id": "wGuvFRLa-s8K"
      },
      "source": [
        ""
      ],
      "execution_count": null,
      "outputs": []
    }
  ]
}